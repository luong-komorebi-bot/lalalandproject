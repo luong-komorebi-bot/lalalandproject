{
 "cells": [
  {
   "cell_type": "code",
   "execution_count": 4,
   "metadata": {},
   "outputs": [
    {
     "name": "stdout",
     "output_type": "stream",
     "text": [
      "   event_type  adlist_id\n",
      "4       CLICK   62789145\n",
      "5       CLICK   63152870\n",
      "6       CLICK   62120104\n",
      "7       CLICK   62976703\n",
      "9       CLICK   62766791\n",
      "10      CLICK   63028814\n",
      "11      CLICK   63052525\n",
      "12      CLICK   63052162\n",
      "13      CLICK   61807320\n",
      "16      CLICK   63145631\n"
     ]
    }
   ],
   "source": [
    "import csv\n",
    "import os.path\n",
    "import numpy as np\n",
    "import dask.dataframe as dd\n",
    "\n",
    "\n",
    "path = \"./Downloads/Properties/s118VjgBnWEG.txt\"\n",
    "path2= \"./Downloads/Properties/s118c8gYKmRI\"\n",
    "# import pandas as pd\n",
    "\n",
    "data=pd.read_json(path,lines=True)\n",
    "data=data[['event_type','adlist_id']]\n",
    "data = data[(data.event_type == \"CLICK\")]\n",
    "df1 = pd.DataFrame(data, columns = ['event_type', 'adlist_id'])\n",
    "\n",
    "# #data: [83208 rows x 2 columns]\n",
    "# print(df1.head(10))\n",
    "\n",
    "\n",
    "print(df1.head(10))\n",
    "\n",
    "\n"
   ]
  },
  {
   "cell_type": "code",
   "execution_count": null,
   "metadata": {},
   "outputs": [],
   "source": [
    "#READ DATA THAT DESCRIBES ITEM IN DETAILS"
   ]
  },
  {
   "cell_type": "code",
   "execution_count": null,
   "metadata": {},
   "outputs": [],
   "source": [
    "\n",
    "\n",
    "data2=pd.read_json(path2, lines=True)\n",
    "data2=data2[['ad_id','category','category_name','list_id','city']]\n",
    "data2.rename(columns={\"ad_id\":\"adlist_id\"})\n",
    "df2 = pd.DataFrame(data2)\n",
    "# print(df2.columns)\n",
    "print(df2.sample(10))\n",
    "# print(df2.shape) (920475, 4)\n",
    "\n",
    "\n",
    "            \n",
    "\n",
    "\n",
    "            "
   ]
  },
  {
   "cell_type": "code",
   "execution_count": null,
   "metadata": {},
   "outputs": [],
   "source": [
    "#JOIN TWO DATASETS TOGETHER BASED ON LIST_ID, WHICH IS THE ID OF THE ITEM"
   ]
  },
  {
   "cell_type": "code",
   "execution_count": null,
   "metadata": {},
   "outputs": [],
   "source": [
    "df3 = pd.merge(df1, df2, on='list_id')\n",
    "print(df3.sample(2))"
   ]
  },
  {
   "cell_type": "code",
   "execution_count": null,
   "metadata": {},
   "outputs": [],
   "source": [
    "#GROUP ITEMS BASED ON:\n",
    "#1. CITY & CITY_ID: ONLY CHOOSE ITEM THAT'S WITHIN THE LOCATION CHOSEN BY THE USER\n",
    "#2. CITY: ONLY CHOSE ITEM IN THE CATEGORY CHOSEN BY USER\n",
    "#3. EVEN.TYPE: COUNT THE NUMBER OF CLICKS FOR EACH ITEM TOO SEE WHICH ITEM HAS THE MOST CLICKS\n",
    "#4. SORT IN ASCENDING ORDER "
   ]
  },
  {
   "cell_type": "code",
   "execution_count": null,
   "metadata": {},
   "outputs": [],
   "source": [
    "item_list=df3.groupby(by=['city','city_id','category','list_id'])['event_type'].count().sort_values(ascending=False)"
   ]
  },
  {
   "cell_type": "code",
   "execution_count": null,
   "metadata": {},
   "outputs": [],
   "source": [
    "#CHOSE THE FIRST 10 ITEMS WITH THE MOST CLICKS "
   ]
  },
  {
   "cell_type": "code",
   "execution_count": null,
   "metadata": {},
   "outputs": [],
   "source": [
    "print(iten_list.head(10))"
   ]
  }
 ],
 "metadata": {
  "kernelspec": {
   "display_name": "Python 3",
   "language": "python",
   "name": "python3"
  },
  "language_info": {
   "codemirror_mode": {
    "name": "ipython",
    "version": 3
   },
   "file_extension": ".py",
   "mimetype": "text/x-python",
   "name": "python",
   "nbconvert_exporter": "python",
   "pygments_lexer": "ipython3",
   "version": "3.7.3"
  }
 },
 "nbformat": 4,
 "nbformat_minor": 2
}
