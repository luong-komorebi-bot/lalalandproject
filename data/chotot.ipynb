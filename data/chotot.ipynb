{
  "nbformat": 4,
  "nbformat_minor": 0,
  "metadata": {
    "colab": {
      "name": "chotot.ipynb",
      "provenance": [],
      "collapsed_sections": [
        "yk4rjJAHhzv5",
        "dGN7z8dGiJCK"
      ],
      "toc_visible": true,
      "machine_shape": "hm"
    },
    "kernelspec": {
      "name": "python3",
      "display_name": "Python 3"
    },
    "accelerator": "GPU",
    "widgets": {
      "application/vnd.jupyter.widget-state+json": {
        "9cbe26ceff6d4f20841bac333956a2dd": {
          "model_module": "@jupyter-widgets/controls",
          "model_name": "HBoxModel",
          "state": {
            "_view_name": "HBoxView",
            "_dom_classes": [],
            "_model_name": "HBoxModel",
            "_view_module": "@jupyter-widgets/controls",
            "_model_module_version": "1.5.0",
            "_view_count": null,
            "_view_module_version": "1.5.0",
            "box_style": "",
            "layout": "IPY_MODEL_f7883a31b3a04bf395c1d01e44e66164",
            "_model_module": "@jupyter-widgets/controls",
            "children": [
              "IPY_MODEL_41f6d57946e0440a9987986a929093a5",
              "IPY_MODEL_60ea68fe27664280b74fad601f0cf9b7"
            ]
          }
        },
        "f7883a31b3a04bf395c1d01e44e66164": {
          "model_module": "@jupyter-widgets/base",
          "model_name": "LayoutModel",
          "state": {
            "_view_name": "LayoutView",
            "grid_template_rows": null,
            "right": null,
            "justify_content": null,
            "_view_module": "@jupyter-widgets/base",
            "overflow": null,
            "_model_module_version": "1.2.0",
            "_view_count": null,
            "flex_flow": null,
            "width": null,
            "min_width": null,
            "border": null,
            "align_items": null,
            "bottom": null,
            "_model_module": "@jupyter-widgets/base",
            "top": null,
            "grid_column": null,
            "overflow_y": null,
            "overflow_x": null,
            "grid_auto_flow": null,
            "grid_area": null,
            "grid_template_columns": null,
            "flex": null,
            "_model_name": "LayoutModel",
            "justify_items": null,
            "grid_row": null,
            "max_height": null,
            "align_content": null,
            "visibility": null,
            "align_self": null,
            "height": null,
            "min_height": null,
            "padding": null,
            "grid_auto_rows": null,
            "grid_gap": null,
            "max_width": null,
            "order": null,
            "_view_module_version": "1.2.0",
            "grid_template_areas": null,
            "object_position": null,
            "object_fit": null,
            "grid_auto_columns": null,
            "margin": null,
            "display": null,
            "left": null
          }
        },
        "41f6d57946e0440a9987986a929093a5": {
          "model_module": "@jupyter-widgets/controls",
          "model_name": "IntProgressModel",
          "state": {
            "_view_name": "ProgressView",
            "style": "IPY_MODEL_31ee1bf31f8f4a739b7c67bfd949790d",
            "_dom_classes": [],
            "description": "",
            "_model_name": "IntProgressModel",
            "bar_style": "success",
            "max": 50,
            "_view_module": "@jupyter-widgets/controls",
            "_model_module_version": "1.5.0",
            "value": 50,
            "_view_count": null,
            "_view_module_version": "1.5.0",
            "orientation": "horizontal",
            "min": 0,
            "description_tooltip": null,
            "_model_module": "@jupyter-widgets/controls",
            "layout": "IPY_MODEL_2a7cbc1f12714c36943c30546a47b056"
          }
        },
        "60ea68fe27664280b74fad601f0cf9b7": {
          "model_module": "@jupyter-widgets/controls",
          "model_name": "HTMLModel",
          "state": {
            "_view_name": "HTMLView",
            "style": "IPY_MODEL_248d99e912424c3faa5be31d8209c654",
            "_dom_classes": [],
            "description": "",
            "_model_name": "HTMLModel",
            "placeholder": "​",
            "_view_module": "@jupyter-widgets/controls",
            "_model_module_version": "1.5.0",
            "value": "100% 50/50 [00:37&lt;00:00,  1.33it/s]",
            "_view_count": null,
            "_view_module_version": "1.5.0",
            "description_tooltip": null,
            "_model_module": "@jupyter-widgets/controls",
            "layout": "IPY_MODEL_56297de7dbba42489b376f1e4c0154ed"
          }
        },
        "31ee1bf31f8f4a739b7c67bfd949790d": {
          "model_module": "@jupyter-widgets/controls",
          "model_name": "ProgressStyleModel",
          "state": {
            "_view_name": "StyleView",
            "_model_name": "ProgressStyleModel",
            "description_width": "",
            "_view_module": "@jupyter-widgets/base",
            "_model_module_version": "1.5.0",
            "_view_count": null,
            "_view_module_version": "1.2.0",
            "bar_color": null,
            "_model_module": "@jupyter-widgets/controls"
          }
        },
        "2a7cbc1f12714c36943c30546a47b056": {
          "model_module": "@jupyter-widgets/base",
          "model_name": "LayoutModel",
          "state": {
            "_view_name": "LayoutView",
            "grid_template_rows": null,
            "right": null,
            "justify_content": null,
            "_view_module": "@jupyter-widgets/base",
            "overflow": null,
            "_model_module_version": "1.2.0",
            "_view_count": null,
            "flex_flow": null,
            "width": null,
            "min_width": null,
            "border": null,
            "align_items": null,
            "bottom": null,
            "_model_module": "@jupyter-widgets/base",
            "top": null,
            "grid_column": null,
            "overflow_y": null,
            "overflow_x": null,
            "grid_auto_flow": null,
            "grid_area": null,
            "grid_template_columns": null,
            "flex": null,
            "_model_name": "LayoutModel",
            "justify_items": null,
            "grid_row": null,
            "max_height": null,
            "align_content": null,
            "visibility": null,
            "align_self": null,
            "height": null,
            "min_height": null,
            "padding": null,
            "grid_auto_rows": null,
            "grid_gap": null,
            "max_width": null,
            "order": null,
            "_view_module_version": "1.2.0",
            "grid_template_areas": null,
            "object_position": null,
            "object_fit": null,
            "grid_auto_columns": null,
            "margin": null,
            "display": null,
            "left": null
          }
        },
        "248d99e912424c3faa5be31d8209c654": {
          "model_module": "@jupyter-widgets/controls",
          "model_name": "DescriptionStyleModel",
          "state": {
            "_view_name": "StyleView",
            "_model_name": "DescriptionStyleModel",
            "description_width": "",
            "_view_module": "@jupyter-widgets/base",
            "_model_module_version": "1.5.0",
            "_view_count": null,
            "_view_module_version": "1.2.0",
            "_model_module": "@jupyter-widgets/controls"
          }
        },
        "56297de7dbba42489b376f1e4c0154ed": {
          "model_module": "@jupyter-widgets/base",
          "model_name": "LayoutModel",
          "state": {
            "_view_name": "LayoutView",
            "grid_template_rows": null,
            "right": null,
            "justify_content": null,
            "_view_module": "@jupyter-widgets/base",
            "overflow": null,
            "_model_module_version": "1.2.0",
            "_view_count": null,
            "flex_flow": null,
            "width": null,
            "min_width": null,
            "border": null,
            "align_items": null,
            "bottom": null,
            "_model_module": "@jupyter-widgets/base",
            "top": null,
            "grid_column": null,
            "overflow_y": null,
            "overflow_x": null,
            "grid_auto_flow": null,
            "grid_area": null,
            "grid_template_columns": null,
            "flex": null,
            "_model_name": "LayoutModel",
            "justify_items": null,
            "grid_row": null,
            "max_height": null,
            "align_content": null,
            "visibility": null,
            "align_self": null,
            "height": null,
            "min_height": null,
            "padding": null,
            "grid_auto_rows": null,
            "grid_gap": null,
            "max_width": null,
            "order": null,
            "_view_module_version": "1.2.0",
            "grid_template_areas": null,
            "object_position": null,
            "object_fit": null,
            "grid_auto_columns": null,
            "margin": null,
            "display": null,
            "left": null
          }
        }
      }
    }
  },
  "cells": [
    {
      "cell_type": "code",
      "metadata": {
        "id": "GUa7mcRa__Ta",
        "colab_type": "code",
        "colab": {}
      },
      "source": [
        "import pandas as pd\n",
        "import numpy as np\n",
        "import re\n",
        "import glob\n",
        "# import dask.array as da   \n",
        "# import dask.dataframe as dd\n",
        "\n",
        "base_path = './drive/My Drive/coderschool/'"
      ],
      "execution_count": 0,
      "outputs": []
    },
    {
      "cell_type": "code",
      "metadata": {
        "id": "m3l6-o4p0utU",
        "colab_type": "code",
        "outputId": "d2965df8-f419-4268-c3d7-d832586b7d56",
        "colab": {
          "base_uri": "https://localhost:8080/",
          "height": 121
        }
      },
      "source": [
        "from google.colab import drive\n",
        "drive.mount('/content/drive')"
      ],
      "execution_count": 2,
      "outputs": [
        {
          "output_type": "stream",
          "text": [
            "Go to this URL in a browser: https://accounts.google.com/o/oauth2/auth?client_id=947318989803-6bn6qk8qdgf4n4g3pfee6491hc0brc4i.apps.googleusercontent.com&redirect_uri=urn%3aietf%3awg%3aoauth%3a2.0%3aoob&response_type=code&scope=email%20https%3a%2f%2fwww.googleapis.com%2fauth%2fdocs.test%20https%3a%2f%2fwww.googleapis.com%2fauth%2fdrive%20https%3a%2f%2fwww.googleapis.com%2fauth%2fdrive.photos.readonly%20https%3a%2f%2fwww.googleapis.com%2fauth%2fpeopleapi.readonly\n",
            "\n",
            "Enter your authorization code:\n",
            "··········\n",
            "Mounted at /content/drive\n"
          ],
          "name": "stdout"
        }
      ]
    },
    {
      "cell_type": "markdown",
      "metadata": {
        "id": "yk4rjJAHhzv5",
        "colab_type": "text"
      },
      "source": [
        "# Preprocessing"
      ]
    },
    {
      "cell_type": "markdown",
      "metadata": {
        "id": "iT4KX45kiCTC",
        "colab_type": "text"
      },
      "source": [
        "## Ads"
      ]
    },
    {
      "cell_type": "code",
      "metadata": {
        "id": "vDNi_zIhmGwu",
        "colab_type": "code",
        "colab": {}
      },
      "source": [
        "ad = pd.read_json(base_path + '/ads (1)', lines=True)\n"
      ],
      "execution_count": 0,
      "outputs": []
    },
    {
      "cell_type": "code",
      "metadata": {
        "id": "fGifvsjOBSiY",
        "colab_type": "code",
        "outputId": "3e0b7417-3395-4d50-964a-9d8c73b77739",
        "colab": {
          "base_uri": "https://localhost:8080/",
          "height": 437
        }
      },
      "source": [
        "ad.info()"
      ],
      "execution_count": 0,
      "outputs": [
        {
          "output_type": "stream",
          "text": [
            "<class 'pandas.core.frame.DataFrame'>\n",
            "RangeIndex: 920475 entries, 0 to 920474\n",
            "Data columns (total 20 columns):\n",
            "ad_id               920475 non-null int64\n",
            "category            920475 non-null int64\n",
            "category_name       920475 non-null object\n",
            "list_id             920475 non-null int64\n",
            "subject             920475 non-null object\n",
            "number_of_images    920475 non-null int64\n",
            "price               869904 non-null float64\n",
            "company_ad          920475 non-null bool\n",
            "seller_type         920475 non-null object\n",
            "on_listing          920475 non-null bool\n",
            "in_shop             920475 non-null bool\n",
            "city                920467 non-null object\n",
            "city_id             920467 non-null float64\n",
            "region              918444 non-null object\n",
            "region_id           918444 non-null float64\n",
            "district            919997 non-null object\n",
            "ward                800249 non-null object\n",
            "shop_id             40333 non-null float64\n",
            "address             199377 non-null object\n",
            "street              165850 non-null object\n",
            "dtypes: bool(3), float64(4), int64(4), object(9)\n",
            "memory usage: 122.0+ MB\n"
          ],
          "name": "stdout"
        }
      ]
    },
    {
      "cell_type": "code",
      "metadata": {
        "id": "OI1ho3b1ei48",
        "colab_type": "code",
        "outputId": "9bc0fe76-4c62-472b-9514-d6de3ed3888c",
        "colab": {
          "base_uri": "https://localhost:8080/",
          "height": 1000
        }
      },
      "source": [
        "ads = ads[(ads['category'] >= 5000) & (ads['category'] < 6000)]\n",
        "ads"
      ],
      "execution_count": 0,
      "outputs": [
        {
          "output_type": "execute_result",
          "data": {
            "text/html": [
              "<div>\n",
              "<style scoped>\n",
              "    .dataframe tbody tr th:only-of-type {\n",
              "        vertical-align: middle;\n",
              "    }\n",
              "\n",
              "    .dataframe tbody tr th {\n",
              "        vertical-align: top;\n",
              "    }\n",
              "\n",
              "    .dataframe thead th {\n",
              "        text-align: right;\n",
              "    }\n",
              "</style>\n",
              "<table border=\"1\" class=\"dataframe\">\n",
              "  <thead>\n",
              "    <tr style=\"text-align: right;\">\n",
              "      <th></th>\n",
              "      <th>ad_id</th>\n",
              "      <th>category</th>\n",
              "      <th>category_name</th>\n",
              "      <th>list_id</th>\n",
              "      <th>subject</th>\n",
              "      <th>number_of_images</th>\n",
              "      <th>price</th>\n",
              "      <th>company_ad</th>\n",
              "      <th>seller_type</th>\n",
              "      <th>on_listing</th>\n",
              "      <th>in_shop</th>\n",
              "      <th>city</th>\n",
              "      <th>city_id</th>\n",
              "      <th>region</th>\n",
              "      <th>region_id</th>\n",
              "      <th>district</th>\n",
              "      <th>ward</th>\n",
              "      <th>shop_id</th>\n",
              "      <th>address</th>\n",
              "      <th>street</th>\n",
              "    </tr>\n",
              "  </thead>\n",
              "  <tbody>\n",
              "    <tr>\n",
              "      <th>108781</th>\n",
              "      <td>89054491</td>\n",
              "      <td>5070</td>\n",
              "      <td>Desktop</td>\n",
              "      <td>61308666</td>\n",
              "      <td>Máy bàn chơi h110 g4600 game nguyên bộ 6tr</td>\n",
              "      <td>2</td>\n",
              "      <td>6200000.0</td>\n",
              "      <td>False</td>\n",
              "      <td>private</td>\n",
              "      <td>True</td>\n",
              "      <td>False</td>\n",
              "      <td>Đắk Lắk</td>\n",
              "      <td>9053.0</td>\n",
              "      <td>Tây Nguyên</td>\n",
              "      <td>9.0</td>\n",
              "      <td>NaN</td>\n",
              "      <td>NaN</td>\n",
              "      <td>NaN</td>\n",
              "      <td>NaN</td>\n",
              "      <td>NaN</td>\n",
              "    </tr>\n",
              "    <tr>\n",
              "      <th>108782</th>\n",
              "      <td>88210600</td>\n",
              "      <td>5070</td>\n",
              "      <td>Desktop</td>\n",
              "      <td>60683407</td>\n",
              "      <td>Mua Main PC xác !</td>\n",
              "      <td>0</td>\n",
              "      <td>35000.0</td>\n",
              "      <td>True</td>\n",
              "      <td>pro</td>\n",
              "      <td>True</td>\n",
              "      <td>False</td>\n",
              "      <td>An Giang</td>\n",
              "      <td>5024.0</td>\n",
              "      <td>Cần Thơ - Tây Nam Bộ</td>\n",
              "      <td>5.0</td>\n",
              "      <td>NaN</td>\n",
              "      <td>NaN</td>\n",
              "      <td>NaN</td>\n",
              "      <td>NaN</td>\n",
              "      <td>NaN</td>\n",
              "    </tr>\n",
              "    <tr>\n",
              "      <th>108783</th>\n",
              "      <td>88686210</td>\n",
              "      <td>5070</td>\n",
              "      <td>Desktop</td>\n",
              "      <td>61036605</td>\n",
              "      <td>Vì cây máy tính hỏng nên mua laptop thừa màn hình</td>\n",
              "      <td>2</td>\n",
              "      <td>300000.0</td>\n",
              "      <td>False</td>\n",
              "      <td>private</td>\n",
              "      <td>True</td>\n",
              "      <td>False</td>\n",
              "      <td>Hưng Yên</td>\n",
              "      <td>1006.0</td>\n",
              "      <td>Các tỉnh lân cận Hà Nội</td>\n",
              "      <td>1.0</td>\n",
              "      <td>NaN</td>\n",
              "      <td>NaN</td>\n",
              "      <td>NaN</td>\n",
              "      <td>NaN</td>\n",
              "      <td>NaN</td>\n",
              "    </tr>\n",
              "    <tr>\n",
              "      <th>108784</th>\n",
              "      <td>88563817</td>\n",
              "      <td>5070</td>\n",
              "      <td>Desktop</td>\n",
              "      <td>60944812</td>\n",
              "      <td>dư 2 màn hình lcd 17 inch wide cần bán lại</td>\n",
              "      <td>5</td>\n",
              "      <td>350000.0</td>\n",
              "      <td>False</td>\n",
              "      <td>private</td>\n",
              "      <td>True</td>\n",
              "      <td>False</td>\n",
              "      <td>Đắk Lắk</td>\n",
              "      <td>9053.0</td>\n",
              "      <td>Tây Nguyên</td>\n",
              "      <td>9.0</td>\n",
              "      <td>NaN</td>\n",
              "      <td>NaN</td>\n",
              "      <td>NaN</td>\n",
              "      <td>NaN</td>\n",
              "      <td>NaN</td>\n",
              "    </tr>\n",
              "    <tr>\n",
              "      <th>108785</th>\n",
              "      <td>91484868</td>\n",
              "      <td>5070</td>\n",
              "      <td>Desktop</td>\n",
              "      <td>63181919</td>\n",
              "      <td>Cần mua 10 bộ máy tính cor2, LCD 17 ich</td>\n",
              "      <td>3</td>\n",
              "      <td>500000.0</td>\n",
              "      <td>False</td>\n",
              "      <td>private</td>\n",
              "      <td>True</td>\n",
              "      <td>False</td>\n",
              "      <td>Tp Hồ Chí Minh</td>\n",
              "      <td>13000.0</td>\n",
              "      <td>Tp Hồ Chí Minh</td>\n",
              "      <td>13.0</td>\n",
              "      <td>Quận 1</td>\n",
              "      <td>Phường Đa Kao</td>\n",
              "      <td>NaN</td>\n",
              "      <td>NaN</td>\n",
              "      <td>NaN</td>\n",
              "    </tr>\n",
              "    <tr>\n",
              "      <th>...</th>\n",
              "      <td>...</td>\n",
              "      <td>...</td>\n",
              "      <td>...</td>\n",
              "      <td>...</td>\n",
              "      <td>...</td>\n",
              "      <td>...</td>\n",
              "      <td>...</td>\n",
              "      <td>...</td>\n",
              "      <td>...</td>\n",
              "      <td>...</td>\n",
              "      <td>...</td>\n",
              "      <td>...</td>\n",
              "      <td>...</td>\n",
              "      <td>...</td>\n",
              "      <td>...</td>\n",
              "      <td>...</td>\n",
              "      <td>...</td>\n",
              "      <td>...</td>\n",
              "      <td>...</td>\n",
              "      <td>...</td>\n",
              "    </tr>\n",
              "    <tr>\n",
              "      <th>835114</th>\n",
              "      <td>90835489</td>\n",
              "      <td>5020</td>\n",
              "      <td>TV, Speakers, MP3 players</td>\n",
              "      <td>62666575</td>\n",
              "      <td>Vang cơ karaoke FIONEER</td>\n",
              "      <td>2</td>\n",
              "      <td>600000.0</td>\n",
              "      <td>True</td>\n",
              "      <td>pro</td>\n",
              "      <td>True</td>\n",
              "      <td>False</td>\n",
              "      <td>Ninh Thuận</td>\n",
              "      <td>7045.0</td>\n",
              "      <td>Nam Trung Bộ</td>\n",
              "      <td>7.0</td>\n",
              "      <td>Thành phố Phan Rang-Tháp Chàm</td>\n",
              "      <td>Phường Mỹ Hải</td>\n",
              "      <td>NaN</td>\n",
              "      <td>NaN</td>\n",
              "      <td>NaN</td>\n",
              "    </tr>\n",
              "    <tr>\n",
              "      <th>835115</th>\n",
              "      <td>89261164</td>\n",
              "      <td>5020</td>\n",
              "      <td>TV, Speakers, MP3 players</td>\n",
              "      <td>61462470</td>\n",
              "      <td>Tai nghe Nokia HS-43</td>\n",
              "      <td>4</td>\n",
              "      <td>50000.0</td>\n",
              "      <td>False</td>\n",
              "      <td>private</td>\n",
              "      <td>True</td>\n",
              "      <td>False</td>\n",
              "      <td>Ninh Thuận</td>\n",
              "      <td>7045.0</td>\n",
              "      <td>Nam Trung Bộ</td>\n",
              "      <td>7.0</td>\n",
              "      <td>Thành phố Phan Rang-Tháp Chàm</td>\n",
              "      <td>Phường Đài Sơn</td>\n",
              "      <td>NaN</td>\n",
              "      <td>NaN</td>\n",
              "      <td>NaN</td>\n",
              "    </tr>\n",
              "    <tr>\n",
              "      <th>835116</th>\n",
              "      <td>90908913</td>\n",
              "      <td>5020</td>\n",
              "      <td>TV, Speakers, MP3 players</td>\n",
              "      <td>62726601</td>\n",
              "      <td>Vang cơ hàng zin Trung Quốc điện 220v</td>\n",
              "      <td>6</td>\n",
              "      <td>300000.0</td>\n",
              "      <td>True</td>\n",
              "      <td>pro</td>\n",
              "      <td>True</td>\n",
              "      <td>False</td>\n",
              "      <td>Ninh Thuận</td>\n",
              "      <td>7045.0</td>\n",
              "      <td>Nam Trung Bộ</td>\n",
              "      <td>7.0</td>\n",
              "      <td>Thành phố Phan Rang-Tháp Chàm</td>\n",
              "      <td>Phường Mỹ Hải</td>\n",
              "      <td>NaN</td>\n",
              "      <td>NaN</td>\n",
              "      <td>NaN</td>\n",
              "    </tr>\n",
              "    <tr>\n",
              "      <th>835117</th>\n",
              "      <td>89664243</td>\n",
              "      <td>5020</td>\n",
              "      <td>TV, Speakers, MP3 players</td>\n",
              "      <td>61766794</td>\n",
              "      <td>Loa JBW của Anh Quốc</td>\n",
              "      <td>2</td>\n",
              "      <td>1800000.0</td>\n",
              "      <td>False</td>\n",
              "      <td>private</td>\n",
              "      <td>True</td>\n",
              "      <td>False</td>\n",
              "      <td>Ninh Thuận</td>\n",
              "      <td>7045.0</td>\n",
              "      <td>Nam Trung Bộ</td>\n",
              "      <td>7.0</td>\n",
              "      <td>Thành phố Phan Rang-Tháp Chàm</td>\n",
              "      <td>Phường Phước Mỹ</td>\n",
              "      <td>NaN</td>\n",
              "      <td>NaN</td>\n",
              "      <td>NaN</td>\n",
              "    </tr>\n",
              "    <tr>\n",
              "      <th>835118</th>\n",
              "      <td>90894381</td>\n",
              "      <td>5020</td>\n",
              "      <td>TV, Speakers, MP3 players</td>\n",
              "      <td>62715396</td>\n",
              "      <td>Tẩu nghe nhạc thu bluetooth G7 phát sóng FM</td>\n",
              "      <td>4</td>\n",
              "      <td>100000.0</td>\n",
              "      <td>True</td>\n",
              "      <td>pro</td>\n",
              "      <td>True</td>\n",
              "      <td>False</td>\n",
              "      <td>Ninh Thuận</td>\n",
              "      <td>7045.0</td>\n",
              "      <td>Nam Trung Bộ</td>\n",
              "      <td>7.0</td>\n",
              "      <td>Thành phố Phan Rang-Tháp Chàm</td>\n",
              "      <td>Phường Mỹ Hải</td>\n",
              "      <td>NaN</td>\n",
              "      <td>NaN</td>\n",
              "      <td>NaN</td>\n",
              "    </tr>\n",
              "  </tbody>\n",
              "</table>\n",
              "<p>307297 rows × 20 columns</p>\n",
              "</div>"
            ],
            "text/plain": [
              "           ad_id  category              category_name  ...  shop_id address  street\n",
              "108781  89054491      5070                    Desktop  ...      NaN     NaN     NaN\n",
              "108782  88210600      5070                    Desktop  ...      NaN     NaN     NaN\n",
              "108783  88686210      5070                    Desktop  ...      NaN     NaN     NaN\n",
              "108784  88563817      5070                    Desktop  ...      NaN     NaN     NaN\n",
              "108785  91484868      5070                    Desktop  ...      NaN     NaN     NaN\n",
              "...          ...       ...                        ...  ...      ...     ...     ...\n",
              "835114  90835489      5020  TV, Speakers, MP3 players  ...      NaN     NaN     NaN\n",
              "835115  89261164      5020  TV, Speakers, MP3 players  ...      NaN     NaN     NaN\n",
              "835116  90908913      5020  TV, Speakers, MP3 players  ...      NaN     NaN     NaN\n",
              "835117  89664243      5020  TV, Speakers, MP3 players  ...      NaN     NaN     NaN\n",
              "835118  90894381      5020  TV, Speakers, MP3 players  ...      NaN     NaN     NaN\n",
              "\n",
              "[307297 rows x 20 columns]"
            ]
          },
          "metadata": {
            "tags": []
          },
          "execution_count": 10
        }
      ]
    },
    {
      "cell_type": "code",
      "metadata": {
        "id": "37iUaSwOfNic",
        "colab_type": "code",
        "colab": {}
      },
      "source": [
        "ad_id = ads['ad_id']"
      ],
      "execution_count": 0,
      "outputs": []
    },
    {
      "cell_type": "code",
      "metadata": {
        "id": "Z-nlXNLpwVb2",
        "colab_type": "code",
        "colab": {}
      },
      "source": [
        "ads['subject'] = ads['subject'].str.lower()"
      ],
      "execution_count": 0,
      "outputs": []
    },
    {
      "cell_type": "code",
      "metadata": {
        "id": "qOAaCIi1euu5",
        "colab_type": "code",
        "colab": {}
      },
      "source": [
        "ads.to_json('./ads.json', orient='records')"
      ],
      "execution_count": 0,
      "outputs": []
    },
    {
      "cell_type": "code",
      "metadata": {
        "id": "FQaEQLqxNoYq",
        "colab_type": "code",
        "outputId": "7af6de3e-7e0d-4b18-fff8-1b1dc8f0189c",
        "colab": {
          "base_uri": "https://localhost:8080/",
          "height": 318
        }
      },
      "source": [
        "category = ads.loc[:, ('category', 'category_name')]\n",
        "category.drop_duplicates(inplace=True)\n",
        "category"
      ],
      "execution_count": 0,
      "outputs": [
        {
          "output_type": "execute_result",
          "data": {
            "text/html": [
              "<div>\n",
              "<style scoped>\n",
              "    .dataframe tbody tr th:only-of-type {\n",
              "        vertical-align: middle;\n",
              "    }\n",
              "\n",
              "    .dataframe tbody tr th {\n",
              "        vertical-align: top;\n",
              "    }\n",
              "\n",
              "    .dataframe thead th {\n",
              "        text-align: right;\n",
              "    }\n",
              "</style>\n",
              "<table border=\"1\" class=\"dataframe\">\n",
              "  <thead>\n",
              "    <tr style=\"text-align: right;\">\n",
              "      <th></th>\n",
              "      <th>category</th>\n",
              "      <th>category_name</th>\n",
              "    </tr>\n",
              "  </thead>\n",
              "  <tbody>\n",
              "    <tr>\n",
              "      <th>108781</th>\n",
              "      <td>5070</td>\n",
              "      <td>Desktop</td>\n",
              "    </tr>\n",
              "    <tr>\n",
              "      <th>135784</th>\n",
              "      <td>5040</td>\n",
              "      <td>Tablets</td>\n",
              "    </tr>\n",
              "    <tr>\n",
              "      <th>233305</th>\n",
              "      <td>5080</td>\n",
              "      <td>Components</td>\n",
              "    </tr>\n",
              "    <tr>\n",
              "      <th>400540</th>\n",
              "      <td>5060</td>\n",
              "      <td>Accessories</td>\n",
              "    </tr>\n",
              "    <tr>\n",
              "      <th>427980</th>\n",
              "      <td>5010</td>\n",
              "      <td>Mobile Phones</td>\n",
              "    </tr>\n",
              "    <tr>\n",
              "      <th>609914</th>\n",
              "      <td>5090</td>\n",
              "      <td>Smart wearables</td>\n",
              "    </tr>\n",
              "    <tr>\n",
              "      <th>662003</th>\n",
              "      <td>5030</td>\n",
              "      <td>Computers, Laptops</td>\n",
              "    </tr>\n",
              "    <tr>\n",
              "      <th>708091</th>\n",
              "      <td>5050</td>\n",
              "      <td>Cameras, Video Cameras</td>\n",
              "    </tr>\n",
              "    <tr>\n",
              "      <th>768099</th>\n",
              "      <td>5020</td>\n",
              "      <td>TV, Speakers, MP3 players</td>\n",
              "    </tr>\n",
              "  </tbody>\n",
              "</table>\n",
              "</div>"
            ],
            "text/plain": [
              "        category              category_name\n",
              "108781      5070                    Desktop\n",
              "135784      5040                    Tablets\n",
              "233305      5080                 Components\n",
              "400540      5060                Accessories\n",
              "427980      5010              Mobile Phones\n",
              "609914      5090            Smart wearables\n",
              "662003      5030         Computers, Laptops\n",
              "708091      5050     Cameras, Video Cameras\n",
              "768099      5020  TV, Speakers, MP3 players"
            ]
          },
          "metadata": {
            "tags": []
          },
          "execution_count": 17
        }
      ]
    },
    {
      "cell_type": "code",
      "metadata": {
        "id": "O1ck24GUQucv",
        "colab_type": "code",
        "outputId": "fbf82746-ef78-4308-d08b-d7bae95a4395",
        "colab": {
          "base_uri": "https://localhost:8080/",
          "height": 318
        }
      },
      "source": [
        "category = category[(category['category'] >= 5000)&(category['category'] < 6000)]\n",
        "category"
      ],
      "execution_count": 0,
      "outputs": [
        {
          "output_type": "execute_result",
          "data": {
            "text/html": [
              "<div>\n",
              "<style scoped>\n",
              "    .dataframe tbody tr th:only-of-type {\n",
              "        vertical-align: middle;\n",
              "    }\n",
              "\n",
              "    .dataframe tbody tr th {\n",
              "        vertical-align: top;\n",
              "    }\n",
              "\n",
              "    .dataframe thead th {\n",
              "        text-align: right;\n",
              "    }\n",
              "</style>\n",
              "<table border=\"1\" class=\"dataframe\">\n",
              "  <thead>\n",
              "    <tr style=\"text-align: right;\">\n",
              "      <th></th>\n",
              "      <th>category</th>\n",
              "      <th>category_name</th>\n",
              "    </tr>\n",
              "  </thead>\n",
              "  <tbody>\n",
              "    <tr>\n",
              "      <th>108781</th>\n",
              "      <td>5070</td>\n",
              "      <td>Desktop</td>\n",
              "    </tr>\n",
              "    <tr>\n",
              "      <th>135784</th>\n",
              "      <td>5040</td>\n",
              "      <td>Tablets</td>\n",
              "    </tr>\n",
              "    <tr>\n",
              "      <th>233305</th>\n",
              "      <td>5080</td>\n",
              "      <td>Components</td>\n",
              "    </tr>\n",
              "    <tr>\n",
              "      <th>400540</th>\n",
              "      <td>5060</td>\n",
              "      <td>Accessories</td>\n",
              "    </tr>\n",
              "    <tr>\n",
              "      <th>427980</th>\n",
              "      <td>5010</td>\n",
              "      <td>Mobile Phones</td>\n",
              "    </tr>\n",
              "    <tr>\n",
              "      <th>609914</th>\n",
              "      <td>5090</td>\n",
              "      <td>Smart wearables</td>\n",
              "    </tr>\n",
              "    <tr>\n",
              "      <th>662003</th>\n",
              "      <td>5030</td>\n",
              "      <td>Computers, Laptops</td>\n",
              "    </tr>\n",
              "    <tr>\n",
              "      <th>708091</th>\n",
              "      <td>5050</td>\n",
              "      <td>Cameras, Video Cameras</td>\n",
              "    </tr>\n",
              "    <tr>\n",
              "      <th>768099</th>\n",
              "      <td>5020</td>\n",
              "      <td>TV, Speakers, MP3 players</td>\n",
              "    </tr>\n",
              "  </tbody>\n",
              "</table>\n",
              "</div>"
            ],
            "text/plain": [
              "        category              category_name\n",
              "108781      5070                    Desktop\n",
              "135784      5040                    Tablets\n",
              "233305      5080                 Components\n",
              "400540      5060                Accessories\n",
              "427980      5010              Mobile Phones\n",
              "609914      5090            Smart wearables\n",
              "662003      5030         Computers, Laptops\n",
              "708091      5050     Cameras, Video Cameras\n",
              "768099      5020  TV, Speakers, MP3 players"
            ]
          },
          "metadata": {
            "tags": []
          },
          "execution_count": 18
        }
      ]
    },
    {
      "cell_type": "code",
      "metadata": {
        "id": "NErp246K1GYg",
        "colab_type": "code",
        "colab": {}
      },
      "source": [
        "category.to_json('./electronic_category.json', orient='records')"
      ],
      "execution_count": 0,
      "outputs": []
    },
    {
      "cell_type": "markdown",
      "metadata": {
        "id": "0tHPu7QZjTOv",
        "colab_type": "text"
      },
      "source": [
        "## Ad_params"
      ]
    },
    {
      "cell_type": "code",
      "metadata": {
        "id": "F5aQ3WpB0z9t",
        "colab_type": "code",
        "colab": {}
      },
      "source": [
        "params = pd.read_json(base_path + '/ad_params', lines=True)\n",
        "\n",
        "params.head(5)"
      ],
      "execution_count": 0,
      "outputs": []
    },
    {
      "cell_type": "code",
      "metadata": {
        "id": "fY4adpDChTiS",
        "colab_type": "code",
        "outputId": "c6d3661d-6184-45f3-faa7-1bce5adb1c71",
        "colab": {
          "base_uri": "https://localhost:8080/",
          "height": 163
        }
      },
      "source": [
        "params.info()"
      ],
      "execution_count": 0,
      "outputs": [
        {
          "output_type": "stream",
          "text": [
            "<class 'pandas.core.frame.DataFrame'>\n",
            "RangeIndex: 8885823 entries, 0 to 8885822\n",
            "Data columns (total 3 columns):\n",
            "ad_id    int64\n",
            "name     object\n",
            "value    object\n",
            "dtypes: int64(1), object(2)\n",
            "memory usage: 203.4+ MB\n"
          ],
          "name": "stdout"
        }
      ]
    },
    {
      "cell_type": "code",
      "metadata": {
        "id": "OaKePCaMfRJZ",
        "colab_type": "code",
        "colab": {}
      },
      "source": [
        "params1 = params[params['ad_id'].isin(ad_id)]"
      ],
      "execution_count": 0,
      "outputs": []
    },
    {
      "cell_type": "code",
      "metadata": {
        "id": "2vBmiv-kkOoT",
        "colab_type": "code",
        "outputId": "e8c411d6-7aaf-48e4-a00b-66352eca029b",
        "colab": {
          "base_uri": "https://localhost:8080/",
          "height": 163
        }
      },
      "source": [
        "params1.info()"
      ],
      "execution_count": 0,
      "outputs": [
        {
          "output_type": "stream",
          "text": [
            "<class 'pandas.core.frame.DataFrame'>\n",
            "Int64Index: 3157154 entries, 0 to 8885820\n",
            "Data columns (total 3 columns):\n",
            "ad_id    int64\n",
            "name     object\n",
            "value    object\n",
            "dtypes: int64(1), object(2)\n",
            "memory usage: 96.3+ MB\n"
          ],
          "name": "stdout"
        }
      ]
    },
    {
      "cell_type": "code",
      "metadata": {
        "id": "C_zdZfCUoNn9",
        "colab_type": "code",
        "outputId": "54eb858a-df96-4fe7-dfc3-ba6c1e791eb8",
        "colab": {
          "base_uri": "https://localhost:8080/",
          "height": 599
        }
      },
      "source": [
        "params['name'].unique()"
      ],
      "execution_count": 0,
      "outputs": [
        {
          "output_type": "execute_result",
          "data": {
            "text/plain": [
              "array(['trade', 'area', 'size', 'street_id', 'condition_ad',\n",
              "       'property_legal_document', 'elt_condition', 'motorbiketype',\n",
              "       'area_v2', 'giveaway', 'auvi_type', 'region_v2', 'rooms',\n",
              "       'address', 'landed_type', 'motorbikemodel', 'regdate', 'ward',\n",
              "       'mobile_color', 'mobile_type', 'accessories_type',\n",
              "       'property_road_condition', 'mobile_model', 'component_type',\n",
              "       'mobile_brand', 'pc_ram', 'mobile_capacity', 'property_status',\n",
              "       'product_id', 'plate', 'street_number', 'max_salary', 'carcolor',\n",
              "       'mileage_v2', 'truckbrand', 'evehiclebrand', 'carorigin',\n",
              "       'toilets', 'pc_cpu', 'mileage', 'itemconsumer', 'pc_model',\n",
              "       'cartype', 'salary_type', 'mfdate', 'carmodel', 'contract_type',\n",
              "       'evehiclemotor', 'pc_drive_capacity', 'motorbikebrand', 'job_type',\n",
              "       'unitnumber', 'pc_vga', 'component_class', 'tablet_screen_size',\n",
              "       'auvi_brand', 'preferred_gender', 'motorbikecapacity',\n",
              "       'commercial_type', 'carseats', 'carbrand', 'elt_warranty', 'fuel',\n",
              "       'tablet_capacity', 'tablet_brand', 'seller_addr', 'min_salary',\n",
              "       'longitude', 'vehiclecolor', 'direction', 'collection_type',\n",
              "       'preferred_working_experience', 'ovehicleorigin', 'projectid',\n",
              "       'pc_brand', 'bicyclesport', 'accessories_class', 'bicyclematerial',\n",
              "       'floors', 'swatch_model', 'property_back_condition', 'birthday',\n",
              "       'company_name', 'desktop_screen_size', 'payment_delivery',\n",
              "       'laptop_screen_size', 'auvi_internet', 'gender', 'auvi_resolution',\n",
              "       'gearbox', 'bicycletype', 'apartment_type', 'tablet_model',\n",
              "       'evehicletype', 'preferred_job_type', 'consumer', 'block',\n",
              "       'elt_lock', 'truckweight', 'evehicleorigin', 'instrument_type',\n",
              "       'working_experience', 'floornumber', 'swatch_type',\n",
              "       'vehicleguarantee', 'balconydirection', 'latitude',\n",
              "       'bicycleorigin', 'swatch_brand', 'pc_drive_type',\n",
              "       'elt_cellular_type', 'ovehicletype', 'bicyclebrand',\n",
              "       'svehicletype', 'projectimages', 'bicyclesize',\n",
              "       'first_time_shop_to_chotot', 'has_original_images', 'busslot',\n",
              "       'deviation'], dtype=object)"
            ]
          },
          "metadata": {
            "tags": []
          },
          "execution_count": 55
        }
      ]
    },
    {
      "cell_type": "code",
      "metadata": {
        "id": "xGXi4RRhkIcq",
        "colab_type": "code",
        "outputId": "b790b93c-86c4-4c08-c023-1c0b1da530b6",
        "colab": {
          "base_uri": "https://localhost:8080/",
          "height": 272
        }
      },
      "source": [
        "params1['name'].unique()"
      ],
      "execution_count": 0,
      "outputs": [
        {
          "output_type": "execute_result",
          "data": {
            "text/plain": [
              "array(['trade', 'area', 'condition_ad', 'elt_condition', 'area_v2',\n",
              "       'giveaway', 'auvi_type', 'ward', 'mobile_color', 'region_v2',\n",
              "       'mobile_type', 'accessories_type', 'mobile_model',\n",
              "       'component_type', 'mobile_brand', 'pc_ram', 'mobile_capacity',\n",
              "       'pc_cpu', 'pc_model', 'pc_drive_capacity', 'pc_vga',\n",
              "       'component_class', 'tablet_screen_size', 'auvi_brand',\n",
              "       'elt_warranty', 'tablet_capacity', 'tablet_brand', 'seller_addr',\n",
              "       'pc_brand', 'accessories_class', 'swatch_model',\n",
              "       'desktop_screen_size', 'payment_delivery', 'laptop_screen_size',\n",
              "       'auvi_internet', 'auvi_resolution', 'tablet_model', 'elt_lock',\n",
              "       'swatch_type', 'swatch_brand', 'pc_drive_type',\n",
              "       'elt_cellular_type', 'latitude', 'first_time_shop_to_chotot',\n",
              "       'longitude', 'has_original_images', 'itemconsumer', 'consumer',\n",
              "       'collection_type'], dtype=object)"
            ]
          },
          "metadata": {
            "tags": []
          },
          "execution_count": 56
        }
      ]
    },
    {
      "cell_type": "code",
      "metadata": {
        "id": "spkLjG8IkW7R",
        "colab_type": "code",
        "colab": {}
      },
      "source": [
        "params1.to_json(base_path + '/ad_params.json', orient='records')"
      ],
      "execution_count": 0,
      "outputs": []
    },
    {
      "cell_type": "markdown",
      "metadata": {
        "id": "dGN7z8dGiJCK",
        "colab_type": "text"
      },
      "source": [
        "## User interactions"
      ]
    },
    {
      "cell_type": "code",
      "metadata": {
        "id": "1r4SFt9nQ6P0",
        "colab_type": "code",
        "outputId": "4ce7ed8d-4ac3-449c-a9cb-61a2763e177a",
        "colab": {
          "base_uri": "https://localhost:8080/",
          "height": 299
        }
      },
      "source": [
        "interactions = pd.read_json(base_path + '/adstats000000000000', lines=True)\n",
        "interactions.head(5)"
      ],
      "execution_count": 0,
      "outputs": [
        {
          "output_type": "execute_result",
          "data": {
            "text/html": [
              "<div>\n",
              "<style scoped>\n",
              "    .dataframe tbody tr th:only-of-type {\n",
              "        vertical-align: middle;\n",
              "    }\n",
              "\n",
              "    .dataframe tbody tr th {\n",
              "        vertical-align: top;\n",
              "    }\n",
              "\n",
              "    .dataframe thead th {\n",
              "        text-align: right;\n",
              "    }\n",
              "</style>\n",
              "<table border=\"1\" class=\"dataframe\">\n",
              "  <thead>\n",
              "    <tr style=\"text-align: right;\">\n",
              "      <th></th>\n",
              "      <th>user_session</th>\n",
              "      <th>user_fingerprint</th>\n",
              "      <th>page_platform</th>\n",
              "      <th>page_number</th>\n",
              "      <th>event_type</th>\n",
              "      <th>event_name</th>\n",
              "      <th>event_server_time</th>\n",
              "      <th>filter_keyword</th>\n",
              "      <th>filter_category_id</th>\n",
              "      <th>filter_region_id</th>\n",
              "      <th>adlist_id</th>\n",
              "      <th>adposition</th>\n",
              "      <th>adplacement</th>\n",
              "      <th>adsource</th>\n",
              "      <th>filter_type</th>\n",
              "      <th>filter_price</th>\n",
              "      <th>filter_brand</th>\n",
              "      <th>filter_model</th>\n",
              "      <th>lead_type</th>\n",
              "    </tr>\n",
              "  </thead>\n",
              "  <tbody>\n",
              "    <tr>\n",
              "      <th>0</th>\n",
              "      <td>1568854267741</td>\n",
              "      <td>e449e2d5af0fb7d6d99e253d89780f32</td>\n",
              "      <td>IOS</td>\n",
              "      <td>0</td>\n",
              "      <td>CLICK</td>\n",
              "      <td>adlisting/ADVIEW_CLICK</td>\n",
              "      <td>2019-09-19 00:51:07.798</td>\n",
              "      <td></td>\n",
              "      <td>5090</td>\n",
              "      <td>12</td>\n",
              "      <td>62936508</td>\n",
              "      <td>69</td>\n",
              "      <td>default</td>\n",
              "      <td>classifyad</td>\n",
              "      <td></td>\n",
              "      <td></td>\n",
              "      <td></td>\n",
              "      <td></td>\n",
              "      <td>NaN</td>\n",
              "    </tr>\n",
              "    <tr>\n",
              "      <th>1</th>\n",
              "      <td>1568854238995</td>\n",
              "      <td>e449e2d5af0fb7d6d99e253d89780f32</td>\n",
              "      <td>IOS</td>\n",
              "      <td>0</td>\n",
              "      <td>CLICK</td>\n",
              "      <td>adlisting/ADVIEW_CLICK</td>\n",
              "      <td>2019-09-19 00:50:39.055</td>\n",
              "      <td></td>\n",
              "      <td>5090</td>\n",
              "      <td>12</td>\n",
              "      <td>62977402</td>\n",
              "      <td>40</td>\n",
              "      <td>default</td>\n",
              "      <td>classifyad</td>\n",
              "      <td></td>\n",
              "      <td></td>\n",
              "      <td></td>\n",
              "      <td></td>\n",
              "      <td>NaN</td>\n",
              "    </tr>\n",
              "    <tr>\n",
              "      <th>2</th>\n",
              "      <td>1568567445875</td>\n",
              "      <td>d59c9611-760e-4c7a-baac-a72ac5000680</td>\n",
              "      <td>IOS</td>\n",
              "      <td>0</td>\n",
              "      <td>CLICK</td>\n",
              "      <td>adlisting/ADVIEW_CLICK</td>\n",
              "      <td>2019-09-15 17:07:37.517</td>\n",
              "      <td></td>\n",
              "      <td>9040</td>\n",
              "      <td>12000</td>\n",
              "      <td>62712109</td>\n",
              "      <td>673</td>\n",
              "      <td>default</td>\n",
              "      <td>classifyad</td>\n",
              "      <td></td>\n",
              "      <td></td>\n",
              "      <td></td>\n",
              "      <td></td>\n",
              "      <td>NaN</td>\n",
              "    </tr>\n",
              "    <tr>\n",
              "      <th>3</th>\n",
              "      <td>1568566309226</td>\n",
              "      <td>d59c9611-760e-4c7a-baac-a72ac5000680</td>\n",
              "      <td>IOS</td>\n",
              "      <td>0</td>\n",
              "      <td>CLICK</td>\n",
              "      <td>adlisting/ADVIEW_CLICK</td>\n",
              "      <td>2019-09-15 16:48:40.904</td>\n",
              "      <td></td>\n",
              "      <td>9040</td>\n",
              "      <td>12000</td>\n",
              "      <td>58809760</td>\n",
              "      <td>50</td>\n",
              "      <td>default</td>\n",
              "      <td>classifyad</td>\n",
              "      <td></td>\n",
              "      <td></td>\n",
              "      <td></td>\n",
              "      <td></td>\n",
              "      <td>NaN</td>\n",
              "    </tr>\n",
              "    <tr>\n",
              "      <th>4</th>\n",
              "      <td>1569067302663</td>\n",
              "      <td>e449e2d5af0fb7d6d99e253d89780f32</td>\n",
              "      <td>IOS</td>\n",
              "      <td>0</td>\n",
              "      <td>LOAD</td>\n",
              "      <td>adview/ADVIEW_LOAD</td>\n",
              "      <td>2019-09-21 12:01:43.359</td>\n",
              "      <td></td>\n",
              "      <td>3090</td>\n",
              "      <td>12</td>\n",
              "      <td>63054990</td>\n",
              "      <td>97</td>\n",
              "      <td>default</td>\n",
              "      <td>classifyad</td>\n",
              "      <td></td>\n",
              "      <td></td>\n",
              "      <td></td>\n",
              "      <td></td>\n",
              "      <td>NaN</td>\n",
              "    </tr>\n",
              "  </tbody>\n",
              "</table>\n",
              "</div>"
            ],
            "text/plain": [
              "    user_session                      user_fingerprint  ... filter_model  lead_type\n",
              "0  1568854267741      e449e2d5af0fb7d6d99e253d89780f32  ...                     NaN\n",
              "1  1568854238995      e449e2d5af0fb7d6d99e253d89780f32  ...                     NaN\n",
              "2  1568567445875  d59c9611-760e-4c7a-baac-a72ac5000680  ...                     NaN\n",
              "3  1568566309226  d59c9611-760e-4c7a-baac-a72ac5000680  ...                     NaN\n",
              "4  1569067302663      e449e2d5af0fb7d6d99e253d89780f32  ...                     NaN\n",
              "\n",
              "[5 rows x 19 columns]"
            ]
          },
          "metadata": {
            "tags": []
          },
          "execution_count": 4
        }
      ]
    },
    {
      "cell_type": "code",
      "metadata": {
        "id": "KTARNL0OIn2D",
        "colab_type": "code",
        "outputId": "40c03c63-6ea3-49c3-bcbc-0c8e465d2859",
        "colab": {
          "base_uri": "https://localhost:8080/",
          "height": 420
        }
      },
      "source": [
        "interactions.info()"
      ],
      "execution_count": 0,
      "outputs": [
        {
          "output_type": "stream",
          "text": [
            "<class 'pandas.core.frame.DataFrame'>\n",
            "RangeIndex: 2648312 entries, 0 to 2648311\n",
            "Data columns (total 19 columns):\n",
            "user_session          object\n",
            "user_fingerprint      object\n",
            "page_platform         object\n",
            "page_number           int64\n",
            "event_type            object\n",
            "event_name            object\n",
            "event_server_time     datetime64[ns]\n",
            "filter_keyword        object\n",
            "filter_category_id    int64\n",
            "filter_region_id      int64\n",
            "adlist_id             int64\n",
            "adposition            int64\n",
            "adplacement           object\n",
            "adsource              object\n",
            "filter_type           object\n",
            "filter_price          object\n",
            "filter_brand          object\n",
            "filter_model          object\n",
            "lead_type             object\n",
            "dtypes: datetime64[ns](1), int64(5), object(13)\n",
            "memory usage: 383.9+ MB\n"
          ],
          "name": "stdout"
        }
      ]
    },
    {
      "cell_type": "code",
      "metadata": {
        "id": "M4NGUKZvHtUF",
        "colab_type": "code",
        "colab": {}
      },
      "source": [
        "interactions.drop(columns=['user_session', 'page_platform', 'page_number', 'adposition', 'adplacement', 'adsource', 'lead_type'], inplace=True)"
      ],
      "execution_count": 0,
      "outputs": []
    },
    {
      "cell_type": "code",
      "metadata": {
        "id": "EidwEZIlIhuL",
        "colab_type": "code",
        "outputId": "505f106a-f502-46ac-8078-95d2363edd80",
        "colab": {
          "base_uri": "https://localhost:8080/",
          "height": 326
        }
      },
      "source": [
        "interactions.info()"
      ],
      "execution_count": 0,
      "outputs": [
        {
          "output_type": "stream",
          "text": [
            "<class 'pandas.core.frame.DataFrame'>\n",
            "Int64Index: 1579333 entries, 9 to 2631465\n",
            "Data columns (total 12 columns):\n",
            "user_fingerprint      1579333 non-null object\n",
            "event_type            1579333 non-null object\n",
            "event_name            1579333 non-null object\n",
            "event_server_time     1579333 non-null datetime64[ns]\n",
            "filter_keyword        1579333 non-null object\n",
            "filter_category_id    1579333 non-null int64\n",
            "filter_region_id      1579333 non-null int64\n",
            "adlist_id             1579333 non-null int64\n",
            "filter_type           1579333 non-null object\n",
            "filter_price          1579333 non-null object\n",
            "filter_brand          1579333 non-null object\n",
            "filter_model          1579333 non-null object\n",
            "dtypes: datetime64[ns](1), int64(3), object(8)\n",
            "memory usage: 156.6+ MB\n"
          ],
          "name": "stdout"
        }
      ]
    },
    {
      "cell_type": "code",
      "metadata": {
        "id": "PenU6xjmPkNQ",
        "colab_type": "code",
        "outputId": "0cd15066-fbd6-4964-e33b-9ca701312b36",
        "colab": {
          "base_uri": "https://localhost:8080/",
          "height": 600
        }
      },
      "source": [
        "interactions = interactions[(interactions['filter_category_id']>=5000)&(interactions['filter_category_id']<6000)]\n",
        "interactions"
      ],
      "execution_count": 0,
      "outputs": [
        {
          "output_type": "execute_result",
          "data": {
            "text/html": [
              "<div>\n",
              "<style scoped>\n",
              "    .dataframe tbody tr th:only-of-type {\n",
              "        vertical-align: middle;\n",
              "    }\n",
              "\n",
              "    .dataframe tbody tr th {\n",
              "        vertical-align: top;\n",
              "    }\n",
              "\n",
              "    .dataframe thead th {\n",
              "        text-align: right;\n",
              "    }\n",
              "</style>\n",
              "<table border=\"1\" class=\"dataframe\">\n",
              "  <thead>\n",
              "    <tr style=\"text-align: right;\">\n",
              "      <th></th>\n",
              "      <th>user_fingerprint</th>\n",
              "      <th>event_type</th>\n",
              "      <th>event_name</th>\n",
              "      <th>event_server_time</th>\n",
              "      <th>filter_keyword</th>\n",
              "      <th>filter_category_id</th>\n",
              "      <th>filter_region_id</th>\n",
              "      <th>adlist_id</th>\n",
              "      <th>filter_type</th>\n",
              "      <th>filter_price</th>\n",
              "      <th>filter_brand</th>\n",
              "      <th>filter_model</th>\n",
              "    </tr>\n",
              "  </thead>\n",
              "  <tbody>\n",
              "    <tr>\n",
              "      <th>9</th>\n",
              "      <td>e449e2d5af0fb7d6d99e253d89780f32</td>\n",
              "      <td>LOAD</td>\n",
              "      <td>adview/ADVIEW_LOAD</td>\n",
              "      <td>2019-09-19 00:50:39.341</td>\n",
              "      <td></td>\n",
              "      <td>5090</td>\n",
              "      <td>12</td>\n",
              "      <td>62977402</td>\n",
              "      <td></td>\n",
              "      <td></td>\n",
              "      <td></td>\n",
              "      <td></td>\n",
              "    </tr>\n",
              "    <tr>\n",
              "      <th>174</th>\n",
              "      <td>d59c9611-760e-4c7a-baac-a72ac5000680</td>\n",
              "      <td>LOAD</td>\n",
              "      <td>adview/ADVIEW_LOAD</td>\n",
              "      <td>2019-09-20 16:10:37.194</td>\n",
              "      <td>cd</td>\n",
              "      <td>5000</td>\n",
              "      <td>12000</td>\n",
              "      <td>62098892</td>\n",
              "      <td></td>\n",
              "      <td></td>\n",
              "      <td></td>\n",
              "      <td></td>\n",
              "    </tr>\n",
              "    <tr>\n",
              "      <th>175</th>\n",
              "      <td>131e607a-841c-4048-912b-8dfe0ef86cc1</td>\n",
              "      <td>CLICK</td>\n",
              "      <td>adlisting/ADVIEW_CLICK</td>\n",
              "      <td>2019-09-15 14:28:45.897</td>\n",
              "      <td></td>\n",
              "      <td>5000</td>\n",
              "      <td>3000117</td>\n",
              "      <td>62734759</td>\n",
              "      <td></td>\n",
              "      <td></td>\n",
              "      <td></td>\n",
              "      <td></td>\n",
              "    </tr>\n",
              "    <tr>\n",
              "      <th>176</th>\n",
              "      <td>bbf6d39b-b385-4740-be74-f61833c2a621</td>\n",
              "      <td>LOAD</td>\n",
              "      <td>adview/ADVIEW_LOAD</td>\n",
              "      <td>2019-09-19 13:11:27.397</td>\n",
              "      <td>loa</td>\n",
              "      <td>5000</td>\n",
              "      <td>13000</td>\n",
              "      <td>63039056</td>\n",
              "      <td></td>\n",
              "      <td></td>\n",
              "      <td></td>\n",
              "      <td></td>\n",
              "    </tr>\n",
              "    <tr>\n",
              "      <th>177</th>\n",
              "      <td>cef1ee24-d3d6-4d72-b7e9-a5457bf3f0af</td>\n",
              "      <td>LOAD</td>\n",
              "      <td>adview/ADVIEW_LOAD</td>\n",
              "      <td>2019-09-22 03:15:12.931</td>\n",
              "      <td>loa</td>\n",
              "      <td>5000</td>\n",
              "      <td>0</td>\n",
              "      <td>63148642</td>\n",
              "      <td></td>\n",
              "      <td></td>\n",
              "      <td></td>\n",
              "      <td></td>\n",
              "    </tr>\n",
              "    <tr>\n",
              "      <th>...</th>\n",
              "      <td>...</td>\n",
              "      <td>...</td>\n",
              "      <td>...</td>\n",
              "      <td>...</td>\n",
              "      <td>...</td>\n",
              "      <td>...</td>\n",
              "      <td>...</td>\n",
              "      <td>...</td>\n",
              "      <td>...</td>\n",
              "      <td>...</td>\n",
              "      <td>...</td>\n",
              "      <td>...</td>\n",
              "    </tr>\n",
              "    <tr>\n",
              "      <th>2631461</th>\n",
              "      <td></td>\n",
              "      <td>LOAD</td>\n",
              "      <td>adlisting/CLASSIFYAD_LOAD</td>\n",
              "      <td>2019-09-18 04:16:39.933</td>\n",
              "      <td>main+</td>\n",
              "      <td>5080</td>\n",
              "      <td>13000</td>\n",
              "      <td>62969972</td>\n",
              "      <td>sell-c2c</td>\n",
              "      <td></td>\n",
              "      <td></td>\n",
              "      <td></td>\n",
              "    </tr>\n",
              "    <tr>\n",
              "      <th>2631462</th>\n",
              "      <td>30b4a4a2-aa28-4e7c-ab46-d466ed2318e4</td>\n",
              "      <td>LOAD</td>\n",
              "      <td>adlisting/CLASSIFYAD_LOAD</td>\n",
              "      <td>2019-09-16 09:40:43.215</td>\n",
              "      <td></td>\n",
              "      <td>5080</td>\n",
              "      <td>12000</td>\n",
              "      <td>62886085</td>\n",
              "      <td></td>\n",
              "      <td></td>\n",
              "      <td></td>\n",
              "      <td></td>\n",
              "    </tr>\n",
              "    <tr>\n",
              "      <th>2631463</th>\n",
              "      <td>b5b68add-3869-4e72-bebc-ba0b70b9b46c</td>\n",
              "      <td>LOAD</td>\n",
              "      <td>adlisting/CLASSIFYAD_LOAD</td>\n",
              "      <td>2019-09-14 23:55:20.141</td>\n",
              "      <td></td>\n",
              "      <td>5080</td>\n",
              "      <td>13000</td>\n",
              "      <td>62834493</td>\n",
              "      <td></td>\n",
              "      <td></td>\n",
              "      <td></td>\n",
              "      <td></td>\n",
              "    </tr>\n",
              "    <tr>\n",
              "      <th>2631464</th>\n",
              "      <td>c00841dc-3f9a-43f0-8e5c-fdad773c880d</td>\n",
              "      <td>LOAD</td>\n",
              "      <td>adlisting/CLASSIFYAD_LOAD</td>\n",
              "      <td>2019-09-19 09:16:41.237</td>\n",
              "      <td></td>\n",
              "      <td>5080</td>\n",
              "      <td>0</td>\n",
              "      <td>63018061</td>\n",
              "      <td></td>\n",
              "      <td></td>\n",
              "      <td></td>\n",
              "      <td></td>\n",
              "    </tr>\n",
              "    <tr>\n",
              "      <th>2631465</th>\n",
              "      <td></td>\n",
              "      <td>LOAD</td>\n",
              "      <td>adlisting/CLASSIFYAD_LOAD</td>\n",
              "      <td>2019-09-18 09:51:22.743</td>\n",
              "      <td></td>\n",
              "      <td>5080</td>\n",
              "      <td>5033</td>\n",
              "      <td>61330133</td>\n",
              "      <td></td>\n",
              "      <td></td>\n",
              "      <td></td>\n",
              "      <td></td>\n",
              "    </tr>\n",
              "  </tbody>\n",
              "</table>\n",
              "<p>1579333 rows × 12 columns</p>\n",
              "</div>"
            ],
            "text/plain": [
              "                             user_fingerprint  ... filter_model\n",
              "9            e449e2d5af0fb7d6d99e253d89780f32  ...             \n",
              "174      d59c9611-760e-4c7a-baac-a72ac5000680  ...             \n",
              "175      131e607a-841c-4048-912b-8dfe0ef86cc1  ...             \n",
              "176      bbf6d39b-b385-4740-be74-f61833c2a621  ...             \n",
              "177      cef1ee24-d3d6-4d72-b7e9-a5457bf3f0af  ...             \n",
              "...                                       ...  ...          ...\n",
              "2631461                                        ...             \n",
              "2631462  30b4a4a2-aa28-4e7c-ab46-d466ed2318e4  ...             \n",
              "2631463  b5b68add-3869-4e72-bebc-ba0b70b9b46c  ...             \n",
              "2631464  c00841dc-3f9a-43f0-8e5c-fdad773c880d  ...             \n",
              "2631465                                        ...             \n",
              "\n",
              "[1579333 rows x 12 columns]"
            ]
          },
          "metadata": {
            "tags": []
          },
          "execution_count": 31
        }
      ]
    },
    {
      "cell_type": "code",
      "metadata": {
        "id": "YhYtDB96ReTw",
        "colab_type": "code",
        "outputId": "e0c8353d-5157-4caa-a38b-44e5f6ceb184",
        "colab": {
          "base_uri": "https://localhost:8080/",
          "height": 326
        }
      },
      "source": [
        "interactions.info()"
      ],
      "execution_count": 0,
      "outputs": [
        {
          "output_type": "stream",
          "text": [
            "<class 'pandas.core.frame.DataFrame'>\n",
            "Int64Index: 1579333 entries, 9 to 2631465\n",
            "Data columns (total 12 columns):\n",
            "user_fingerprint      1579333 non-null object\n",
            "event_type            1579333 non-null object\n",
            "event_name            1579333 non-null object\n",
            "event_server_time     1579333 non-null datetime64[ns]\n",
            "filter_keyword        1579333 non-null object\n",
            "filter_category_id    1579333 non-null int64\n",
            "filter_region_id      1579333 non-null int64\n",
            "adlist_id             1579333 non-null int64\n",
            "filter_type           1579333 non-null object\n",
            "filter_price          1579333 non-null object\n",
            "filter_brand          1579333 non-null object\n",
            "filter_model          1579333 non-null object\n",
            "dtypes: datetime64[ns](1), int64(3), object(8)\n",
            "memory usage: 196.6+ MB\n"
          ],
          "name": "stdout"
        }
      ]
    },
    {
      "cell_type": "code",
      "metadata": {
        "id": "Kzk5_VJ0467I",
        "colab_type": "code",
        "colab": {}
      },
      "source": [
        "interactions.to_json(base_path + '/adstats0.json', orient='records')"
      ],
      "execution_count": 0,
      "outputs": []
    },
    {
      "cell_type": "code",
      "metadata": {
        "id": "sZId5QUvSPsy",
        "colab_type": "code",
        "outputId": "f01ccd66-41f3-42e3-ddbf-a850cbe94806",
        "colab": {
          "base_uri": "https://localhost:8080/",
          "height": 305
        }
      },
      "source": [
        "interactions1 = pd.read_json(base_path + '/adstats000000000001', lines=True)\n",
        "interactions1.head(5)"
      ],
      "execution_count": 0,
      "outputs": [
        {
          "output_type": "execute_result",
          "data": {
            "text/html": [
              "<div>\n",
              "<style scoped>\n",
              "    .dataframe tbody tr th:only-of-type {\n",
              "        vertical-align: middle;\n",
              "    }\n",
              "\n",
              "    .dataframe tbody tr th {\n",
              "        vertical-align: top;\n",
              "    }\n",
              "\n",
              "    .dataframe thead th {\n",
              "        text-align: right;\n",
              "    }\n",
              "</style>\n",
              "<table border=\"1\" class=\"dataframe\">\n",
              "  <thead>\n",
              "    <tr style=\"text-align: right;\">\n",
              "      <th></th>\n",
              "      <th>user_session</th>\n",
              "      <th>user_fingerprint</th>\n",
              "      <th>page_platform</th>\n",
              "      <th>page_number</th>\n",
              "      <th>event_type</th>\n",
              "      <th>event_name</th>\n",
              "      <th>event_server_time</th>\n",
              "      <th>filter_keyword</th>\n",
              "      <th>filter_category_id</th>\n",
              "      <th>filter_region_id</th>\n",
              "      <th>adlist_id</th>\n",
              "      <th>adposition</th>\n",
              "      <th>adplacement</th>\n",
              "      <th>adsource</th>\n",
              "      <th>filter_type</th>\n",
              "      <th>filter_price</th>\n",
              "      <th>filter_brand</th>\n",
              "      <th>filter_model</th>\n",
              "      <th>lead_type</th>\n",
              "    </tr>\n",
              "  </thead>\n",
              "  <tbody>\n",
              "    <tr>\n",
              "      <th>0</th>\n",
              "      <td>1568854564064</td>\n",
              "      <td>e449e2d5af0fb7d6d99e253d89780f32</td>\n",
              "      <td>IOS</td>\n",
              "      <td>0</td>\n",
              "      <td>CLICK</td>\n",
              "      <td>adlisting/ADVIEW_CLICK</td>\n",
              "      <td>2019-09-19 00:56:04.456</td>\n",
              "      <td></td>\n",
              "      <td>3050</td>\n",
              "      <td>12</td>\n",
              "      <td>62378926</td>\n",
              "      <td>21</td>\n",
              "      <td>default</td>\n",
              "      <td>classifyad</td>\n",
              "      <td></td>\n",
              "      <td></td>\n",
              "      <td></td>\n",
              "      <td></td>\n",
              "      <td>NaN</td>\n",
              "    </tr>\n",
              "    <tr>\n",
              "      <th>1</th>\n",
              "      <td>1568566470278</td>\n",
              "      <td>d59c9611-760e-4c7a-baac-a72ac5000680</td>\n",
              "      <td>IOS</td>\n",
              "      <td>0</td>\n",
              "      <td>CLICK</td>\n",
              "      <td>adview/CALL_CLICK</td>\n",
              "      <td>2019-09-15 16:51:21.956</td>\n",
              "      <td></td>\n",
              "      <td>9040</td>\n",
              "      <td>12000</td>\n",
              "      <td>61898656</td>\n",
              "      <td>172</td>\n",
              "      <td>default</td>\n",
              "      <td>classifyad</td>\n",
              "      <td></td>\n",
              "      <td></td>\n",
              "      <td></td>\n",
              "      <td></td>\n",
              "      <td>CALL</td>\n",
              "    </tr>\n",
              "    <tr>\n",
              "      <th>2</th>\n",
              "      <td>1568567765514</td>\n",
              "      <td>d59c9611-760e-4c7a-baac-a72ac5000680</td>\n",
              "      <td>IOS</td>\n",
              "      <td>0</td>\n",
              "      <td>LOAD</td>\n",
              "      <td>adview/ADVIEW_LOAD</td>\n",
              "      <td>2019-09-15 17:12:57.163</td>\n",
              "      <td></td>\n",
              "      <td>9040</td>\n",
              "      <td>12000</td>\n",
              "      <td>62620867</td>\n",
              "      <td>1013</td>\n",
              "      <td>default</td>\n",
              "      <td>classifyad</td>\n",
              "      <td></td>\n",
              "      <td></td>\n",
              "      <td></td>\n",
              "      <td></td>\n",
              "      <td>NaN</td>\n",
              "    </tr>\n",
              "    <tr>\n",
              "      <th>3</th>\n",
              "      <td>1568567179803</td>\n",
              "      <td>d59c9611-760e-4c7a-baac-a72ac5000680</td>\n",
              "      <td>IOS</td>\n",
              "      <td>0</td>\n",
              "      <td>LOAD</td>\n",
              "      <td>adview/ADVIEW_LOAD</td>\n",
              "      <td>2019-09-15 17:03:11.558</td>\n",
              "      <td></td>\n",
              "      <td>9040</td>\n",
              "      <td>12000</td>\n",
              "      <td>62775605</td>\n",
              "      <td>491</td>\n",
              "      <td>default</td>\n",
              "      <td>classifyad</td>\n",
              "      <td></td>\n",
              "      <td></td>\n",
              "      <td></td>\n",
              "      <td></td>\n",
              "      <td>NaN</td>\n",
              "    </tr>\n",
              "    <tr>\n",
              "      <th>4</th>\n",
              "      <td>1568684755702</td>\n",
              "      <td>e449e2d5af0fb7d6d99e253d89780f32</td>\n",
              "      <td>IOS</td>\n",
              "      <td>0</td>\n",
              "      <td>CLICK</td>\n",
              "      <td>adlisting/ADVIEW_CLICK</td>\n",
              "      <td>2019-09-17 01:45:56.662</td>\n",
              "      <td></td>\n",
              "      <td>5090</td>\n",
              "      <td>12</td>\n",
              "      <td>62896382</td>\n",
              "      <td>37</td>\n",
              "      <td>default</td>\n",
              "      <td>classifyad</td>\n",
              "      <td></td>\n",
              "      <td></td>\n",
              "      <td></td>\n",
              "      <td></td>\n",
              "      <td>NaN</td>\n",
              "    </tr>\n",
              "  </tbody>\n",
              "</table>\n",
              "</div>"
            ],
            "text/plain": [
              "    user_session                      user_fingerprint  ... filter_model  lead_type\n",
              "0  1568854564064      e449e2d5af0fb7d6d99e253d89780f32  ...                     NaN\n",
              "1  1568566470278  d59c9611-760e-4c7a-baac-a72ac5000680  ...                    CALL\n",
              "2  1568567765514  d59c9611-760e-4c7a-baac-a72ac5000680  ...                     NaN\n",
              "3  1568567179803  d59c9611-760e-4c7a-baac-a72ac5000680  ...                     NaN\n",
              "4  1568684755702      e449e2d5af0fb7d6d99e253d89780f32  ...                     NaN\n",
              "\n",
              "[5 rows x 19 columns]"
            ]
          },
          "metadata": {
            "tags": []
          },
          "execution_count": 37
        }
      ]
    },
    {
      "cell_type": "code",
      "metadata": {
        "id": "wgIwakP_TfMn",
        "colab_type": "code",
        "colab": {}
      },
      "source": [
        "interactions1.drop(columns=['user_session', 'page_platform', 'page_number', 'adposition', 'adplacement', 'adsource', 'lead_type'], inplace=True)"
      ],
      "execution_count": 0,
      "outputs": []
    },
    {
      "cell_type": "code",
      "metadata": {
        "id": "AVpYXniFq5u3",
        "colab_type": "code",
        "outputId": "f74513f3-957f-4d67-96c1-94d5e0c66ab5",
        "colab": {
          "base_uri": "https://localhost:8080/",
          "height": 600
        }
      },
      "source": [
        "interactions1 = interactions1[(interactions1['filter_category_id']>=5000)&(interactions1['filter_category_id']<6000)]\n",
        "interactions1"
      ],
      "execution_count": 0,
      "outputs": [
        {
          "output_type": "execute_result",
          "data": {
            "text/html": [
              "<div>\n",
              "<style scoped>\n",
              "    .dataframe tbody tr th:only-of-type {\n",
              "        vertical-align: middle;\n",
              "    }\n",
              "\n",
              "    .dataframe tbody tr th {\n",
              "        vertical-align: top;\n",
              "    }\n",
              "\n",
              "    .dataframe thead th {\n",
              "        text-align: right;\n",
              "    }\n",
              "</style>\n",
              "<table border=\"1\" class=\"dataframe\">\n",
              "  <thead>\n",
              "    <tr style=\"text-align: right;\">\n",
              "      <th></th>\n",
              "      <th>user_fingerprint</th>\n",
              "      <th>event_type</th>\n",
              "      <th>event_name</th>\n",
              "      <th>event_server_time</th>\n",
              "      <th>filter_keyword</th>\n",
              "      <th>filter_category_id</th>\n",
              "      <th>filter_region_id</th>\n",
              "      <th>adlist_id</th>\n",
              "      <th>filter_type</th>\n",
              "      <th>filter_price</th>\n",
              "      <th>filter_brand</th>\n",
              "      <th>filter_model</th>\n",
              "    </tr>\n",
              "  </thead>\n",
              "  <tbody>\n",
              "    <tr>\n",
              "      <th>4</th>\n",
              "      <td>e449e2d5af0fb7d6d99e253d89780f32</td>\n",
              "      <td>CLICK</td>\n",
              "      <td>adlisting/ADVIEW_CLICK</td>\n",
              "      <td>2019-09-17 01:45:56.662</td>\n",
              "      <td></td>\n",
              "      <td>5090</td>\n",
              "      <td>12</td>\n",
              "      <td>62896382</td>\n",
              "      <td></td>\n",
              "      <td></td>\n",
              "      <td></td>\n",
              "      <td></td>\n",
              "    </tr>\n",
              "    <tr>\n",
              "      <th>18</th>\n",
              "      <td>e449e2d5af0fb7d6d99e253d89780f32</td>\n",
              "      <td>LOAD</td>\n",
              "      <td>adview/ADVIEW_LOAD</td>\n",
              "      <td>2019-09-19 00:51:07.976</td>\n",
              "      <td></td>\n",
              "      <td>5090</td>\n",
              "      <td>12</td>\n",
              "      <td>62936508</td>\n",
              "      <td></td>\n",
              "      <td></td>\n",
              "      <td></td>\n",
              "      <td></td>\n",
              "    </tr>\n",
              "    <tr>\n",
              "      <th>154</th>\n",
              "      <td>cef1ee24-d3d6-4d72-b7e9-a5457bf3f0af</td>\n",
              "      <td>LOAD</td>\n",
              "      <td>adview/ADVIEW_LOAD</td>\n",
              "      <td>2019-09-20 09:45:57.466</td>\n",
              "      <td>onkyo</td>\n",
              "      <td>5000</td>\n",
              "      <td>0</td>\n",
              "      <td>62726063</td>\n",
              "      <td></td>\n",
              "      <td></td>\n",
              "      <td></td>\n",
              "      <td></td>\n",
              "    </tr>\n",
              "    <tr>\n",
              "      <th>155</th>\n",
              "      <td>cef1ee24-d3d6-4d72-b7e9-a5457bf3f0af</td>\n",
              "      <td>CLICK</td>\n",
              "      <td>adlisting/ADVIEW_CLICK</td>\n",
              "      <td>2019-09-16 02:36:03.694</td>\n",
              "      <td>loa</td>\n",
              "      <td>5000</td>\n",
              "      <td>0</td>\n",
              "      <td>62876429</td>\n",
              "      <td></td>\n",
              "      <td></td>\n",
              "      <td></td>\n",
              "      <td></td>\n",
              "    </tr>\n",
              "    <tr>\n",
              "      <th>156</th>\n",
              "      <td>bbf6d39b-b385-4740-be74-f61833c2a621</td>\n",
              "      <td>LOAD</td>\n",
              "      <td>adview/ADVIEW_LOAD</td>\n",
              "      <td>2019-09-17 11:07:14.905</td>\n",
              "      <td>loa</td>\n",
              "      <td>5000</td>\n",
              "      <td>13000</td>\n",
              "      <td>62926969</td>\n",
              "      <td></td>\n",
              "      <td></td>\n",
              "      <td></td>\n",
              "      <td></td>\n",
              "    </tr>\n",
              "    <tr>\n",
              "      <th>...</th>\n",
              "      <td>...</td>\n",
              "      <td>...</td>\n",
              "      <td>...</td>\n",
              "      <td>...</td>\n",
              "      <td>...</td>\n",
              "      <td>...</td>\n",
              "      <td>...</td>\n",
              "      <td>...</td>\n",
              "      <td>...</td>\n",
              "      <td>...</td>\n",
              "      <td>...</td>\n",
              "      <td>...</td>\n",
              "    </tr>\n",
              "    <tr>\n",
              "      <th>2627561</th>\n",
              "      <td>30b4a4a2-aa28-4e7c-ab46-d466ed2318e4</td>\n",
              "      <td>LOAD</td>\n",
              "      <td>adlisting/CLASSIFYAD_LOAD</td>\n",
              "      <td>2019-09-15 13:59:10.333</td>\n",
              "      <td></td>\n",
              "      <td>5080</td>\n",
              "      <td>12000</td>\n",
              "      <td>62850829</td>\n",
              "      <td></td>\n",
              "      <td></td>\n",
              "      <td></td>\n",
              "      <td></td>\n",
              "    </tr>\n",
              "    <tr>\n",
              "      <th>2627562</th>\n",
              "      <td>e717c62d-7fff-4ff4-b958-6b4faca986a1</td>\n",
              "      <td>LOAD</td>\n",
              "      <td>adlisting/CLASSIFYAD_LOAD</td>\n",
              "      <td>2019-09-22 16:01:33.957</td>\n",
              "      <td></td>\n",
              "      <td>5080</td>\n",
              "      <td>13000</td>\n",
              "      <td>56594730</td>\n",
              "      <td></td>\n",
              "      <td></td>\n",
              "      <td></td>\n",
              "      <td></td>\n",
              "    </tr>\n",
              "    <tr>\n",
              "      <th>2627563</th>\n",
              "      <td>facd55f1-91b8-40d8-a982-5e3b1270db0e</td>\n",
              "      <td>LOAD</td>\n",
              "      <td>adlisting/CLASSIFYAD_LOAD</td>\n",
              "      <td>2019-09-15 14:03:17.091</td>\n",
              "      <td></td>\n",
              "      <td>5080</td>\n",
              "      <td>13000</td>\n",
              "      <td>62865586</td>\n",
              "      <td></td>\n",
              "      <td></td>\n",
              "      <td></td>\n",
              "      <td></td>\n",
              "    </tr>\n",
              "    <tr>\n",
              "      <th>2627564</th>\n",
              "      <td>f69094e6-58d9-42b7-90c3-cfb95c355fa7</td>\n",
              "      <td>LOAD</td>\n",
              "      <td>adlisting/CLASSIFYAD_LOAD</td>\n",
              "      <td>2019-09-21 14:58:00.540</td>\n",
              "      <td></td>\n",
              "      <td>5080</td>\n",
              "      <td>13000</td>\n",
              "      <td>63116971</td>\n",
              "      <td></td>\n",
              "      <td></td>\n",
              "      <td></td>\n",
              "      <td></td>\n",
              "    </tr>\n",
              "    <tr>\n",
              "      <th>2627565</th>\n",
              "      <td>7f73db8b-82fd-4ad3-9605-d250a191932a</td>\n",
              "      <td>LOAD</td>\n",
              "      <td>adlisting/CLASSIFYAD_LOAD</td>\n",
              "      <td>2019-09-14 18:36:07.625</td>\n",
              "      <td>cpu</td>\n",
              "      <td>5080</td>\n",
              "      <td>13000</td>\n",
              "      <td>62607853</td>\n",
              "      <td>sell-c2c</td>\n",
              "      <td></td>\n",
              "      <td></td>\n",
              "      <td></td>\n",
              "    </tr>\n",
              "  </tbody>\n",
              "</table>\n",
              "<p>1577584 rows × 12 columns</p>\n",
              "</div>"
            ],
            "text/plain": [
              "                             user_fingerprint  ... filter_model\n",
              "4            e449e2d5af0fb7d6d99e253d89780f32  ...             \n",
              "18           e449e2d5af0fb7d6d99e253d89780f32  ...             \n",
              "154      cef1ee24-d3d6-4d72-b7e9-a5457bf3f0af  ...             \n",
              "155      cef1ee24-d3d6-4d72-b7e9-a5457bf3f0af  ...             \n",
              "156      bbf6d39b-b385-4740-be74-f61833c2a621  ...             \n",
              "...                                       ...  ...          ...\n",
              "2627561  30b4a4a2-aa28-4e7c-ab46-d466ed2318e4  ...             \n",
              "2627562  e717c62d-7fff-4ff4-b958-6b4faca986a1  ...             \n",
              "2627563  facd55f1-91b8-40d8-a982-5e3b1270db0e  ...             \n",
              "2627564  f69094e6-58d9-42b7-90c3-cfb95c355fa7  ...             \n",
              "2627565  7f73db8b-82fd-4ad3-9605-d250a191932a  ...             \n",
              "\n",
              "[1577584 rows x 12 columns]"
            ]
          },
          "metadata": {
            "tags": []
          },
          "execution_count": 50
        }
      ]
    },
    {
      "cell_type": "code",
      "metadata": {
        "id": "mQsGGVjJTrB7",
        "colab_type": "code",
        "colab": {}
      },
      "source": [
        "interactions1.to_json(base_path + '/adstats1.json', orient='records')"
      ],
      "execution_count": 0,
      "outputs": []
    },
    {
      "cell_type": "code",
      "metadata": {
        "id": "Ek-69jKaUGY6",
        "colab_type": "code",
        "colab": {}
      },
      "source": [
        "def preprocessing_adstats(filename, newfile_destination):\n",
        "    interactions = pd.read_json(filename, lines=True)\n",
        "    interactions.drop(columns=['user_session', 'page_platform', 'page_number', 'adposition', 'adplacement', 'adsource', 'lead_type'], inplace=True)\n",
        "    interactions = interactions[(interactions['filter_category_id']>=5000)&(interactions['filter_category_id']<6000)]\n",
        "    interactions.to_json(newfile_destination, orient='records')"
      ],
      "execution_count": 0,
      "outputs": []
    },
    {
      "cell_type": "code",
      "metadata": {
        "id": "D6Yr50VvVS9Y",
        "colab_type": "code",
        "colab": {}
      },
      "source": [
        "preprocessing_adstats(base_path + '/adstats000000000002', base_path + '/adstats2.json')"
      ],
      "execution_count": 0,
      "outputs": []
    },
    {
      "cell_type": "code",
      "metadata": {
        "id": "X6573c_wVckI",
        "colab_type": "code",
        "colab": {}
      },
      "source": [
        "preprocessing_adstats(base_path + '/adstats000000000003', base_path + '/adstats3.json')"
      ],
      "execution_count": 0,
      "outputs": []
    },
    {
      "cell_type": "code",
      "metadata": {
        "id": "rbgHJF8hVcZg",
        "colab_type": "code",
        "outputId": "5ac9a18b-1bfe-4a4a-8b0d-588081b63ae6",
        "colab": {
          "base_uri": "https://localhost:8080/",
          "height": 322
        }
      },
      "source": [
        "preprocessing_adstats(base_path + '/adstats000000000004', base_path + '/adstats4.json')"
      ],
      "execution_count": 0,
      "outputs": [
        {
          "output_type": "error",
          "ename": "ValueError",
          "evalue": "ignored",
          "traceback": [
            "\u001b[0;31m---------------------------------------------------------------------------\u001b[0m",
            "\u001b[0;31mValueError\u001b[0m                                Traceback (most recent call last)",
            "\u001b[0;32m<ipython-input-57-0d9c38f76d63>\u001b[0m in \u001b[0;36m<module>\u001b[0;34m()\u001b[0m\n\u001b[0;32m----> 1\u001b[0;31m \u001b[0mpreprocessing_adstats\u001b[0m\u001b[0;34m(\u001b[0m\u001b[0mbase_path\u001b[0m \u001b[0;34m+\u001b[0m \u001b[0;34m'/adstats000000000004'\u001b[0m\u001b[0;34m,\u001b[0m \u001b[0mbase_path\u001b[0m \u001b[0;34m+\u001b[0m \u001b[0;34m'/adstats4.json'\u001b[0m\u001b[0;34m)\u001b[0m\u001b[0;34m\u001b[0m\u001b[0;34m\u001b[0m\u001b[0m\n\u001b[0m",
            "\u001b[0;32m<ipython-input-45-d58e547c9f95>\u001b[0m in \u001b[0;36mpreprocessing_adstats\u001b[0;34m(filename, newfile_destination)\u001b[0m\n\u001b[1;32m      1\u001b[0m \u001b[0;32mdef\u001b[0m \u001b[0mpreprocessing_adstats\u001b[0m\u001b[0;34m(\u001b[0m\u001b[0mfilename\u001b[0m\u001b[0;34m,\u001b[0m \u001b[0mnewfile_destination\u001b[0m\u001b[0;34m)\u001b[0m\u001b[0;34m:\u001b[0m\u001b[0;34m\u001b[0m\u001b[0;34m\u001b[0m\u001b[0m\n\u001b[0;32m----> 2\u001b[0;31m     \u001b[0minteractions\u001b[0m \u001b[0;34m=\u001b[0m \u001b[0mpd\u001b[0m\u001b[0;34m.\u001b[0m\u001b[0mread_json\u001b[0m\u001b[0;34m(\u001b[0m\u001b[0mfilename\u001b[0m\u001b[0;34m,\u001b[0m \u001b[0mlines\u001b[0m\u001b[0;34m=\u001b[0m\u001b[0;32mTrue\u001b[0m\u001b[0;34m)\u001b[0m\u001b[0;34m\u001b[0m\u001b[0;34m\u001b[0m\u001b[0m\n\u001b[0m\u001b[1;32m      3\u001b[0m     \u001b[0minteractions\u001b[0m\u001b[0;34m.\u001b[0m\u001b[0mdrop\u001b[0m\u001b[0;34m(\u001b[0m\u001b[0mcolumns\u001b[0m\u001b[0;34m=\u001b[0m\u001b[0;34m[\u001b[0m\u001b[0;34m'user_session'\u001b[0m\u001b[0;34m,\u001b[0m \u001b[0;34m'page_platform'\u001b[0m\u001b[0;34m,\u001b[0m \u001b[0;34m'page_number'\u001b[0m\u001b[0;34m,\u001b[0m \u001b[0;34m'adposition'\u001b[0m\u001b[0;34m,\u001b[0m \u001b[0;34m'adplacement'\u001b[0m\u001b[0;34m,\u001b[0m \u001b[0;34m'adsource'\u001b[0m\u001b[0;34m,\u001b[0m \u001b[0;34m'lead_type'\u001b[0m\u001b[0;34m]\u001b[0m\u001b[0;34m,\u001b[0m \u001b[0minplace\u001b[0m\u001b[0;34m=\u001b[0m\u001b[0;32mTrue\u001b[0m\u001b[0;34m)\u001b[0m\u001b[0;34m\u001b[0m\u001b[0;34m\u001b[0m\u001b[0m\n\u001b[1;32m      4\u001b[0m     \u001b[0minteractions\u001b[0m \u001b[0;34m=\u001b[0m \u001b[0minteractions\u001b[0m\u001b[0;34m[\u001b[0m\u001b[0;34m(\u001b[0m\u001b[0minteractions\u001b[0m\u001b[0;34m[\u001b[0m\u001b[0;34m'filter_category_id'\u001b[0m\u001b[0;34m]\u001b[0m\u001b[0;34m>=\u001b[0m\u001b[0;36m5000\u001b[0m\u001b[0;34m)\u001b[0m\u001b[0;34m&\u001b[0m\u001b[0;34m(\u001b[0m\u001b[0minteractions\u001b[0m\u001b[0;34m[\u001b[0m\u001b[0;34m'filter_category_id'\u001b[0m\u001b[0;34m]\u001b[0m\u001b[0;34m<\u001b[0m\u001b[0;36m6000\u001b[0m\u001b[0;34m)\u001b[0m\u001b[0;34m]\u001b[0m\u001b[0;34m\u001b[0m\u001b[0;34m\u001b[0m\u001b[0m\n\u001b[1;32m      5\u001b[0m     \u001b[0minteractions\u001b[0m\u001b[0;34m.\u001b[0m\u001b[0mto_json\u001b[0m\u001b[0;34m(\u001b[0m\u001b[0mnewfile_destination\u001b[0m\u001b[0;34m,\u001b[0m \u001b[0morient\u001b[0m\u001b[0;34m=\u001b[0m\u001b[0;34m'records'\u001b[0m\u001b[0;34m)\u001b[0m\u001b[0;34m\u001b[0m\u001b[0;34m\u001b[0m\u001b[0m\n",
            "\u001b[0;32m/usr/local/lib/python3.6/dist-packages/pandas/io/json/_json.py\u001b[0m in \u001b[0;36mread_json\u001b[0;34m(path_or_buf, orient, typ, dtype, convert_axes, convert_dates, keep_default_dates, numpy, precise_float, date_unit, encoding, lines, chunksize, compression)\u001b[0m\n\u001b[1;32m    590\u001b[0m         \u001b[0;32mreturn\u001b[0m \u001b[0mjson_reader\u001b[0m\u001b[0;34m\u001b[0m\u001b[0;34m\u001b[0m\u001b[0m\n\u001b[1;32m    591\u001b[0m \u001b[0;34m\u001b[0m\u001b[0m\n\u001b[0;32m--> 592\u001b[0;31m     \u001b[0mresult\u001b[0m \u001b[0;34m=\u001b[0m \u001b[0mjson_reader\u001b[0m\u001b[0;34m.\u001b[0m\u001b[0mread\u001b[0m\u001b[0;34m(\u001b[0m\u001b[0;34m)\u001b[0m\u001b[0;34m\u001b[0m\u001b[0;34m\u001b[0m\u001b[0m\n\u001b[0m\u001b[1;32m    593\u001b[0m     \u001b[0;32mif\u001b[0m \u001b[0mshould_close\u001b[0m\u001b[0;34m:\u001b[0m\u001b[0;34m\u001b[0m\u001b[0;34m\u001b[0m\u001b[0m\n\u001b[1;32m    594\u001b[0m         \u001b[0;32mtry\u001b[0m\u001b[0;34m:\u001b[0m\u001b[0;34m\u001b[0m\u001b[0;34m\u001b[0m\u001b[0m\n",
            "\u001b[0;32m/usr/local/lib/python3.6/dist-packages/pandas/io/json/_json.py\u001b[0m in \u001b[0;36mread\u001b[0;34m(self)\u001b[0m\n\u001b[1;32m    713\u001b[0m         \u001b[0;32melif\u001b[0m \u001b[0mself\u001b[0m\u001b[0;34m.\u001b[0m\u001b[0mlines\u001b[0m\u001b[0;34m:\u001b[0m\u001b[0;34m\u001b[0m\u001b[0;34m\u001b[0m\u001b[0m\n\u001b[1;32m    714\u001b[0m             \u001b[0mdata\u001b[0m \u001b[0;34m=\u001b[0m \u001b[0mensure_str\u001b[0m\u001b[0;34m(\u001b[0m\u001b[0mself\u001b[0m\u001b[0;34m.\u001b[0m\u001b[0mdata\u001b[0m\u001b[0;34m)\u001b[0m\u001b[0;34m\u001b[0m\u001b[0;34m\u001b[0m\u001b[0m\n\u001b[0;32m--> 715\u001b[0;31m             \u001b[0mobj\u001b[0m \u001b[0;34m=\u001b[0m \u001b[0mself\u001b[0m\u001b[0;34m.\u001b[0m\u001b[0m_get_object_parser\u001b[0m\u001b[0;34m(\u001b[0m\u001b[0mself\u001b[0m\u001b[0;34m.\u001b[0m\u001b[0m_combine_lines\u001b[0m\u001b[0;34m(\u001b[0m\u001b[0mdata\u001b[0m\u001b[0;34m.\u001b[0m\u001b[0msplit\u001b[0m\u001b[0;34m(\u001b[0m\u001b[0;34m\"\\n\"\u001b[0m\u001b[0;34m)\u001b[0m\u001b[0;34m)\u001b[0m\u001b[0;34m)\u001b[0m\u001b[0;34m\u001b[0m\u001b[0;34m\u001b[0m\u001b[0m\n\u001b[0m\u001b[1;32m    716\u001b[0m         \u001b[0;32melse\u001b[0m\u001b[0;34m:\u001b[0m\u001b[0;34m\u001b[0m\u001b[0;34m\u001b[0m\u001b[0m\n\u001b[1;32m    717\u001b[0m             \u001b[0mobj\u001b[0m \u001b[0;34m=\u001b[0m \u001b[0mself\u001b[0m\u001b[0;34m.\u001b[0m\u001b[0m_get_object_parser\u001b[0m\u001b[0;34m(\u001b[0m\u001b[0mself\u001b[0m\u001b[0;34m.\u001b[0m\u001b[0mdata\u001b[0m\u001b[0;34m)\u001b[0m\u001b[0;34m\u001b[0m\u001b[0;34m\u001b[0m\u001b[0m\n",
            "\u001b[0;32m/usr/local/lib/python3.6/dist-packages/pandas/io/json/_json.py\u001b[0m in \u001b[0;36m_get_object_parser\u001b[0;34m(self, json)\u001b[0m\n\u001b[1;32m    737\u001b[0m         \u001b[0mobj\u001b[0m \u001b[0;34m=\u001b[0m \u001b[0;32mNone\u001b[0m\u001b[0;34m\u001b[0m\u001b[0;34m\u001b[0m\u001b[0m\n\u001b[1;32m    738\u001b[0m         \u001b[0;32mif\u001b[0m \u001b[0mtyp\u001b[0m \u001b[0;34m==\u001b[0m \u001b[0;34m\"frame\"\u001b[0m\u001b[0;34m:\u001b[0m\u001b[0;34m\u001b[0m\u001b[0;34m\u001b[0m\u001b[0m\n\u001b[0;32m--> 739\u001b[0;31m             \u001b[0mobj\u001b[0m \u001b[0;34m=\u001b[0m \u001b[0mFrameParser\u001b[0m\u001b[0;34m(\u001b[0m\u001b[0mjson\u001b[0m\u001b[0;34m,\u001b[0m \u001b[0;34m**\u001b[0m\u001b[0mkwargs\u001b[0m\u001b[0;34m)\u001b[0m\u001b[0;34m.\u001b[0m\u001b[0mparse\u001b[0m\u001b[0;34m(\u001b[0m\u001b[0;34m)\u001b[0m\u001b[0;34m\u001b[0m\u001b[0;34m\u001b[0m\u001b[0m\n\u001b[0m\u001b[1;32m    740\u001b[0m \u001b[0;34m\u001b[0m\u001b[0m\n\u001b[1;32m    741\u001b[0m         \u001b[0;32mif\u001b[0m \u001b[0mtyp\u001b[0m \u001b[0;34m==\u001b[0m \u001b[0;34m\"series\"\u001b[0m \u001b[0;32mor\u001b[0m \u001b[0mobj\u001b[0m \u001b[0;32mis\u001b[0m \u001b[0;32mNone\u001b[0m\u001b[0;34m:\u001b[0m\u001b[0;34m\u001b[0m\u001b[0;34m\u001b[0m\u001b[0m\n",
            "\u001b[0;32m/usr/local/lib/python3.6/dist-packages/pandas/io/json/_json.py\u001b[0m in \u001b[0;36mparse\u001b[0;34m(self)\u001b[0m\n\u001b[1;32m    847\u001b[0m \u001b[0;34m\u001b[0m\u001b[0m\n\u001b[1;32m    848\u001b[0m         \u001b[0;32melse\u001b[0m\u001b[0;34m:\u001b[0m\u001b[0;34m\u001b[0m\u001b[0;34m\u001b[0m\u001b[0m\n\u001b[0;32m--> 849\u001b[0;31m             \u001b[0mself\u001b[0m\u001b[0;34m.\u001b[0m\u001b[0m_parse_no_numpy\u001b[0m\u001b[0;34m(\u001b[0m\u001b[0;34m)\u001b[0m\u001b[0;34m\u001b[0m\u001b[0;34m\u001b[0m\u001b[0m\n\u001b[0m\u001b[1;32m    850\u001b[0m \u001b[0;34m\u001b[0m\u001b[0m\n\u001b[1;32m    851\u001b[0m         \u001b[0;32mif\u001b[0m \u001b[0mself\u001b[0m\u001b[0;34m.\u001b[0m\u001b[0mobj\u001b[0m \u001b[0;32mis\u001b[0m \u001b[0;32mNone\u001b[0m\u001b[0;34m:\u001b[0m\u001b[0;34m\u001b[0m\u001b[0;34m\u001b[0m\u001b[0m\n",
            "\u001b[0;32m/usr/local/lib/python3.6/dist-packages/pandas/io/json/_json.py\u001b[0m in \u001b[0;36m_parse_no_numpy\u001b[0;34m(self)\u001b[0m\n\u001b[1;32m   1091\u001b[0m         \u001b[0;32mif\u001b[0m \u001b[0morient\u001b[0m \u001b[0;34m==\u001b[0m \u001b[0;34m\"columns\"\u001b[0m\u001b[0;34m:\u001b[0m\u001b[0;34m\u001b[0m\u001b[0;34m\u001b[0m\u001b[0m\n\u001b[1;32m   1092\u001b[0m             self.obj = DataFrame(\n\u001b[0;32m-> 1093\u001b[0;31m                 \u001b[0mloads\u001b[0m\u001b[0;34m(\u001b[0m\u001b[0mjson\u001b[0m\u001b[0;34m,\u001b[0m \u001b[0mprecise_float\u001b[0m\u001b[0;34m=\u001b[0m\u001b[0mself\u001b[0m\u001b[0;34m.\u001b[0m\u001b[0mprecise_float\u001b[0m\u001b[0;34m)\u001b[0m\u001b[0;34m,\u001b[0m \u001b[0mdtype\u001b[0m\u001b[0;34m=\u001b[0m\u001b[0;32mNone\u001b[0m\u001b[0;34m\u001b[0m\u001b[0;34m\u001b[0m\u001b[0m\n\u001b[0m\u001b[1;32m   1094\u001b[0m             )\n\u001b[1;32m   1095\u001b[0m         \u001b[0;32melif\u001b[0m \u001b[0morient\u001b[0m \u001b[0;34m==\u001b[0m \u001b[0;34m\"split\"\u001b[0m\u001b[0;34m:\u001b[0m\u001b[0;34m\u001b[0m\u001b[0;34m\u001b[0m\u001b[0m\n",
            "\u001b[0;31mValueError\u001b[0m: Expected object or value"
          ]
        }
      ]
    },
    {
      "cell_type": "code",
      "metadata": {
        "id": "xmfk2-paVcJR",
        "colab_type": "code",
        "colab": {}
      },
      "source": [
        "preprocessing_adstats(base_path + '/adstats000000000005', base_path + '/adstats5.json')"
      ],
      "execution_count": 0,
      "outputs": []
    },
    {
      "cell_type": "code",
      "metadata": {
        "id": "OuVUy5bpVbjI",
        "colab_type": "code",
        "colab": {}
      },
      "source": [
        "preprocessing_adstats(base_path + '/adstats000000000006', base_path + '/adstats6.json')"
      ],
      "execution_count": 0,
      "outputs": []
    },
    {
      "cell_type": "code",
      "metadata": {
        "id": "7AIDaSLqXzaI",
        "colab_type": "code",
        "colab": {}
      },
      "source": [
        "drive.flush_and_unmount()"
      ],
      "execution_count": 0,
      "outputs": []
    },
    {
      "cell_type": "markdown",
      "metadata": {
        "id": "Fyy5aTyGfKLL",
        "colab_type": "text"
      },
      "source": [
        "# Helper functions"
      ]
    },
    {
      "cell_type": "code",
      "metadata": {
        "id": "MZd-ltteXQyb",
        "colab_type": "code",
        "colab": {}
      },
      "source": [
        "def filter_irrelevant_keyword(ads):\n",
        "    extracted_ads = ads[ads['subject'].str.contains('^((?!mua).)*$',regex=True)]\n",
        "    extracted_ads = extracted_ads[extracted_ads['subject'].str.contains('^((?!xác).)*$',regex=True)]\n",
        "    extracted_ads = extracted_ads[extracted_ads['subject'].str.contains('^((?!sửa).)*$',regex=True)]\n",
        "    extracted_ads = extracted_ads[extracted_ads['subject'].str.contains('^((?!sữa).)*$',regex=True)]\n",
        "    extracted_ads = extracted_ads[extracted_ads['subject'].str.contains('^((?!tiệm).)*$',regex=True)]\n",
        "    extracted_ads = extracted_ads[extracted_ads['subject'].str.contains('^((?!ve chai).)*$',regex=True)]\n",
        "    return extracted_ads"
      ],
      "execution_count": 0,
      "outputs": []
    },
    {
      "cell_type": "markdown",
      "metadata": {
        "id": "szFenWOsLSfb",
        "colab_type": "text"
      },
      "source": [
        "# Best pricing"
      ]
    },
    {
      "cell_type": "code",
      "metadata": {
        "id": "gQFAPoz9Z1Bq",
        "colab_type": "code",
        "colab": {}
      },
      "source": [
        "ads = pd.read_json(base_path + '/ads')"
      ],
      "execution_count": 0,
      "outputs": []
    },
    {
      "cell_type": "code",
      "metadata": {
        "id": "BWW_4-A6t6Xa",
        "colab_type": "code",
        "outputId": "1a9b429a-da84-43b0-e3c2-05e958eababa",
        "colab": {
          "base_uri": "https://localhost:8080/",
          "height": 472
        }
      },
      "source": [
        "ads.info()"
      ],
      "execution_count": 0,
      "outputs": [
        {
          "output_type": "stream",
          "text": [
            "<class 'pandas.core.frame.DataFrame'>\n",
            "Int64Index: 307297 entries, 108781 to 835118\n",
            "Data columns (total 20 columns):\n",
            "ad_id               307297 non-null int64\n",
            "category            307297 non-null int64\n",
            "category_name       307297 non-null object\n",
            "list_id             307297 non-null int64\n",
            "subject             307297 non-null object\n",
            "number_of_images    307297 non-null int64\n",
            "price               304565 non-null float64\n",
            "company_ad          307297 non-null bool\n",
            "seller_type         307297 non-null object\n",
            "on_listing          307297 non-null bool\n",
            "in_shop             307297 non-null bool\n",
            "city                307296 non-null object\n",
            "city_id             307296 non-null float64\n",
            "region              306604 non-null object\n",
            "region_id           306604 non-null float64\n",
            "district            307186 non-null object\n",
            "ward                252425 non-null object\n",
            "shop_id             13271 non-null float64\n",
            "address             0 non-null float64\n",
            "street              0 non-null float64\n",
            "dtypes: bool(3), float64(6), int64(4), object(7)\n",
            "memory usage: 43.1+ MB\n"
          ],
          "name": "stdout"
        }
      ]
    },
    {
      "cell_type": "code",
      "metadata": {
        "id": "OEnseu-TyUDt",
        "colab_type": "code",
        "colab": {}
      },
      "source": [
        "interactions = pd.read_json(base_path + './adstats0.json')\n",
        "interactions1 = pd.read_json(base_path + './adstats1.json')\n",
        "interactions = interactions.append(interactions1)"
      ],
      "execution_count": 0,
      "outputs": []
    },
    {
      "cell_type": "code",
      "metadata": {
        "id": "mEZHTbhr0F0N",
        "colab_type": "code",
        "colab": {}
      },
      "source": [
        "most_actived = interactions.groupby('adlist_id', as_index=False).count().sort_values('user_fingerprint', ascending=False).head(10000)['adlist_id']\n",
        "most_actived_id = most_actived.tolist()"
      ],
      "execution_count": 0,
      "outputs": []
    },
    {
      "cell_type": "code",
      "metadata": {
        "id": "G_7Hp8FGAsYS",
        "colab_type": "code",
        "colab": {}
      },
      "source": [
        "extracted_ads = ads[ads['list_id'].isin(most_actived_id)]\n",
        "extracted_ads = filter_irrelevant_keyword(extracted_ads)"
      ],
      "execution_count": 0,
      "outputs": []
    },
    {
      "cell_type": "code",
      "metadata": {
        "id": "lo9IEB79TQ-a",
        "colab_type": "code",
        "colab": {}
      },
      "source": [
        "def best_pricing(city_id, category_id):\n",
        "    return extracted_ads[(extracted_ads['city_id'] == city_id) & (extracted_ads['category'] == category_id)].sort_values(by='price').head(10)\n"
      ],
      "execution_count": 0,
      "outputs": []
    },
    {
      "cell_type": "code",
      "metadata": {
        "id": "55nYiet_ChMt",
        "colab_type": "code",
        "outputId": "407be53b-9a1e-4bde-f21a-89cc613be83a",
        "colab": {
          "base_uri": "https://localhost:8080/",
          "height": 867
        }
      },
      "source": [
        "my_city = 13000.0 # HCM\n",
        "my_category = 5070 # desktop\n",
        "best_pricing_desktop = best_pricing(my_city, my_category)"
      ],
      "execution_count": 0,
      "outputs": [
        {
          "output_type": "execute_result",
          "data": {
            "text/html": [
              "<div>\n",
              "<style scoped>\n",
              "    .dataframe tbody tr th:only-of-type {\n",
              "        vertical-align: middle;\n",
              "    }\n",
              "\n",
              "    .dataframe tbody tr th {\n",
              "        vertical-align: top;\n",
              "    }\n",
              "\n",
              "    .dataframe thead th {\n",
              "        text-align: right;\n",
              "    }\n",
              "</style>\n",
              "<table border=\"1\" class=\"dataframe\">\n",
              "  <thead>\n",
              "    <tr style=\"text-align: right;\">\n",
              "      <th></th>\n",
              "      <th>ad_id</th>\n",
              "      <th>category</th>\n",
              "      <th>category_name</th>\n",
              "      <th>list_id</th>\n",
              "      <th>subject</th>\n",
              "      <th>number_of_images</th>\n",
              "      <th>price</th>\n",
              "      <th>company_ad</th>\n",
              "      <th>seller_type</th>\n",
              "      <th>on_listing</th>\n",
              "      <th>in_shop</th>\n",
              "      <th>city</th>\n",
              "      <th>city_id</th>\n",
              "      <th>region</th>\n",
              "      <th>region_id</th>\n",
              "      <th>district</th>\n",
              "      <th>ward</th>\n",
              "      <th>shop_id</th>\n",
              "      <th>address</th>\n",
              "      <th>street</th>\n",
              "    </tr>\n",
              "  </thead>\n",
              "  <tbody>\n",
              "    <tr>\n",
              "      <th>111327</th>\n",
              "      <td>91069364</td>\n",
              "      <td>5070</td>\n",
              "      <td>Desktop</td>\n",
              "      <td>62854776</td>\n",
              "      <td>máy đồng bộ  acer veriton m460</td>\n",
              "      <td>3</td>\n",
              "      <td>400000.0</td>\n",
              "      <td>False</td>\n",
              "      <td>private</td>\n",
              "      <td>True</td>\n",
              "      <td>False</td>\n",
              "      <td>Tp Hồ Chí Minh</td>\n",
              "      <td>13000.0</td>\n",
              "      <td>Tp Hồ Chí Minh</td>\n",
              "      <td>13.0</td>\n",
              "      <td>Quận Tân Phú</td>\n",
              "      <td>Phường Tân Quý</td>\n",
              "      <td>NaN</td>\n",
              "      <td>NaN</td>\n",
              "      <td>NaN</td>\n",
              "    </tr>\n",
              "    <tr>\n",
              "      <th>111882</th>\n",
              "      <td>66447997</td>\n",
              "      <td>5070</td>\n",
              "      <td>Desktop</td>\n",
              "      <td>44579564</td>\n",
              "      <td>máy tính core2duo, ram 4gb, hdd128gb, gga nvidia</td>\n",
              "      <td>5</td>\n",
              "      <td>900000.0</td>\n",
              "      <td>True</td>\n",
              "      <td>pro</td>\n",
              "      <td>True</td>\n",
              "      <td>False</td>\n",
              "      <td>Tp Hồ Chí Minh</td>\n",
              "      <td>13000.0</td>\n",
              "      <td>Tp Hồ Chí Minh</td>\n",
              "      <td>13.0</td>\n",
              "      <td>Quận Bình Tân</td>\n",
              "      <td>None</td>\n",
              "      <td>NaN</td>\n",
              "      <td>NaN</td>\n",
              "      <td>NaN</td>\n",
              "    </tr>\n",
              "    <tr>\n",
              "      <th>109744</th>\n",
              "      <td>91052228</td>\n",
              "      <td>5070</td>\n",
              "      <td>Desktop</td>\n",
              "      <td>62839448</td>\n",
              "      <td>bộ e8500 chuyên đồ họa.vga rời 2g.lol150fps.fo...</td>\n",
              "      <td>3</td>\n",
              "      <td>1200000.0</td>\n",
              "      <td>True</td>\n",
              "      <td>pro</td>\n",
              "      <td>True</td>\n",
              "      <td>False</td>\n",
              "      <td>Tp Hồ Chí Minh</td>\n",
              "      <td>13000.0</td>\n",
              "      <td>Tp Hồ Chí Minh</td>\n",
              "      <td>13.0</td>\n",
              "      <td>Quận 10</td>\n",
              "      <td>Phường 1</td>\n",
              "      <td>NaN</td>\n",
              "      <td>NaN</td>\n",
              "      <td>NaN</td>\n",
              "    </tr>\n",
              "    <tr>\n",
              "      <th>109454</th>\n",
              "      <td>90917220</td>\n",
              "      <td>5070</td>\n",
              "      <td>Desktop</td>\n",
              "      <td>62733925</td>\n",
              "      <td>máy pc (new) giải trí siêu rẻ lol , cf</td>\n",
              "      <td>3</td>\n",
              "      <td>1250000.0</td>\n",
              "      <td>True</td>\n",
              "      <td>pro</td>\n",
              "      <td>True</td>\n",
              "      <td>False</td>\n",
              "      <td>Tp Hồ Chí Minh</td>\n",
              "      <td>13000.0</td>\n",
              "      <td>Tp Hồ Chí Minh</td>\n",
              "      <td>13.0</td>\n",
              "      <td>Quận 8</td>\n",
              "      <td>Phường 4</td>\n",
              "      <td>NaN</td>\n",
              "      <td>NaN</td>\n",
              "      <td>NaN</td>\n",
              "    </tr>\n",
              "    <tr>\n",
              "      <th>111988</th>\n",
              "      <td>91179877</td>\n",
              "      <td>5070</td>\n",
              "      <td>Desktop</td>\n",
              "      <td>62941637</td>\n",
              "      <td>dư dùng bán bộ máy bàn siêu bền giá sinh viên.</td>\n",
              "      <td>3</td>\n",
              "      <td>1350000.0</td>\n",
              "      <td>False</td>\n",
              "      <td>private</td>\n",
              "      <td>True</td>\n",
              "      <td>False</td>\n",
              "      <td>Tp Hồ Chí Minh</td>\n",
              "      <td>13000.0</td>\n",
              "      <td>Tp Hồ Chí Minh</td>\n",
              "      <td>13.0</td>\n",
              "      <td>Quận Bình Tân</td>\n",
              "      <td>None</td>\n",
              "      <td>NaN</td>\n",
              "      <td>NaN</td>\n",
              "      <td>NaN</td>\n",
              "    </tr>\n",
              "    <tr>\n",
              "      <th>115359</th>\n",
              "      <td>91077260</td>\n",
              "      <td>5070</td>\n",
              "      <td>Desktop</td>\n",
              "      <td>62860982</td>\n",
              "      <td>thùng cpu h81, g3250, ram 4gb, vga 2gb vỏ đẹp</td>\n",
              "      <td>3</td>\n",
              "      <td>1650000.0</td>\n",
              "      <td>True</td>\n",
              "      <td>pro</td>\n",
              "      <td>True</td>\n",
              "      <td>False</td>\n",
              "      <td>Tp Hồ Chí Minh</td>\n",
              "      <td>13000.0</td>\n",
              "      <td>Tp Hồ Chí Minh</td>\n",
              "      <td>13.0</td>\n",
              "      <td>Quận Bình Thạnh</td>\n",
              "      <td>Phường 14</td>\n",
              "      <td>NaN</td>\n",
              "      <td>NaN</td>\n",
              "      <td>NaN</td>\n",
              "    </tr>\n",
              "    <tr>\n",
              "      <th>113035</th>\n",
              "      <td>91009909</td>\n",
              "      <td>5070</td>\n",
              "      <td>Desktop</td>\n",
              "      <td>62807536</td>\n",
              "      <td>sale thanh lý pc giá rẻ cực đã bao test uy tín</td>\n",
              "      <td>6</td>\n",
              "      <td>1899000.0</td>\n",
              "      <td>True</td>\n",
              "      <td>pro</td>\n",
              "      <td>True</td>\n",
              "      <td>False</td>\n",
              "      <td>Tp Hồ Chí Minh</td>\n",
              "      <td>13000.0</td>\n",
              "      <td>Tp Hồ Chí Minh</td>\n",
              "      <td>13.0</td>\n",
              "      <td>Quận Tân Bình</td>\n",
              "      <td>None</td>\n",
              "      <td>NaN</td>\n",
              "      <td>NaN</td>\n",
              "      <td>NaN</td>\n",
              "    </tr>\n",
              "    <tr>\n",
              "      <th>110265</th>\n",
              "      <td>90085586</td>\n",
              "      <td>5070</td>\n",
              "      <td>Desktop</td>\n",
              "      <td>62100586</td>\n",
              "      <td>pc bắn pubg chiến lol gtv giá rẻ xeon,core,i7🧧🧧</td>\n",
              "      <td>6</td>\n",
              "      <td>1899000.0</td>\n",
              "      <td>True</td>\n",
              "      <td>pro</td>\n",
              "      <td>True</td>\n",
              "      <td>False</td>\n",
              "      <td>Tp Hồ Chí Minh</td>\n",
              "      <td>13000.0</td>\n",
              "      <td>Tp Hồ Chí Minh</td>\n",
              "      <td>13.0</td>\n",
              "      <td>Quận 12</td>\n",
              "      <td>None</td>\n",
              "      <td>NaN</td>\n",
              "      <td>NaN</td>\n",
              "      <td>NaN</td>\n",
              "    </tr>\n",
              "    <tr>\n",
              "      <th>109048</th>\n",
              "      <td>90441843</td>\n",
              "      <td>5070</td>\n",
              "      <td>Desktop</td>\n",
              "      <td>62381103</td>\n",
              "      <td>máy bộ hp i3 hp zin</td>\n",
              "      <td>3</td>\n",
              "      <td>1900000.0</td>\n",
              "      <td>True</td>\n",
              "      <td>pro</td>\n",
              "      <td>True</td>\n",
              "      <td>False</td>\n",
              "      <td>Tp Hồ Chí Minh</td>\n",
              "      <td>13000.0</td>\n",
              "      <td>Tp Hồ Chí Minh</td>\n",
              "      <td>13.0</td>\n",
              "      <td>Quận 5</td>\n",
              "      <td>Phường 2</td>\n",
              "      <td>NaN</td>\n",
              "      <td>NaN</td>\n",
              "      <td>NaN</td>\n",
              "    </tr>\n",
              "    <tr>\n",
              "      <th>114854</th>\n",
              "      <td>84244151</td>\n",
              "      <td>5070</td>\n",
              "      <td>Desktop</td>\n",
              "      <td>57723862</td>\n",
              "      <td>trọn bộ máy ram4g, card rời 4g, màn 19</td>\n",
              "      <td>4</td>\n",
              "      <td>1900000.0</td>\n",
              "      <td>False</td>\n",
              "      <td>private</td>\n",
              "      <td>True</td>\n",
              "      <td>False</td>\n",
              "      <td>Tp Hồ Chí Minh</td>\n",
              "      <td>13000.0</td>\n",
              "      <td>Tp Hồ Chí Minh</td>\n",
              "      <td>13.0</td>\n",
              "      <td>Quận Thủ Đức</td>\n",
              "      <td>None</td>\n",
              "      <td>NaN</td>\n",
              "      <td>NaN</td>\n",
              "      <td>NaN</td>\n",
              "    </tr>\n",
              "  </tbody>\n",
              "</table>\n",
              "</div>"
            ],
            "text/plain": [
              "           ad_id  category category_name  ...  shop_id address  street\n",
              "111327  91069364      5070       Desktop  ...      NaN     NaN     NaN\n",
              "111882  66447997      5070       Desktop  ...      NaN     NaN     NaN\n",
              "109744  91052228      5070       Desktop  ...      NaN     NaN     NaN\n",
              "109454  90917220      5070       Desktop  ...      NaN     NaN     NaN\n",
              "111988  91179877      5070       Desktop  ...      NaN     NaN     NaN\n",
              "115359  91077260      5070       Desktop  ...      NaN     NaN     NaN\n",
              "113035  91009909      5070       Desktop  ...      NaN     NaN     NaN\n",
              "110265  90085586      5070       Desktop  ...      NaN     NaN     NaN\n",
              "109048  90441843      5070       Desktop  ...      NaN     NaN     NaN\n",
              "114854  84244151      5070       Desktop  ...      NaN     NaN     NaN\n",
              "\n",
              "[10 rows x 20 columns]"
            ]
          },
          "metadata": {
            "tags": []
          },
          "execution_count": 13
        }
      ]
    },
    {
      "cell_type": "code",
      "metadata": {
        "id": "uKH22oQAKgpi",
        "colab_type": "code",
        "colab": {}
      },
      "source": [
        "best_pricing_desktop.to_json('./best_pricing_HCM_desktop.json', orient='records')"
      ],
      "execution_count": 0,
      "outputs": []
    },
    {
      "cell_type": "code",
      "metadata": {
        "id": "ekbWLsKBt4lM",
        "colab_type": "code",
        "outputId": "c8bd94b9-a59c-4752-f2b2-be2a7b6f6388",
        "colab": {
          "base_uri": "https://localhost:8080/",
          "height": 1000
        }
      },
      "source": [
        "my_city = 13000.0 # HCM\n",
        "my_category = 5010 # mobile phone\n",
        "best_pricing_mobile = best_pricing(my_city, my_category)\n",
        "best_pricing_mobile"
      ],
      "execution_count": 0,
      "outputs": [
        {
          "output_type": "execute_result",
          "data": {
            "text/html": [
              "<div>\n",
              "<style scoped>\n",
              "    .dataframe tbody tr th:only-of-type {\n",
              "        vertical-align: middle;\n",
              "    }\n",
              "\n",
              "    .dataframe tbody tr th {\n",
              "        vertical-align: top;\n",
              "    }\n",
              "\n",
              "    .dataframe thead th {\n",
              "        text-align: right;\n",
              "    }\n",
              "</style>\n",
              "<table border=\"1\" class=\"dataframe\">\n",
              "  <thead>\n",
              "    <tr style=\"text-align: right;\">\n",
              "      <th></th>\n",
              "      <th>ad_id</th>\n",
              "      <th>category</th>\n",
              "      <th>category_name</th>\n",
              "      <th>list_id</th>\n",
              "      <th>subject</th>\n",
              "      <th>number_of_images</th>\n",
              "      <th>price</th>\n",
              "      <th>company_ad</th>\n",
              "      <th>seller_type</th>\n",
              "      <th>on_listing</th>\n",
              "      <th>in_shop</th>\n",
              "      <th>city</th>\n",
              "      <th>city_id</th>\n",
              "      <th>region</th>\n",
              "      <th>region_id</th>\n",
              "      <th>district</th>\n",
              "      <th>ward</th>\n",
              "      <th>shop_id</th>\n",
              "      <th>address</th>\n",
              "      <th>street</th>\n",
              "    </tr>\n",
              "  </thead>\n",
              "  <tbody>\n",
              "    <tr>\n",
              "      <th>528783</th>\n",
              "      <td>91205623</td>\n",
              "      <td>5010</td>\n",
              "      <td>Mobile Phones</td>\n",
              "      <td>62962069</td>\n",
              "      <td>cần giao lưu, bán 6plus 16g 99% gray</td>\n",
              "      <td>1</td>\n",
              "      <td>10000.0</td>\n",
              "      <td>False</td>\n",
              "      <td>private</td>\n",
              "      <td>True</td>\n",
              "      <td>False</td>\n",
              "      <td>Tp Hồ Chí Minh</td>\n",
              "      <td>13000.0</td>\n",
              "      <td>Tp Hồ Chí Minh</td>\n",
              "      <td>13.0</td>\n",
              "      <td>Quận Thủ Đức</td>\n",
              "      <td>Phường Tam Phú</td>\n",
              "      <td>NaN</td>\n",
              "      <td>NaN</td>\n",
              "      <td>NaN</td>\n",
              "    </tr>\n",
              "    <tr>\n",
              "      <th>480004</th>\n",
              "      <td>91321863</td>\n",
              "      <td>5010</td>\n",
              "      <td>Mobile Phones</td>\n",
              "      <td>63053733</td>\n",
              "      <td>giao lưu nova 2i</td>\n",
              "      <td>3</td>\n",
              "      <td>10000.0</td>\n",
              "      <td>True</td>\n",
              "      <td>pro</td>\n",
              "      <td>True</td>\n",
              "      <td>False</td>\n",
              "      <td>Tp Hồ Chí Minh</td>\n",
              "      <td>13000.0</td>\n",
              "      <td>Tp Hồ Chí Minh</td>\n",
              "      <td>13.0</td>\n",
              "      <td>Quận Bình Tân</td>\n",
              "      <td>Phường Tân Tạo</td>\n",
              "      <td>NaN</td>\n",
              "      <td>NaN</td>\n",
              "      <td>NaN</td>\n",
              "    </tr>\n",
              "    <tr>\n",
              "      <th>452843</th>\n",
              "      <td>91045527</td>\n",
              "      <td>5010</td>\n",
              "      <td>Mobile Phones</td>\n",
              "      <td>62840873</td>\n",
              "      <td>có vai cai nokia cho ae chua chay</td>\n",
              "      <td>2</td>\n",
              "      <td>11000.0</td>\n",
              "      <td>False</td>\n",
              "      <td>private</td>\n",
              "      <td>True</td>\n",
              "      <td>False</td>\n",
              "      <td>Tp Hồ Chí Minh</td>\n",
              "      <td>13000.0</td>\n",
              "      <td>Tp Hồ Chí Minh</td>\n",
              "      <td>13.0</td>\n",
              "      <td>Quận 12</td>\n",
              "      <td>Phường Đông Hưng Thuận</td>\n",
              "      <td>NaN</td>\n",
              "      <td>NaN</td>\n",
              "      <td>NaN</td>\n",
              "    </tr>\n",
              "    <tr>\n",
              "      <th>453770</th>\n",
              "      <td>91137991</td>\n",
              "      <td>5010</td>\n",
              "      <td>Mobile Phones</td>\n",
              "      <td>62908142</td>\n",
              "      <td>kẹt tiền bán gấp ipx 99% hàng cầm đồ giá 12tr.</td>\n",
              "      <td>5</td>\n",
              "      <td>12000.0</td>\n",
              "      <td>False</td>\n",
              "      <td>private</td>\n",
              "      <td>True</td>\n",
              "      <td>False</td>\n",
              "      <td>Tp Hồ Chí Minh</td>\n",
              "      <td>13000.0</td>\n",
              "      <td>Tp Hồ Chí Minh</td>\n",
              "      <td>13.0</td>\n",
              "      <td>Quận 12</td>\n",
              "      <td>Phường Tân Thới Nhất</td>\n",
              "      <td>NaN</td>\n",
              "      <td>NaN</td>\n",
              "      <td>NaN</td>\n",
              "    </tr>\n",
              "    <tr>\n",
              "      <th>459680</th>\n",
              "      <td>91071101</td>\n",
              "      <td>5010</td>\n",
              "      <td>Mobile Phones</td>\n",
              "      <td>62856351</td>\n",
              "      <td>dòng máy trắng main, màn như hình, đọc kỹ</td>\n",
              "      <td>4</td>\n",
              "      <td>24000.0</td>\n",
              "      <td>True</td>\n",
              "      <td>pro</td>\n",
              "      <td>True</td>\n",
              "      <td>False</td>\n",
              "      <td>Tp Hồ Chí Minh</td>\n",
              "      <td>13000.0</td>\n",
              "      <td>Tp Hồ Chí Minh</td>\n",
              "      <td>13.0</td>\n",
              "      <td>Quận Gò Vấp</td>\n",
              "      <td>None</td>\n",
              "      <td>NaN</td>\n",
              "      <td>NaN</td>\n",
              "      <td>NaN</td>\n",
              "    </tr>\n",
              "    <tr>\n",
              "      <th>443743</th>\n",
              "      <td>91063474</td>\n",
              "      <td>5010</td>\n",
              "      <td>Mobile Phones</td>\n",
              "      <td>62850078</td>\n",
              "      <td>ip dai loan nha moi nguoi</td>\n",
              "      <td>3</td>\n",
              "      <td>25000.0</td>\n",
              "      <td>True</td>\n",
              "      <td>pro</td>\n",
              "      <td>True</td>\n",
              "      <td>False</td>\n",
              "      <td>Tp Hồ Chí Minh</td>\n",
              "      <td>13000.0</td>\n",
              "      <td>Tp Hồ Chí Minh</td>\n",
              "      <td>13.0</td>\n",
              "      <td>Quận 9</td>\n",
              "      <td>Phường Tăng Nhơn Phú A</td>\n",
              "      <td>NaN</td>\n",
              "      <td>NaN</td>\n",
              "      <td>NaN</td>\n",
              "    </tr>\n",
              "    <tr>\n",
              "      <th>469458</th>\n",
              "      <td>91140702</td>\n",
              "      <td>5010</td>\n",
              "      <td>Mobile Phones</td>\n",
              "      <td>62910042</td>\n",
              "      <td>hộp iphone 5</td>\n",
              "      <td>3</td>\n",
              "      <td>50000.0</td>\n",
              "      <td>True</td>\n",
              "      <td>pro</td>\n",
              "      <td>True</td>\n",
              "      <td>False</td>\n",
              "      <td>Tp Hồ Chí Minh</td>\n",
              "      <td>13000.0</td>\n",
              "      <td>Tp Hồ Chí Minh</td>\n",
              "      <td>13.0</td>\n",
              "      <td>Quận Tân Phú</td>\n",
              "      <td>Phường Phú Thạnh</td>\n",
              "      <td>NaN</td>\n",
              "      <td>NaN</td>\n",
              "      <td>NaN</td>\n",
              "    </tr>\n",
              "    <tr>\n",
              "      <th>433067</th>\n",
              "      <td>91476967</td>\n",
              "      <td>5010</td>\n",
              "      <td>Mobile Phones</td>\n",
              "      <td>63174702</td>\n",
              "      <td>pin đt philips e105</td>\n",
              "      <td>3</td>\n",
              "      <td>50000.0</td>\n",
              "      <td>False</td>\n",
              "      <td>private</td>\n",
              "      <td>True</td>\n",
              "      <td>False</td>\n",
              "      <td>Tp Hồ Chí Minh</td>\n",
              "      <td>13000.0</td>\n",
              "      <td>Tp Hồ Chí Minh</td>\n",
              "      <td>13.0</td>\n",
              "      <td>Quận 5</td>\n",
              "      <td>Phường 2</td>\n",
              "      <td>NaN</td>\n",
              "      <td>NaN</td>\n",
              "      <td>NaN</td>\n",
              "    </tr>\n",
              "    <tr>\n",
              "      <th>478634</th>\n",
              "      <td>91085294</td>\n",
              "      <td>5010</td>\n",
              "      <td>Mobile Phones</td>\n",
              "      <td>62866873</td>\n",
              "      <td>xả 70k/cây nokia chữa cháy</td>\n",
              "      <td>3</td>\n",
              "      <td>70000.0</td>\n",
              "      <td>True</td>\n",
              "      <td>pro</td>\n",
              "      <td>True</td>\n",
              "      <td>False</td>\n",
              "      <td>Tp Hồ Chí Minh</td>\n",
              "      <td>13000.0</td>\n",
              "      <td>Tp Hồ Chí Minh</td>\n",
              "      <td>13.0</td>\n",
              "      <td>Quận Bình Tân</td>\n",
              "      <td>Phường Tân Tạo A</td>\n",
              "      <td>NaN</td>\n",
              "      <td>NaN</td>\n",
              "      <td>NaN</td>\n",
              "    </tr>\n",
              "    <tr>\n",
              "      <th>443102</th>\n",
              "      <td>91063737</td>\n",
              "      <td>5010</td>\n",
              "      <td>Mobile Phones</td>\n",
              "      <td>62850289</td>\n",
              "      <td>sam sung y</td>\n",
              "      <td>3</td>\n",
              "      <td>70000.0</td>\n",
              "      <td>True</td>\n",
              "      <td>pro</td>\n",
              "      <td>True</td>\n",
              "      <td>False</td>\n",
              "      <td>Tp Hồ Chí Minh</td>\n",
              "      <td>13000.0</td>\n",
              "      <td>Tp Hồ Chí Minh</td>\n",
              "      <td>13.0</td>\n",
              "      <td>Quận 9</td>\n",
              "      <td>Phường Tăng Nhơn Phú A</td>\n",
              "      <td>NaN</td>\n",
              "      <td>NaN</td>\n",
              "      <td>NaN</td>\n",
              "    </tr>\n",
              "  </tbody>\n",
              "</table>\n",
              "</div>"
            ],
            "text/plain": [
              "           ad_id  category  category_name  ...  shop_id address  street\n",
              "528783  91205623      5010  Mobile Phones  ...      NaN     NaN     NaN\n",
              "480004  91321863      5010  Mobile Phones  ...      NaN     NaN     NaN\n",
              "452843  91045527      5010  Mobile Phones  ...      NaN     NaN     NaN\n",
              "453770  91137991      5010  Mobile Phones  ...      NaN     NaN     NaN\n",
              "459680  91071101      5010  Mobile Phones  ...      NaN     NaN     NaN\n",
              "443743  91063474      5010  Mobile Phones  ...      NaN     NaN     NaN\n",
              "469458  91140702      5010  Mobile Phones  ...      NaN     NaN     NaN\n",
              "433067  91476967      5010  Mobile Phones  ...      NaN     NaN     NaN\n",
              "478634  91085294      5010  Mobile Phones  ...      NaN     NaN     NaN\n",
              "443102  91063737      5010  Mobile Phones  ...      NaN     NaN     NaN\n",
              "\n",
              "[10 rows x 20 columns]"
            ]
          },
          "metadata": {
            "tags": []
          },
          "execution_count": 18
        }
      ]
    },
    {
      "cell_type": "code",
      "metadata": {
        "id": "8nxos32ut6ED",
        "colab_type": "code",
        "colab": {}
      },
      "source": [
        "best_pricing_mobile.to_json('./best_pricing_HCM_mobile.json', orient='records')"
      ],
      "execution_count": 0,
      "outputs": []
    },
    {
      "cell_type": "code",
      "metadata": {
        "id": "ANZ4ThlICLUT",
        "colab_type": "code",
        "outputId": "ebf4385a-e0b1-4804-de95-dacca1b87733",
        "colab": {
          "base_uri": "https://localhost:8080/",
          "height": 1000
        }
      },
      "source": [
        "my_city = 13000.0 # HCM\n",
        "my_category = 5030 # laptop\n",
        "best_pricing_laptop = best_pricing(my_city, my_category)\n",
        "best_pricing_laptop"
      ],
      "execution_count": 0,
      "outputs": [
        {
          "output_type": "execute_result",
          "data": {
            "text/html": [
              "<div>\n",
              "<style scoped>\n",
              "    .dataframe tbody tr th:only-of-type {\n",
              "        vertical-align: middle;\n",
              "    }\n",
              "\n",
              "    .dataframe tbody tr th {\n",
              "        vertical-align: top;\n",
              "    }\n",
              "\n",
              "    .dataframe thead th {\n",
              "        text-align: right;\n",
              "    }\n",
              "</style>\n",
              "<table border=\"1\" class=\"dataframe\">\n",
              "  <thead>\n",
              "    <tr style=\"text-align: right;\">\n",
              "      <th></th>\n",
              "      <th>ad_id</th>\n",
              "      <th>category</th>\n",
              "      <th>category_name</th>\n",
              "      <th>list_id</th>\n",
              "      <th>subject</th>\n",
              "      <th>number_of_images</th>\n",
              "      <th>price</th>\n",
              "      <th>company_ad</th>\n",
              "      <th>seller_type</th>\n",
              "      <th>on_listing</th>\n",
              "      <th>in_shop</th>\n",
              "      <th>city</th>\n",
              "      <th>city_id</th>\n",
              "      <th>region</th>\n",
              "      <th>region_id</th>\n",
              "      <th>district</th>\n",
              "      <th>ward</th>\n",
              "      <th>shop_id</th>\n",
              "      <th>address</th>\n",
              "      <th>street</th>\n",
              "    </tr>\n",
              "  </thead>\n",
              "  <tbody>\n",
              "    <tr>\n",
              "      <th>678571</th>\n",
              "      <td>91088217</td>\n",
              "      <td>5030</td>\n",
              "      <td>Computers, Laptops</td>\n",
              "      <td>62869731</td>\n",
              "      <td>dell đã sử dụng</td>\n",
              "      <td>0</td>\n",
              "      <td>100000.0</td>\n",
              "      <td>False</td>\n",
              "      <td>private</td>\n",
              "      <td>True</td>\n",
              "      <td>False</td>\n",
              "      <td>Tp Hồ Chí Minh</td>\n",
              "      <td>13000.0</td>\n",
              "      <td>Tp Hồ Chí Minh</td>\n",
              "      <td>13.0</td>\n",
              "      <td>Quận Bình Thạnh</td>\n",
              "      <td>Phường 13</td>\n",
              "      <td>NaN</td>\n",
              "      <td>NaN</td>\n",
              "      <td>NaN</td>\n",
              "    </tr>\n",
              "    <tr>\n",
              "      <th>668255</th>\n",
              "      <td>91056769</td>\n",
              "      <td>5030</td>\n",
              "      <td>Computers, Laptops</td>\n",
              "      <td>62843678</td>\n",
              "      <td>sạc laptop asus 19v 2.37a 45w</td>\n",
              "      <td>3</td>\n",
              "      <td>100000.0</td>\n",
              "      <td>False</td>\n",
              "      <td>private</td>\n",
              "      <td>True</td>\n",
              "      <td>False</td>\n",
              "      <td>Tp Hồ Chí Minh</td>\n",
              "      <td>13000.0</td>\n",
              "      <td>Tp Hồ Chí Minh</td>\n",
              "      <td>13.0</td>\n",
              "      <td>Quận Tân Phú</td>\n",
              "      <td>Phường Tây Thạnh</td>\n",
              "      <td>NaN</td>\n",
              "      <td>NaN</td>\n",
              "      <td>NaN</td>\n",
              "    </tr>\n",
              "    <tr>\n",
              "      <th>665892</th>\n",
              "      <td>91075525</td>\n",
              "      <td>5030</td>\n",
              "      <td>Computers, Laptops</td>\n",
              "      <td>62859494</td>\n",
              "      <td>dell dòng khác</td>\n",
              "      <td>1</td>\n",
              "      <td>550000.0</td>\n",
              "      <td>False</td>\n",
              "      <td>private</td>\n",
              "      <td>True</td>\n",
              "      <td>False</td>\n",
              "      <td>Tp Hồ Chí Minh</td>\n",
              "      <td>13000.0</td>\n",
              "      <td>Tp Hồ Chí Minh</td>\n",
              "      <td>13.0</td>\n",
              "      <td>Huyện Củ Chi</td>\n",
              "      <td>Xã Bình Mỹ</td>\n",
              "      <td>NaN</td>\n",
              "      <td>NaN</td>\n",
              "      <td>NaN</td>\n",
              "    </tr>\n",
              "    <tr>\n",
              "      <th>665214</th>\n",
              "      <td>91064104</td>\n",
              "      <td>5030</td>\n",
              "      <td>Computers, Laptops</td>\n",
              "      <td>62850649</td>\n",
              "      <td>laptop cũ rẻ - sonyvaio mini 10 inch- nhỏ-gọn-nhẹ</td>\n",
              "      <td>5</td>\n",
              "      <td>999000.0</td>\n",
              "      <td>True</td>\n",
              "      <td>pro</td>\n",
              "      <td>True</td>\n",
              "      <td>False</td>\n",
              "      <td>Tp Hồ Chí Minh</td>\n",
              "      <td>13000.0</td>\n",
              "      <td>Tp Hồ Chí Minh</td>\n",
              "      <td>13.0</td>\n",
              "      <td>Quận 11</td>\n",
              "      <td>Phường 14</td>\n",
              "      <td>NaN</td>\n",
              "      <td>NaN</td>\n",
              "      <td>NaN</td>\n",
              "    </tr>\n",
              "    <tr>\n",
              "      <th>669140</th>\n",
              "      <td>91060475</td>\n",
              "      <td>5030</td>\n",
              "      <td>Computers, Laptops</td>\n",
              "      <td>62847296</td>\n",
              "      <td>bán dell vostro 1015 đã nâng cap lên t9400</td>\n",
              "      <td>2</td>\n",
              "      <td>1000000.0</td>\n",
              "      <td>False</td>\n",
              "      <td>private</td>\n",
              "      <td>True</td>\n",
              "      <td>False</td>\n",
              "      <td>Tp Hồ Chí Minh</td>\n",
              "      <td>13000.0</td>\n",
              "      <td>Tp Hồ Chí Minh</td>\n",
              "      <td>13.0</td>\n",
              "      <td>Huyện Hóc Môn</td>\n",
              "      <td>Thị trấn Hóc Môn</td>\n",
              "      <td>NaN</td>\n",
              "      <td>NaN</td>\n",
              "      <td>NaN</td>\n",
              "    </tr>\n",
              "    <tr>\n",
              "      <th>667378</th>\n",
              "      <td>91144575</td>\n",
              "      <td>5030</td>\n",
              "      <td>Computers, Laptops</td>\n",
              "      <td>62913352</td>\n",
              "      <td>cần bán lại máy laptop nhật cực tốt</td>\n",
              "      <td>2</td>\n",
              "      <td>1000000.0</td>\n",
              "      <td>False</td>\n",
              "      <td>private</td>\n",
              "      <td>True</td>\n",
              "      <td>False</td>\n",
              "      <td>Tp Hồ Chí Minh</td>\n",
              "      <td>13000.0</td>\n",
              "      <td>Tp Hồ Chí Minh</td>\n",
              "      <td>13.0</td>\n",
              "      <td>Quận Gò Vấp</td>\n",
              "      <td>Phường 15</td>\n",
              "      <td>NaN</td>\n",
              "      <td>NaN</td>\n",
              "      <td>NaN</td>\n",
              "    </tr>\n",
              "    <tr>\n",
              "      <th>669627</th>\n",
              "      <td>91077637</td>\n",
              "      <td>5030</td>\n",
              "      <td>Computers, Laptops</td>\n",
              "      <td>62861323</td>\n",
              "      <td>hp compaq intel core 2 duo 2 gb 320 gb</td>\n",
              "      <td>5</td>\n",
              "      <td>1050000.0</td>\n",
              "      <td>True</td>\n",
              "      <td>pro</td>\n",
              "      <td>True</td>\n",
              "      <td>False</td>\n",
              "      <td>Tp Hồ Chí Minh</td>\n",
              "      <td>13000.0</td>\n",
              "      <td>Tp Hồ Chí Minh</td>\n",
              "      <td>13.0</td>\n",
              "      <td>Quận Bình Tân</td>\n",
              "      <td>Phường An Lạc A</td>\n",
              "      <td>NaN</td>\n",
              "      <td>NaN</td>\n",
              "      <td>NaN</td>\n",
              "    </tr>\n",
              "    <tr>\n",
              "      <th>669389</th>\n",
              "      <td>91056246</td>\n",
              "      <td>5030</td>\n",
              "      <td>Computers, Laptops</td>\n",
              "      <td>62843162</td>\n",
              "      <td>macbook hiệu apple bị lỗi phím.</td>\n",
              "      <td>6</td>\n",
              "      <td>1200000.0</td>\n",
              "      <td>False</td>\n",
              "      <td>private</td>\n",
              "      <td>True</td>\n",
              "      <td>False</td>\n",
              "      <td>Tp Hồ Chí Minh</td>\n",
              "      <td>13000.0</td>\n",
              "      <td>Tp Hồ Chí Minh</td>\n",
              "      <td>13.0</td>\n",
              "      <td>Quận Bình Tân</td>\n",
              "      <td>Phường An Lạc</td>\n",
              "      <td>NaN</td>\n",
              "      <td>NaN</td>\n",
              "      <td>NaN</td>\n",
              "    </tr>\n",
              "    <tr>\n",
              "      <th>668349</th>\n",
              "      <td>91206317</td>\n",
              "      <td>5030</td>\n",
              "      <td>Computers, Laptops</td>\n",
              "      <td>62962443</td>\n",
              "      <td>laptop fujitsu core 2 t7100 2gb 160gb còn đẹp</td>\n",
              "      <td>3</td>\n",
              "      <td>1200000.0</td>\n",
              "      <td>True</td>\n",
              "      <td>pro</td>\n",
              "      <td>True</td>\n",
              "      <td>False</td>\n",
              "      <td>Tp Hồ Chí Minh</td>\n",
              "      <td>13000.0</td>\n",
              "      <td>Tp Hồ Chí Minh</td>\n",
              "      <td>13.0</td>\n",
              "      <td>Quận Tân Phú</td>\n",
              "      <td>Phường Phú Thạnh</td>\n",
              "      <td>NaN</td>\n",
              "      <td>NaN</td>\n",
              "      <td>NaN</td>\n",
              "    </tr>\n",
              "    <tr>\n",
              "      <th>663623</th>\n",
              "      <td>91087068</td>\n",
              "      <td>5030</td>\n",
              "      <td>Computers, Laptops</td>\n",
              "      <td>62868667</td>\n",
              "      <td>hp cq40 cpu core 2 duo/ ram 3gb/ hdd 250g</td>\n",
              "      <td>3</td>\n",
              "      <td>1200000.0</td>\n",
              "      <td>False</td>\n",
              "      <td>private</td>\n",
              "      <td>True</td>\n",
              "      <td>False</td>\n",
              "      <td>Tp Hồ Chí Minh</td>\n",
              "      <td>13000.0</td>\n",
              "      <td>Tp Hồ Chí Minh</td>\n",
              "      <td>13.0</td>\n",
              "      <td>Quận 7</td>\n",
              "      <td>Phường Phú Thuận</td>\n",
              "      <td>NaN</td>\n",
              "      <td>NaN</td>\n",
              "      <td>NaN</td>\n",
              "    </tr>\n",
              "  </tbody>\n",
              "</table>\n",
              "</div>"
            ],
            "text/plain": [
              "           ad_id  category       category_name  ...  shop_id address  street\n",
              "678571  91088217      5030  Computers, Laptops  ...      NaN     NaN     NaN\n",
              "668255  91056769      5030  Computers, Laptops  ...      NaN     NaN     NaN\n",
              "665892  91075525      5030  Computers, Laptops  ...      NaN     NaN     NaN\n",
              "665214  91064104      5030  Computers, Laptops  ...      NaN     NaN     NaN\n",
              "669140  91060475      5030  Computers, Laptops  ...      NaN     NaN     NaN\n",
              "667378  91144575      5030  Computers, Laptops  ...      NaN     NaN     NaN\n",
              "669627  91077637      5030  Computers, Laptops  ...      NaN     NaN     NaN\n",
              "669389  91056246      5030  Computers, Laptops  ...      NaN     NaN     NaN\n",
              "668349  91206317      5030  Computers, Laptops  ...      NaN     NaN     NaN\n",
              "663623  91087068      5030  Computers, Laptops  ...      NaN     NaN     NaN\n",
              "\n",
              "[10 rows x 20 columns]"
            ]
          },
          "metadata": {
            "tags": []
          },
          "execution_count": 20
        }
      ]
    },
    {
      "cell_type": "code",
      "metadata": {
        "id": "cSE9MnDXCZDR",
        "colab_type": "code",
        "colab": {}
      },
      "source": [
        "best_pricing_laptop.to_json('./best_pricing_HCM_laptop.json',orient='records')"
      ],
      "execution_count": 0,
      "outputs": []
    },
    {
      "cell_type": "markdown",
      "metadata": {
        "id": "YbBJ0NUNO4mO",
        "colab_type": "text"
      },
      "source": [
        "# Collection\n",
        "\n",
        "Contruct content-based collection"
      ]
    },
    {
      "cell_type": "code",
      "metadata": {
        "id": "FgqCjEXgPAO7",
        "colab_type": "code",
        "colab": {}
      },
      "source": [
        "ads = pd.read_json(base_path + '/ads')"
      ],
      "execution_count": 0,
      "outputs": []
    },
    {
      "cell_type": "code",
      "metadata": {
        "id": "ZI9QuKWCXqj0",
        "colab_type": "code",
        "outputId": "0a6fe01d-f694-441f-e339-f9237176c1ab",
        "colab": {
          "base_uri": "https://localhost:8080/",
          "height": 54
        }
      },
      "source": [
        "ads = filter_irrelevant_keyword(ads)"
      ],
      "execution_count": 0,
      "outputs": [
        {
          "output_type": "stream",
          "text": [
            "/usr/local/lib/python3.6/dist-packages/pandas/core/strings.py:1843: UserWarning: This pattern has match groups. To actually get the groups, use str.extract.\n",
            "  return func(self, *args, **kwargs)\n"
          ],
          "name": "stderr"
        }
      ]
    },
    {
      "cell_type": "code",
      "metadata": {
        "id": "3JM1mC4Nch_9",
        "colab_type": "code",
        "outputId": "541f0b35-46e3-46f3-f2c9-2e90c1049727",
        "colab": {
          "base_uri": "https://localhost:8080/",
          "height": 457
        }
      },
      "source": [
        "ads.info()"
      ],
      "execution_count": 0,
      "outputs": [
        {
          "output_type": "stream",
          "text": [
            "<class 'pandas.core.frame.DataFrame'>\n",
            "Int64Index: 288853 entries, 0 to 307296\n",
            "Data columns (total 20 columns):\n",
            "ad_id               288853 non-null int64\n",
            "category            288853 non-null int64\n",
            "category_name       288853 non-null object\n",
            "list_id             288853 non-null int64\n",
            "subject             288853 non-null object\n",
            "number_of_images    288853 non-null int64\n",
            "price               287783 non-null float64\n",
            "company_ad          288853 non-null bool\n",
            "seller_type         288853 non-null object\n",
            "on_listing          288853 non-null bool\n",
            "in_shop             288853 non-null bool\n",
            "city                288852 non-null object\n",
            "city_id             288852 non-null float64\n",
            "region              288203 non-null object\n",
            "region_id           288203 non-null float64\n",
            "district            288756 non-null object\n",
            "ward                236604 non-null object\n",
            "shop_id             13106 non-null float64\n",
            "address             0 non-null float64\n",
            "street              0 non-null float64\n",
            "dtypes: bool(3), float64(6), int64(4), object(7)\n",
            "memory usage: 40.5+ MB\n"
          ],
          "name": "stdout"
        }
      ]
    },
    {
      "cell_type": "code",
      "metadata": {
        "id": "1cUOLocwCT_F",
        "colab_type": "code",
        "colab": {}
      },
      "source": [
        "interactions = pd.read_json(base_path + './adstats0.json')\n",
        "interactions1 = pd.read_json(base_path + './adstats1.json')\n",
        "interactions2 = pd.read_json(base_path + './adstats2.json')\n",
        "interactions = interactions.append(interactions1)\n",
        "interactions = interactions.append(interactions2)"
      ],
      "execution_count": 0,
      "outputs": []
    },
    {
      "cell_type": "code",
      "metadata": {
        "id": "Fhg0o9bs_m7n",
        "colab_type": "code",
        "outputId": "7535ad6a-6c51-49a6-9f24-b51a2cb85073",
        "colab": {
          "base_uri": "https://localhost:8080/",
          "height": 228
        }
      },
      "source": [
        "interactions['user_fingerprint'].value_counts(sort=True, ascending=False)"
      ],
      "execution_count": 0,
      "outputs": [
        {
          "output_type": "execute_result",
          "data": {
            "text/plain": [
              "                                        485629\n",
              "e04f4a77-1b4d-4fb6-9529-5b1b12162067     27341\n",
              "232d6ca4-a702-492f-ae82-a2b3aa0519e9     26087\n",
              "984ea8e1-be16-49bd-92fa-7650344a462b     24795\n",
              "750a818f-c328-4442-bd73-df4792f7de57     21943\n",
              "                                         ...  \n",
              "7d410cd1-e2b2-4801-be3f-1aabac525d94        56\n",
              "fafc0567-d4cb-4653-a6e8-04a814f916ae        55\n",
              "2c6206c6-a660-46cc-ad44-840708352652        44\n",
              "9b67cb7e-db7a-4abb-8f50-00726389074a        37\n",
              "d614614f-dc4a-4b6c-ac47-0ba31b0d9a2f        26\n",
              "Name: user_fingerprint, Length: 1000, dtype: int64"
            ]
          },
          "metadata": {
            "tags": []
          },
          "execution_count": 5
        }
      ]
    },
    {
      "cell_type": "code",
      "metadata": {
        "id": "V3YqVIVUAMyE",
        "colab_type": "code",
        "colab": {}
      },
      "source": [
        "user_fingerprint = 'e04f4a77-1b4d-4fb6-9529-5b1b12162067'"
      ],
      "execution_count": 0,
      "outputs": []
    },
    {
      "cell_type": "markdown",
      "metadata": {
        "id": "YM-6ElfcpUte",
        "colab_type": "text"
      },
      "source": [
        "## Use BoW to find most frequent subcategory"
      ]
    },
    {
      "cell_type": "code",
      "metadata": {
        "id": "vqfoL1tBXGs-",
        "colab_type": "code",
        "colab": {}
      },
      "source": [
        "from sklearn.feature_extraction.text import TfidfVectorizer\n",
        "from sklearn.metrics.pairwise import cosine_similarity\n",
        "import re\n",
        "from sklearn.feature_extraction.text import CountVectorizer\n",
        "# Your code here\n",
        "\n",
        "\n",
        "# Define an object of CountVectorizer() as count\n",
        "count = CountVectorizer()\n",
        "\n",
        "\n",
        "def preprocessor(text):\n",
        "    \"\"\" Return a cleaned version of text\n",
        "    \"\"\"\n",
        "    text = text.replace(\"mac \", \"macbook \")\n",
        "    text = text.replace(\"ip \", \"iphone \")\n",
        "    text = text.replace(\"bán\", \" \")\n",
        "    text = text.replace(\"zin\", \" \")\n",
        "    text = text.replace(\"mới\", \" \")\n",
        "    text = text.replace(\"máy\", \" \")\n",
        "    text = text.replace(\"cần\", \" \")\n",
        "    text = text.replace(\"_\", \" \")\n",
        "    text = text.replace(\"gb\", \" \")\n",
        "    text = text.replace(\"plus\", \" \")\n",
        "    text = text.replace(\"galaxy\", \" \")\n",
        "    # plus = re.findall('[\\d]+{1,2} plus', text)\n",
        "    # galaxy = re.findall('galaxy [\\w]+{1,2}', text)\n",
        "    text = re.sub('[\\W]+', ' ', text)\n",
        "    text = re.sub('[\\d]', ' ', text)\n",
        "    return text\n",
        "\n",
        "\n",
        "def tokenizer(text):\n",
        "    token = []\n",
        "    \n",
        "    # Your code here\n",
        "    token = [word for word in text.split() if not word.isdigit()]\n",
        "    \n",
        "    return token\n",
        "\n",
        "def TfIdf(corpus):\n",
        "    tfidf = TfidfVectorizer(tokenizer=tokenizer,\n",
        "                        preprocessor=preprocessor)\n",
        "    tf_idf_vector=tfidf.fit_transform(corpus)\n",
        "    feature_names=tfidf.get_feature_names()    \n",
        "    return [feature_names, tf_idf_vector]\n",
        "\n",
        "#helper functions\n",
        "def sort_coo(coo_matrix):\n",
        "    tuples = zip(coo_matrix.col, coo_matrix.data)\n",
        "    return sorted(tuples, key=lambda x: (x[1], x[0]), reverse=True)\n",
        " \n",
        "def extract_topn_from_vector(feature_names, sorted_items, topn=10):\n",
        "    \"\"\"get the feature names and tf-idf score of top n items\"\"\"\n",
        "    \n",
        "    #use only topn items from vector\n",
        "    sorted_items = sorted_items[:topn]\n",
        " \n",
        "    score_vals = []\n",
        "    feature_vals = []\n",
        "    \n",
        "    # word index and corresponding tf-idf score\n",
        "    for idx, score in sorted_items:\n",
        "        \n",
        "        #keep track of feature name and its corresponding score\n",
        "        score_vals.append(round(score, 3))\n",
        "        feature_vals.append(feature_names[idx])\n",
        " \n",
        "    #create a tuples of feature,score\n",
        "    #results = zip(feature_vals,score_vals)\n",
        "    results= {}\n",
        "    for idx in range(len(feature_vals)):\n",
        "        results[feature_vals[idx]]=score_vals[idx]\n",
        "    \n",
        "    return results"
      ],
      "execution_count": 0,
      "outputs": []
    },
    {
      "cell_type": "code",
      "metadata": {
        "id": "6ZQRulvpcW3A",
        "colab_type": "code",
        "colab": {}
      },
      "source": [
        "interactions = pd.merge(interactions, ads[['list_id','subject']], left_on = 'adlist_id', right_on = 'list_id', how='left')"
      ],
      "execution_count": 0,
      "outputs": []
    },
    {
      "cell_type": "code",
      "metadata": {
        "id": "Ydz_0zEUdMFZ",
        "colab_type": "code",
        "outputId": "bf0cccea-8e76-4d2b-ccf6-e695e0269fcc",
        "colab": {
          "base_uri": "https://localhost:8080/",
          "height": 363
        }
      },
      "source": [
        "interactions.info()"
      ],
      "execution_count": 0,
      "outputs": [
        {
          "output_type": "stream",
          "text": [
            "<class 'pandas.core.frame.DataFrame'>\n",
            "Int64Index: 3154591 entries, 0 to 3154590\n",
            "Data columns (total 14 columns):\n",
            "user_fingerprint      object\n",
            "event_type            object\n",
            "event_name            object\n",
            "event_server_time     datetime64[ns]\n",
            "filter_keyword        object\n",
            "filter_category_id    int64\n",
            "filter_region_id      int64\n",
            "adlist_id             int64\n",
            "filter_type           object\n",
            "filter_price          object\n",
            "filter_brand          object\n",
            "filter_model          object\n",
            "list_id               float64\n",
            "subject               object\n",
            "dtypes: datetime64[ns](1), float64(1), int64(3), object(9)\n",
            "memory usage: 361.0+ MB\n"
          ],
          "name": "stdout"
        }
      ]
    },
    {
      "cell_type": "code",
      "metadata": {
        "id": "UP4UxqR4dVhj",
        "colab_type": "code",
        "colab": {}
      },
      "source": [
        "interactions = interactions[pd.notnull(interactions['subject'])]"
      ],
      "execution_count": 0,
      "outputs": []
    },
    {
      "cell_type": "code",
      "metadata": {
        "id": "72ZDWWIC0zzI",
        "colab_type": "code",
        "outputId": "e8006a44-133a-42ac-a8ad-6cac3943b7cd",
        "colab": {
          "base_uri": "https://localhost:8080/",
          "height": 363
        }
      },
      "source": [
        "interactions.info()"
      ],
      "execution_count": 0,
      "outputs": [
        {
          "output_type": "stream",
          "text": [
            "<class 'pandas.core.frame.DataFrame'>\n",
            "Int64Index: 2978972 entries, 1 to 3156916\n",
            "Data columns (total 14 columns):\n",
            "user_fingerprint      object\n",
            "event_type            object\n",
            "event_name            object\n",
            "event_server_time     datetime64[ns]\n",
            "filter_keyword        object\n",
            "filter_category_id    int64\n",
            "filter_region_id      int64\n",
            "adlist_id             int64\n",
            "filter_type           object\n",
            "filter_price          object\n",
            "filter_brand          object\n",
            "filter_model          object\n",
            "list_id               float64\n",
            "subject               object\n",
            "dtypes: datetime64[ns](1), float64(1), int64(3), object(9)\n",
            "memory usage: 340.9+ MB\n"
          ],
          "name": "stdout"
        }
      ]
    },
    {
      "cell_type": "code",
      "metadata": {
        "id": "ZQhjBlZmCL5r",
        "colab_type": "code",
        "colab": {}
      },
      "source": [
        "subject = interactions['subject']\n",
        "subject = [preprocessor(s) for s in subject]\n",
        "# With count object, fit and transfom your twits and save result in a variable name 'bag'\n",
        "bag = count.fit_transform(subject)"
      ],
      "execution_count": 0,
      "outputs": []
    },
    {
      "cell_type": "code",
      "metadata": {
        "id": "6KG0KiWUneV0",
        "colab_type": "code",
        "colab": {}
      },
      "source": [
        "sum_words = bag.sum(axis=0) \n",
        "words_freq = [(word, sum_words[0, idx]) for word, idx in count.vocabulary_.items()]\n",
        "words_freq =sorted(words_freq, key = lambda x: x[1], reverse=True)"
      ],
      "execution_count": 0,
      "outputs": []
    },
    {
      "cell_type": "code",
      "metadata": {
        "id": "0UxtR1P-ornk",
        "colab_type": "code",
        "outputId": "1097ba3d-5abc-4072-b200-8834d80255e3",
        "colab": {
          "base_uri": "https://localhost:8080/",
          "height": 199
        }
      },
      "source": [
        "most_frequent_keywords = words_freq[:10]\n",
        "most_frequent_keywords"
      ],
      "execution_count": 0,
      "outputs": [
        {
          "output_type": "execute_result",
          "data": {
            "text/plain": [
              "[('iphone', 444144),\n",
              " ('loa', 331388),\n",
              " ('samsung', 296739),\n",
              " ('ram', 200593),\n",
              " ('đẹp', 183600),\n",
              " ('apple', 177477),\n",
              " ('quốc', 159737),\n",
              " ('đen', 156571),\n",
              " ('tế', 153064),\n",
              " ('sony', 136455)]"
            ]
          },
          "metadata": {
            "tags": []
          },
          "execution_count": 53
        }
      ]
    },
    {
      "cell_type": "code",
      "metadata": {
        "id": "y6aXoAy5vGnq",
        "colab_type": "code",
        "colab": {}
      },
      "source": [
        "most_actived = interactions.groupby('adlist_id', as_index=False).count().sort_values('user_fingerprint', ascending=False).head(100000)['adlist_id']\n",
        "most_actived_id = most_actived.tolist()"
      ],
      "execution_count": 0,
      "outputs": []
    },
    {
      "cell_type": "code",
      "metadata": {
        "id": "1ukvKnhcanx9",
        "colab_type": "code",
        "outputId": "a23468fa-03a1-4855-9a40-c09724e08d6b",
        "colab": {
          "base_uri": "https://localhost:8080/",
          "height": 54
        }
      },
      "source": [
        "extracted_ads = ads[ads['list_id'].isin(most_actived_id)]\n",
        "extracted_ads = filter_irrelevant_keyword(extracted_ads)"
      ],
      "execution_count": 0,
      "outputs": [
        {
          "output_type": "stream",
          "text": [
            "/usr/local/lib/python3.6/dist-packages/pandas/core/strings.py:1843: UserWarning: This pattern has match groups. To actually get the groups, use str.extract.\n",
            "  return func(self, *args, **kwargs)\n"
          ],
          "name": "stderr"
        }
      ]
    },
    {
      "cell_type": "markdown",
      "metadata": {
        "id": "RVjpm_Bp9SCr",
        "colab_type": "text"
      },
      "source": [
        "## Collection"
      ]
    },
    {
      "cell_type": "code",
      "metadata": {
        "id": "17GTXdpevjy_",
        "colab_type": "code",
        "colab": {}
      },
      "source": [
        "def collection(keyword,num):\n",
        "    return extracted_ads[(extracted_ads['subject'].str.contains(keyword))].head(num)"
      ],
      "execution_count": 0,
      "outputs": []
    },
    {
      "cell_type": "code",
      "metadata": {
        "id": "0spMNEmhv9lp",
        "colab_type": "code",
        "outputId": "a46b4f46-a203-4242-bc20-73d00782810a",
        "colab": {
          "base_uri": "https://localhost:8080/",
          "height": 702
        }
      },
      "source": [
        "iphone_collection = collection(\"iphone\", 5)\n",
        "iphone_collection"
      ],
      "execution_count": 0,
      "outputs": [
        {
          "output_type": "execute_result",
          "data": {
            "text/html": [
              "<div>\n",
              "<style scoped>\n",
              "    .dataframe tbody tr th:only-of-type {\n",
              "        vertical-align: middle;\n",
              "    }\n",
              "\n",
              "    .dataframe tbody tr th {\n",
              "        vertical-align: top;\n",
              "    }\n",
              "\n",
              "    .dataframe thead th {\n",
              "        text-align: right;\n",
              "    }\n",
              "</style>\n",
              "<table border=\"1\" class=\"dataframe\">\n",
              "  <thead>\n",
              "    <tr style=\"text-align: right;\">\n",
              "      <th></th>\n",
              "      <th>ad_id</th>\n",
              "      <th>category</th>\n",
              "      <th>category_name</th>\n",
              "      <th>list_id</th>\n",
              "      <th>subject</th>\n",
              "      <th>number_of_images</th>\n",
              "      <th>price</th>\n",
              "      <th>company_ad</th>\n",
              "      <th>seller_type</th>\n",
              "      <th>on_listing</th>\n",
              "      <th>in_shop</th>\n",
              "      <th>city</th>\n",
              "      <th>city_id</th>\n",
              "      <th>region</th>\n",
              "      <th>region_id</th>\n",
              "      <th>district</th>\n",
              "      <th>ward</th>\n",
              "      <th>shop_id</th>\n",
              "      <th>address</th>\n",
              "      <th>street</th>\n",
              "    </tr>\n",
              "  </thead>\n",
              "  <tbody>\n",
              "    <tr>\n",
              "      <th>12765</th>\n",
              "      <td>91317145</td>\n",
              "      <td>5040</td>\n",
              "      <td>Tablets</td>\n",
              "      <td>63049946</td>\n",
              "      <td>cần bán ipad mini 3 hoặc gl đồ iphone hoặc đt ...</td>\n",
              "      <td>6</td>\n",
              "      <td>4000000.0</td>\n",
              "      <td>False</td>\n",
              "      <td>private</td>\n",
              "      <td>True</td>\n",
              "      <td>False</td>\n",
              "      <td>Tp Hồ Chí Minh</td>\n",
              "      <td>13000.0</td>\n",
              "      <td>Tp Hồ Chí Minh</td>\n",
              "      <td>13.0</td>\n",
              "      <td>Quận Tân Phú</td>\n",
              "      <td>Phường Sơn Kỳ</td>\n",
              "      <td>NaN</td>\n",
              "      <td>NaN</td>\n",
              "      <td>NaN</td>\n",
              "    </tr>\n",
              "    <tr>\n",
              "      <th>13154</th>\n",
              "      <td>91488541</td>\n",
              "      <td>5040</td>\n",
              "      <td>Tablets</td>\n",
              "      <td>63183591</td>\n",
              "      <td>ipad mini 2 16g zin tất cả,có gl iphone</td>\n",
              "      <td>3</td>\n",
              "      <td>2300000.0</td>\n",
              "      <td>False</td>\n",
              "      <td>private</td>\n",
              "      <td>True</td>\n",
              "      <td>False</td>\n",
              "      <td>Tp Hồ Chí Minh</td>\n",
              "      <td>13000.0</td>\n",
              "      <td>Tp Hồ Chí Minh</td>\n",
              "      <td>13.0</td>\n",
              "      <td>Huyện Hóc Môn</td>\n",
              "      <td>Xã Xuân Thới Thượng</td>\n",
              "      <td>NaN</td>\n",
              "      <td>NaN</td>\n",
              "      <td>NaN</td>\n",
              "    </tr>\n",
              "    <tr>\n",
              "      <th>14700</th>\n",
              "      <td>91049798</td>\n",
              "      <td>5040</td>\n",
              "      <td>Tablets</td>\n",
              "      <td>62838299</td>\n",
              "      <td>ipad2 bản wifi bán hoặc đổi iphone 5s hoặc son...</td>\n",
              "      <td>5</td>\n",
              "      <td>1200000.0</td>\n",
              "      <td>False</td>\n",
              "      <td>private</td>\n",
              "      <td>True</td>\n",
              "      <td>False</td>\n",
              "      <td>Hà Nội</td>\n",
              "      <td>12000.0</td>\n",
              "      <td>Hà Nội</td>\n",
              "      <td>12.0</td>\n",
              "      <td>Huyện Quốc Oai</td>\n",
              "      <td>Xã Phú Mãn</td>\n",
              "      <td>NaN</td>\n",
              "      <td>NaN</td>\n",
              "      <td>NaN</td>\n",
              "    </tr>\n",
              "    <tr>\n",
              "      <th>15737</th>\n",
              "      <td>91458490</td>\n",
              "      <td>5040</td>\n",
              "      <td>Tablets</td>\n",
              "      <td>63160881</td>\n",
              "      <td>e cam kết báo chuẩn iphone 6s 32gb quốc tế cho...</td>\n",
              "      <td>3</td>\n",
              "      <td>2750000.0</td>\n",
              "      <td>True</td>\n",
              "      <td>pro</td>\n",
              "      <td>True</td>\n",
              "      <td>False</td>\n",
              "      <td>Hà Nội</td>\n",
              "      <td>12000.0</td>\n",
              "      <td>Hà Nội</td>\n",
              "      <td>12.0</td>\n",
              "      <td>Quận Đống Đa</td>\n",
              "      <td>Phường Quang Trung</td>\n",
              "      <td>NaN</td>\n",
              "      <td>NaN</td>\n",
              "      <td>NaN</td>\n",
              "    </tr>\n",
              "    <tr>\n",
              "      <th>15817</th>\n",
              "      <td>91458309</td>\n",
              "      <td>5040</td>\n",
              "      <td>Tablets</td>\n",
              "      <td>63160696</td>\n",
              "      <td>iphone 7 chỉ 3950k máy zin quốc tế</td>\n",
              "      <td>3</td>\n",
              "      <td>3950000.0</td>\n",
              "      <td>True</td>\n",
              "      <td>pro</td>\n",
              "      <td>True</td>\n",
              "      <td>False</td>\n",
              "      <td>Hà Nội</td>\n",
              "      <td>12000.0</td>\n",
              "      <td>Hà Nội</td>\n",
              "      <td>12.0</td>\n",
              "      <td>Quận Đống Đa</td>\n",
              "      <td>Phường Quang Trung</td>\n",
              "      <td>NaN</td>\n",
              "      <td>NaN</td>\n",
              "      <td>NaN</td>\n",
              "    </tr>\n",
              "  </tbody>\n",
              "</table>\n",
              "</div>"
            ],
            "text/plain": [
              "          ad_id  category category_name  ...  shop_id address  street\n",
              "12765  91317145      5040       Tablets  ...      NaN     NaN     NaN\n",
              "13154  91488541      5040       Tablets  ...      NaN     NaN     NaN\n",
              "14700  91049798      5040       Tablets  ...      NaN     NaN     NaN\n",
              "15737  91458490      5040       Tablets  ...      NaN     NaN     NaN\n",
              "15817  91458309      5040       Tablets  ...      NaN     NaN     NaN\n",
              "\n",
              "[5 rows x 20 columns]"
            ]
          },
          "metadata": {
            "tags": []
          },
          "execution_count": 67
        }
      ]
    },
    {
      "cell_type": "code",
      "metadata": {
        "id": "VqvelFwXw2GG",
        "colab_type": "code",
        "colab": {}
      },
      "source": [
        "iphone_collection.to_json(\"./iphone_collection.json\", orient='records')"
      ],
      "execution_count": 0,
      "outputs": []
    },
    {
      "cell_type": "code",
      "metadata": {
        "id": "ePoH9bXfw_td",
        "colab_type": "code",
        "colab": {}
      },
      "source": [
        "samsung_collection = collection(\"samsung\", 5)\n",
        "samsung_collection.to_json(\"./samsung_collection.json\", orient='records')"
      ],
      "execution_count": 0,
      "outputs": []
    },
    {
      "cell_type": "code",
      "metadata": {
        "id": "OGOD3HLsxYI4",
        "colab_type": "code",
        "colab": {}
      },
      "source": [
        "loa_collection = collection(\"loa\", 5)\n",
        "loa_collection.to_json(\"./loa_collection.json\", orient='records')"
      ],
      "execution_count": 0,
      "outputs": []
    },
    {
      "cell_type": "code",
      "metadata": {
        "id": "Ar9XgfdOxdwJ",
        "colab_type": "code",
        "colab": {}
      },
      "source": [
        "ram_collection = collection(\"ram\", 5)\n",
        "ram_collection.to_json(\"./ram_collection.json\", orient='records')"
      ],
      "execution_count": 0,
      "outputs": []
    },
    {
      "cell_type": "code",
      "metadata": {
        "id": "aIXSuc7BxnuD",
        "colab_type": "code",
        "colab": {}
      },
      "source": [
        "sony_collection = collection(\"sony\", 5)\n",
        "sony_collection.to_json(\"./sony_collection.json\", orient='records')"
      ],
      "execution_count": 0,
      "outputs": []
    },
    {
      "cell_type": "markdown",
      "metadata": {
        "id": "wwS74LFxtg-a",
        "colab_type": "text"
      },
      "source": [
        "#Item recommendation"
      ]
    },
    {
      "cell_type": "code",
      "metadata": {
        "id": "6k_Rrm9LFVse",
        "colab_type": "code",
        "colab": {}
      },
      "source": [
        "interactions = pd.read_json(base_path + './adstats0.json')\n",
        "interactions1 = pd.read_json(base_path + './adstats1.json')\n",
        "interactions2 = pd.read_json(base_path + './adstats2.json')\n",
        "interactions = interactions.append(interactions1)\n",
        "interactions = interactions.append(interactions2)"
      ],
      "execution_count": 0,
      "outputs": []
    },
    {
      "cell_type": "code",
      "metadata": {
        "id": "5odlX9puFWy3",
        "colab_type": "code",
        "colab": {}
      },
      "source": [
        "ads = pd.read_json(base_path + '/ads')"
      ],
      "execution_count": 0,
      "outputs": []
    },
    {
      "cell_type": "code",
      "metadata": {
        "id": "6qfUmLglH4VP",
        "colab_type": "code",
        "outputId": "1a5aefbf-15e8-4f75-c1e7-6fde7d337c08",
        "colab": {
          "base_uri": "https://localhost:8080/",
          "height": 302
        }
      },
      "source": [
        "interactions.info()"
      ],
      "execution_count": 6,
      "outputs": [
        {
          "output_type": "stream",
          "text": [
            "<class 'pandas.core.frame.DataFrame'>\n",
            "Int64Index: 3156917 entries, 0 to 1577583\n",
            "Data columns (total 12 columns):\n",
            "user_fingerprint      object\n",
            "event_type            object\n",
            "event_name            object\n",
            "event_server_time     datetime64[ns]\n",
            "filter_keyword        object\n",
            "filter_category_id    int64\n",
            "filter_region_id      int64\n",
            "adlist_id             int64\n",
            "filter_type           object\n",
            "filter_price          object\n",
            "filter_brand          object\n",
            "filter_model          object\n",
            "dtypes: datetime64[ns](1), int64(3), object(8)\n",
            "memory usage: 313.1+ MB\n"
          ],
          "name": "stdout"
        }
      ]
    },
    {
      "cell_type": "code",
      "metadata": {
        "id": "xZ5uSMpOH6z6",
        "colab_type": "code",
        "outputId": "8c3a03c6-c642-49d5-cc6a-ab7d800b400e",
        "colab": {
          "base_uri": "https://localhost:8080/",
          "height": 457
        }
      },
      "source": [
        "ads.info()\n"
      ],
      "execution_count": 0,
      "outputs": [
        {
          "output_type": "stream",
          "text": [
            "<class 'pandas.core.frame.DataFrame'>\n",
            "RangeIndex: 307297 entries, 0 to 307296\n",
            "Data columns (total 20 columns):\n",
            "ad_id               307297 non-null int64\n",
            "category            307297 non-null int64\n",
            "category_name       307297 non-null object\n",
            "list_id             307297 non-null int64\n",
            "subject             307297 non-null object\n",
            "number_of_images    307297 non-null int64\n",
            "price               304565 non-null float64\n",
            "company_ad          307297 non-null bool\n",
            "seller_type         307297 non-null object\n",
            "on_listing          307297 non-null bool\n",
            "in_shop             307297 non-null bool\n",
            "city                307296 non-null object\n",
            "city_id             307296 non-null float64\n",
            "region              306604 non-null object\n",
            "region_id           306604 non-null float64\n",
            "district            307186 non-null object\n",
            "ward                252425 non-null object\n",
            "shop_id             13271 non-null float64\n",
            "address             0 non-null float64\n",
            "street              0 non-null float64\n",
            "dtypes: bool(3), float64(6), int64(4), object(7)\n",
            "memory usage: 40.7+ MB\n"
          ],
          "name": "stdout"
        }
      ]
    },
    {
      "cell_type": "code",
      "metadata": {
        "id": "95vblyxgHxmM",
        "colab_type": "code",
        "colab": {}
      },
      "source": [
        "df = pd.merge(interactions[['user_fingerprint','event_type','event_name','adlist_id']], ads[['list_id','subject']], how='inner', left_on='adlist_id', right_on='list_id')"
      ],
      "execution_count": 0,
      "outputs": []
    },
    {
      "cell_type": "code",
      "metadata": {
        "id": "JZ_zv3PbFGWt",
        "colab_type": "code",
        "outputId": "fea16222-64d4-4398-fe7f-b3c82d2d7822",
        "colab": {
          "base_uri": "https://localhost:8080/",
          "height": 235
        }
      },
      "source": [
        "df['event_name'].value_counts()"
      ],
      "execution_count": 22,
      "outputs": [
        {
          "output_type": "execute_result",
          "data": {
            "text/plain": [
              "adlisting/CLASSIFYAD_LOAD       4163785\n",
              "adlisting/STICKYAD_LOAD          223985\n",
              "adview/ADVIEW_LOAD               153921\n",
              "adlisting/ADVIEW_CLICK           117867\n",
              "adview/SIMILARAD_LOAD             56058\n",
              "adview/CHAT_CLICK                  2808\n",
              "adview/CALL_CLICK                  1954\n",
              "adview/SMS_CLICK                   1244\n",
              "adview/CALL_CLICK_BODY              675\n",
              "adview/SHOW_PHONE_CLICK             235\n",
              "adlisting/GALLERYAD_LOAD            215\n",
              "adview/SHOW_PHONE_CLICK_BODY         31\n",
              "Name: event_name, dtype: int64"
            ]
          },
          "metadata": {
            "tags": []
          },
          "execution_count": 22
        }
      ]
    },
    {
      "cell_type": "code",
      "metadata": {
        "id": "Na68bTKi7NvF",
        "colab_type": "code",
        "colab": {}
      },
      "source": [
        "event_name_strength = {\n",
        "    'adlisting/CLASSIFYAD_LOAD': 1.0, \n",
        "    'adlisting/STICKYAD_LOAD': 1.0, \n",
        "    'adview/ADVIEW_LOAD': 3.0,\n",
        "    'adlisting/ADVIEW_CLICK':3.0,\n",
        "    'adview/SIMILARAD_LOAD': 2.0,\n",
        "    'adview/CHAT_CLICK': 4.0,\n",
        "    'adview/CALL_CLICK': 5.0,\n",
        "    'adview/SMS_CLICK': 4.0,\n",
        "    'adview/CALL_CLICK_BODY': 5.0,\n",
        "    'adview/SHOW_PHONE_CLICK': 4.0,\n",
        "    'adlisting/GALLERYAD_LOAD': 1.0,\n",
        "    'adview/SHOW_PHONE_CLICK_BODY':3.0}\n",
        "df['event_name_strength'] = df['event_name'].apply(lambda x: event_name_strength[x])"
      ],
      "execution_count": 0,
      "outputs": []
    },
    {
      "cell_type": "code",
      "metadata": {
        "id": "Khcot5NS9pKj",
        "colab_type": "code",
        "colab": {}
      },
      "source": [
        "df.drop(columns=['list_id'], inplace=True)"
      ],
      "execution_count": 0,
      "outputs": []
    },
    {
      "cell_type": "code",
      "metadata": {
        "id": "WTON9o7T9Uwq",
        "colab_type": "code",
        "colab": {}
      },
      "source": [
        "grouped_df = df.groupby(['user_fingerprint', 'adlist_id', 'subject']).sum().reset_index()"
      ],
      "execution_count": 0,
      "outputs": []
    },
    {
      "cell_type": "code",
      "metadata": {
        "id": "9OnCPvJb_Kau",
        "colab_type": "code",
        "outputId": "89ecd475-fc68-4dfe-cbe4-484bb2bdf67d",
        "colab": {
          "base_uri": "https://localhost:8080/",
          "height": 195
        }
      },
      "source": [
        "grouped_df.sample(5)"
      ],
      "execution_count": 25,
      "outputs": [
        {
          "output_type": "execute_result",
          "data": {
            "text/html": [
              "<div>\n",
              "<style scoped>\n",
              "    .dataframe tbody tr th:only-of-type {\n",
              "        vertical-align: middle;\n",
              "    }\n",
              "\n",
              "    .dataframe tbody tr th {\n",
              "        vertical-align: top;\n",
              "    }\n",
              "\n",
              "    .dataframe thead th {\n",
              "        text-align: right;\n",
              "    }\n",
              "</style>\n",
              "<table border=\"1\" class=\"dataframe\">\n",
              "  <thead>\n",
              "    <tr style=\"text-align: right;\">\n",
              "      <th></th>\n",
              "      <th>user_fingerprint</th>\n",
              "      <th>adlist_id</th>\n",
              "      <th>subject</th>\n",
              "      <th>event_name_strength</th>\n",
              "    </tr>\n",
              "  </thead>\n",
              "  <tbody>\n",
              "    <tr>\n",
              "      <th>1038708</th>\n",
              "      <td>6630f20e-8de1-4c6f-80cd-711c55f8cdda</td>\n",
              "      <td>60099295</td>\n",
              "      <td>sony xperia xz2 quốc tế 64gb | hỗ trợ góp 0%</td>\n",
              "      <td>1.0</td>\n",
              "    </tr>\n",
              "    <tr>\n",
              "      <th>343223</th>\n",
              "      <td>13ad1e48-0932-4baa-ad74-2e5d677df481</td>\n",
              "      <td>62854261</td>\n",
              "      <td>cần bán iphone 8 plus bạc</td>\n",
              "      <td>1.0</td>\n",
              "    </tr>\n",
              "    <tr>\n",
              "      <th>1755043</th>\n",
              "      <td>ad0fddea-7f8d-4406-83b8-3a9ebd6cda1e</td>\n",
              "      <td>63082660</td>\n",
              "      <td>xiaomi pocophone f1 giao lưu</td>\n",
              "      <td>5.0</td>\n",
              "    </tr>\n",
              "    <tr>\n",
              "      <th>2097521</th>\n",
              "      <td>d2a5e7b9-6192-4b8f-aeec-9ff067045a5c</td>\n",
              "      <td>63055321</td>\n",
              "      <td>vang cơ shbod t10</td>\n",
              "      <td>1.0</td>\n",
              "    </tr>\n",
              "    <tr>\n",
              "      <th>893063</th>\n",
              "      <td>511c1440-670a-4d10-9936-1c3f75d502f9</td>\n",
              "      <td>62625025</td>\n",
              "      <td>nokia 6500s trượt màu đen</td>\n",
              "      <td>1.0</td>\n",
              "    </tr>\n",
              "  </tbody>\n",
              "</table>\n",
              "</div>"
            ],
            "text/plain": [
              "                             user_fingerprint  ...  event_name_strength\n",
              "1038708  6630f20e-8de1-4c6f-80cd-711c55f8cdda  ...                  1.0\n",
              "343223   13ad1e48-0932-4baa-ad74-2e5d677df481  ...                  1.0\n",
              "1755043  ad0fddea-7f8d-4406-83b8-3a9ebd6cda1e  ...                  5.0\n",
              "2097521  d2a5e7b9-6192-4b8f-aeec-9ff067045a5c  ...                  1.0\n",
              "893063   511c1440-670a-4d10-9936-1c3f75d502f9  ...                  1.0\n",
              "\n",
              "[5 rows x 4 columns]"
            ]
          },
          "metadata": {
            "tags": []
          },
          "execution_count": 25
        }
      ]
    },
    {
      "cell_type": "code",
      "metadata": {
        "id": "qUUtfAYlEJOD",
        "colab_type": "code",
        "colab": {}
      },
      "source": [
        "grouped_df['user_fingerprint'] = grouped_df['user_fingerprint'].astype(\"category\")\n",
        "grouped_df['adlist_id'] = grouped_df['adlist_id'].astype(\"category\")\n",
        "grouped_df['subject'] = grouped_df['subject'].astype(\"category\")\n",
        "grouped_df['user_fingerprint_code'] = grouped_df['user_fingerprint'].cat.codes\n",
        "grouped_df['adlist_id_code'] = grouped_df['adlist_id'].cat.codes"
      ],
      "execution_count": 0,
      "outputs": []
    },
    {
      "cell_type": "code",
      "metadata": {
        "id": "zKIhaSLgloKI",
        "colab_type": "code",
        "outputId": "94b2b20b-1f75-4f8b-a706-55c1f7acd885",
        "colab": {
          "base_uri": "https://localhost:8080/",
          "height": 255
        }
      },
      "source": [
        "!pip install implicit\n",
        "import implicit\n",
        "import scipy.sparse as sparse\n",
        "from sklearn.preprocessing import MinMaxScaler"
      ],
      "execution_count": 10,
      "outputs": [
        {
          "output_type": "stream",
          "text": [
            "Collecting implicit\n",
            "\u001b[?25l  Downloading https://files.pythonhosted.org/packages/5a/d8/6b4f1374ffa2647b72ac76960c71b984c6f3238090359fb419d03827d87a/implicit-0.4.2.tar.gz (1.1MB)\n",
            "\r\u001b[K     |▎                               | 10kB 30.6MB/s eta 0:00:01\r\u001b[K     |▋                               | 20kB 3.2MB/s eta 0:00:01\r\u001b[K     |▉                               | 30kB 4.7MB/s eta 0:00:01\r\u001b[K     |█▏                              | 40kB 3.0MB/s eta 0:00:01\r\u001b[K     |█▌                              | 51kB 3.8MB/s eta 0:00:01\r\u001b[K     |█▊                              | 61kB 4.5MB/s eta 0:00:01\r\u001b[K     |██                              | 71kB 5.2MB/s eta 0:00:01\r\u001b[K     |██▍                             | 81kB 5.8MB/s eta 0:00:01\r\u001b[K     |██▋                             | 92kB 6.5MB/s eta 0:00:01\r\u001b[K     |███                             | 102kB 5.0MB/s eta 0:00:01\r\u001b[K     |███▎                            | 112kB 5.0MB/s eta 0:00:01\r\u001b[K     |███▌                            | 122kB 5.0MB/s eta 0:00:01\r\u001b[K     |███▉                            | 133kB 5.0MB/s eta 0:00:01\r\u001b[K     |████▏                           | 143kB 5.0MB/s eta 0:00:01\r\u001b[K     |████▍                           | 153kB 5.0MB/s eta 0:00:01\r\u001b[K     |████▊                           | 163kB 5.0MB/s eta 0:00:01\r\u001b[K     |█████                           | 174kB 5.0MB/s eta 0:00:01\r\u001b[K     |█████▎                          | 184kB 5.0MB/s eta 0:00:01\r\u001b[K     |█████▋                          | 194kB 5.0MB/s eta 0:00:01\r\u001b[K     |█████▉                          | 204kB 5.0MB/s eta 0:00:01\r\u001b[K     |██████▏                         | 215kB 5.0MB/s eta 0:00:01\r\u001b[K     |██████▌                         | 225kB 5.0MB/s eta 0:00:01\r\u001b[K     |██████▊                         | 235kB 5.0MB/s eta 0:00:01\r\u001b[K     |███████                         | 245kB 5.0MB/s eta 0:00:01\r\u001b[K     |███████▍                        | 256kB 5.0MB/s eta 0:00:01\r\u001b[K     |███████▋                        | 266kB 5.0MB/s eta 0:00:01\r\u001b[K     |████████                        | 276kB 5.0MB/s eta 0:00:01\r\u001b[K     |████████▎                       | 286kB 5.0MB/s eta 0:00:01\r\u001b[K     |████████▌                       | 296kB 5.0MB/s eta 0:00:01\r\u001b[K     |████████▉                       | 307kB 5.0MB/s eta 0:00:01\r\u001b[K     |█████████                       | 317kB 5.0MB/s eta 0:00:01\r\u001b[K     |█████████▍                      | 327kB 5.0MB/s eta 0:00:01\r\u001b[K     |█████████▊                      | 337kB 5.0MB/s eta 0:00:01\r\u001b[K     |██████████                      | 348kB 5.0MB/s eta 0:00:01\r\u001b[K     |██████████▎                     | 358kB 5.0MB/s eta 0:00:01\r\u001b[K     |██████████▋                     | 368kB 5.0MB/s eta 0:00:01\r\u001b[K     |██████████▉                     | 378kB 5.0MB/s eta 0:00:01\r\u001b[K     |███████████▏                    | 389kB 5.0MB/s eta 0:00:01\r\u001b[K     |███████████▌                    | 399kB 5.0MB/s eta 0:00:01\r\u001b[K     |███████████▊                    | 409kB 5.0MB/s eta 0:00:01\r\u001b[K     |████████████                    | 419kB 5.0MB/s eta 0:00:01\r\u001b[K     |████████████▍                   | 430kB 5.0MB/s eta 0:00:01\r\u001b[K     |████████████▋                   | 440kB 5.0MB/s eta 0:00:01\r\u001b[K     |█████████████                   | 450kB 5.0MB/s eta 0:00:01\r\u001b[K     |█████████████▏                  | 460kB 5.0MB/s eta 0:00:01\r\u001b[K     |█████████████▌                  | 471kB 5.0MB/s eta 0:00:01\r\u001b[K     |█████████████▉                  | 481kB 5.0MB/s eta 0:00:01\r\u001b[K     |██████████████                  | 491kB 5.0MB/s eta 0:00:01\r\u001b[K     |██████████████▍                 | 501kB 5.0MB/s eta 0:00:01\r\u001b[K     |██████████████▊                 | 512kB 5.0MB/s eta 0:00:01\r\u001b[K     |███████████████                 | 522kB 5.0MB/s eta 0:00:01\r\u001b[K     |███████████████▎                | 532kB 5.0MB/s eta 0:00:01\r\u001b[K     |███████████████▋                | 542kB 5.0MB/s eta 0:00:01\r\u001b[K     |███████████████▉                | 552kB 5.0MB/s eta 0:00:01\r\u001b[K     |████████████████▏               | 563kB 5.0MB/s eta 0:00:01\r\u001b[K     |████████████████▌               | 573kB 5.0MB/s eta 0:00:01\r\u001b[K     |████████████████▊               | 583kB 5.0MB/s eta 0:00:01\r\u001b[K     |█████████████████               | 593kB 5.0MB/s eta 0:00:01\r\u001b[K     |█████████████████▍              | 604kB 5.0MB/s eta 0:00:01\r\u001b[K     |█████████████████▋              | 614kB 5.0MB/s eta 0:00:01\r\u001b[K     |██████████████████              | 624kB 5.0MB/s eta 0:00:01\r\u001b[K     |██████████████████▏             | 634kB 5.0MB/s eta 0:00:01\r\u001b[K     |██████████████████▌             | 645kB 5.0MB/s eta 0:00:01\r\u001b[K     |██████████████████▉             | 655kB 5.0MB/s eta 0:00:01\r\u001b[K     |███████████████████             | 665kB 5.0MB/s eta 0:00:01\r\u001b[K     |███████████████████▍            | 675kB 5.0MB/s eta 0:00:01\r\u001b[K     |███████████████████▊            | 686kB 5.0MB/s eta 0:00:01\r\u001b[K     |████████████████████            | 696kB 5.0MB/s eta 0:00:01\r\u001b[K     |████████████████████▎           | 706kB 5.0MB/s eta 0:00:01\r\u001b[K     |████████████████████▋           | 716kB 5.0MB/s eta 0:00:01\r\u001b[K     |████████████████████▉           | 727kB 5.0MB/s eta 0:00:01\r\u001b[K     |█████████████████████▏          | 737kB 5.0MB/s eta 0:00:01\r\u001b[K     |█████████████████████▌          | 747kB 5.0MB/s eta 0:00:01\r\u001b[K     |█████████████████████▊          | 757kB 5.0MB/s eta 0:00:01\r\u001b[K     |██████████████████████          | 768kB 5.0MB/s eta 0:00:01\r\u001b[K     |██████████████████████▎         | 778kB 5.0MB/s eta 0:00:01\r\u001b[K     |██████████████████████▋         | 788kB 5.0MB/s eta 0:00:01\r\u001b[K     |███████████████████████         | 798kB 5.0MB/s eta 0:00:01\r\u001b[K     |███████████████████████▏        | 808kB 5.0MB/s eta 0:00:01\r\u001b[K     |███████████████████████▌        | 819kB 5.0MB/s eta 0:00:01\r\u001b[K     |███████████████████████▉        | 829kB 5.0MB/s eta 0:00:01\r\u001b[K     |████████████████████████        | 839kB 5.0MB/s eta 0:00:01\r\u001b[K     |████████████████████████▍       | 849kB 5.0MB/s eta 0:00:01\r\u001b[K     |████████████████████████▊       | 860kB 5.0MB/s eta 0:00:01\r\u001b[K     |█████████████████████████       | 870kB 5.0MB/s eta 0:00:01\r\u001b[K     |█████████████████████████▎      | 880kB 5.0MB/s eta 0:00:01\r\u001b[K     |█████████████████████████▋      | 890kB 5.0MB/s eta 0:00:01\r\u001b[K     |█████████████████████████▉      | 901kB 5.0MB/s eta 0:00:01\r\u001b[K     |██████████████████████████▏     | 911kB 5.0MB/s eta 0:00:01\r\u001b[K     |██████████████████████████▍     | 921kB 5.0MB/s eta 0:00:01\r\u001b[K     |██████████████████████████▊     | 931kB 5.0MB/s eta 0:00:01\r\u001b[K     |███████████████████████████     | 942kB 5.0MB/s eta 0:00:01\r\u001b[K     |███████████████████████████▎    | 952kB 5.0MB/s eta 0:00:01\r\u001b[K     |███████████████████████████▋    | 962kB 5.0MB/s eta 0:00:01\r\u001b[K     |████████████████████████████    | 972kB 5.0MB/s eta 0:00:01\r\u001b[K     |████████████████████████████▏   | 983kB 5.0MB/s eta 0:00:01\r\u001b[K     |████████████████████████████▌   | 993kB 5.0MB/s eta 0:00:01\r\u001b[K     |████████████████████████████▉   | 1.0MB 5.0MB/s eta 0:00:01\r\u001b[K     |█████████████████████████████   | 1.0MB 5.0MB/s eta 0:00:01\r\u001b[K     |█████████████████████████████▍  | 1.0MB 5.0MB/s eta 0:00:01\r\u001b[K     |█████████████████████████████▊  | 1.0MB 5.0MB/s eta 0:00:01\r\u001b[K     |██████████████████████████████  | 1.0MB 5.0MB/s eta 0:00:01\r\u001b[K     |██████████████████████████████▎ | 1.1MB 5.0MB/s eta 0:00:01\r\u001b[K     |██████████████████████████████▌ | 1.1MB 5.0MB/s eta 0:00:01\r\u001b[K     |██████████████████████████████▉ | 1.1MB 5.0MB/s eta 0:00:01\r\u001b[K     |███████████████████████████████▏| 1.1MB 5.0MB/s eta 0:00:01\r\u001b[K     |███████████████████████████████▍| 1.1MB 5.0MB/s eta 0:00:01\r\u001b[K     |███████████████████████████████▊| 1.1MB 5.0MB/s eta 0:00:01\r\u001b[K     |████████████████████████████████| 1.1MB 5.0MB/s \n",
            "\u001b[?25hRequirement already satisfied: numpy in /usr/local/lib/python3.6/dist-packages (from implicit) (1.17.4)\n",
            "Requirement already satisfied: scipy>=0.16 in /usr/local/lib/python3.6/dist-packages (from implicit) (1.3.3)\n",
            "Requirement already satisfied: tqdm>=4.27 in /usr/local/lib/python3.6/dist-packages (from implicit) (4.28.1)\n",
            "Building wheels for collected packages: implicit\n",
            "  Building wheel for implicit (setup.py) ... \u001b[?25l\u001b[?25hdone\n",
            "  Created wheel for implicit: filename=implicit-0.4.2-cp36-cp36m-linux_x86_64.whl size=3471596 sha256=4a1726f31eb440c22fdfb2cefb350f2b1ea425f4cf6e7b563194928dc2d99221\n",
            "  Stored in directory: /root/.cache/pip/wheels/1b/48/b1/1aebe3acc3afb5589e72d3e7c3ffc3f637dc4721c1a974dff7\n",
            "Successfully built implicit\n",
            "Installing collected packages: implicit\n",
            "Successfully installed implicit-0.4.2\n"
          ],
          "name": "stdout"
        }
      ]
    },
    {
      "cell_type": "code",
      "metadata": {
        "id": "A4mUV9lxkSBd",
        "colab_type": "code",
        "outputId": "789d94d2-35c0-411c-dc64-5274d07646e2",
        "colab": {
          "base_uri": "https://localhost:8080/",
          "height": 102,
          "referenced_widgets": [
            "9cbe26ceff6d4f20841bac333956a2dd",
            "f7883a31b3a04bf395c1d01e44e66164",
            "41f6d57946e0440a9987986a929093a5",
            "60ea68fe27664280b74fad601f0cf9b7",
            "31ee1bf31f8f4a739b7c67bfd949790d",
            "2a7cbc1f12714c36943c30546a47b056",
            "248d99e912424c3faa5be31d8209c654",
            "56297de7dbba42489b376f1e4c0154ed"
          ]
        }
      },
      "source": [
        "sparse_content_person = sparse.csr_matrix((grouped_df['event_name_strength'].astype(float), (grouped_df['user_fingerprint_code'], grouped_df['adlist_id_code'])))\n",
        "sparse_person_content = sparse.csr_matrix((grouped_df['event_name_strength'].astype(float), (grouped_df['adlist_id_code'], grouped_df['user_fingerprint_code'])))\n",
        "\n",
        "model = implicit.als.AlternatingLeastSquares(factors=32, regularization=0.1, iterations=50, use_cg=True)\n",
        "\n",
        "alpha = 15\n",
        "data = (sparse_content_person * alpha).astype('double')\n",
        "model.fit(data)"
      ],
      "execution_count": 11,
      "outputs": [
        {
          "output_type": "stream",
          "text": [
            "WARNING:root:OpenBLAS detected. Its highly recommend to set the environment variable 'export OPENBLAS_NUM_THREADS=1' to disable its internal multithreading\n"
          ],
          "name": "stderr"
        },
        {
          "output_type": "display_data",
          "data": {
            "application/vnd.jupyter.widget-view+json": {
              "model_id": "9cbe26ceff6d4f20841bac333956a2dd",
              "version_minor": 0,
              "version_major": 2
            },
            "text/plain": [
              "HBox(children=(IntProgress(value=0, max=50), HTML(value='')))"
            ]
          },
          "metadata": {
            "tags": []
          }
        },
        {
          "output_type": "stream",
          "text": [
            "\n"
          ],
          "name": "stdout"
        }
      ]
    },
    {
      "cell_type": "code",
      "metadata": {
        "id": "zBWqBRQWQPig",
        "colab_type": "code",
        "outputId": "8cbcfc5d-a83e-43f1-a606-728aeb0d796c",
        "colab": {
          "base_uri": "https://localhost:8080/",
          "height": 202
        }
      },
      "source": [
        "grouped_df.info()"
      ],
      "execution_count": 12,
      "outputs": [
        {
          "output_type": "stream",
          "text": [
            "<class 'pandas.core.frame.DataFrame'>\n",
            "RangeIndex: 2496007 entries, 0 to 2496006\n",
            "Data columns (total 6 columns):\n",
            "user_fingerprint         category\n",
            "adlist_id                category\n",
            "subject                  category\n",
            "event_name_strength      float64\n",
            "user_fingerprint_code    int16\n",
            "adlist_id_code           int32\n",
            "dtypes: category(3), float64(1), int16(1), int32(1)\n",
            "memory usage: 81.1 MB\n"
          ],
          "name": "stdout"
        }
      ]
    },
    {
      "cell_type": "code",
      "metadata": {
        "id": "fbBSMvpvFYRs",
        "colab_type": "code",
        "outputId": "aa9cb66e-405a-485d-e6ce-690d57e83f3c",
        "colab": {
          "base_uri": "https://localhost:8080/",
          "height": 202
        }
      },
      "source": [
        "def recommend(user_fingerprint, sparse_person_content, person_vecs, content_vecs, num_contents=10):\n",
        "    # Get the interactions scores from the sparse person content matrix\n",
        "    person_interactions = sparse_person_content[user_fingerprint,:].toarray()\n",
        "    # Add 1 to everything, so that articles with no interaction yet become equal to 1\n",
        "    person_interactions = person_interactions.reshape(-1) + 1\n",
        "    # Make articles already interacted zero\n",
        "    person_interactions[person_interactions > 1] = 0\n",
        "    # Get dot product of person vector and all content vectors\n",
        "    rec_vector = person_vecs[user_fingerprint,:].dot(content_vecs.T).toarray()\n",
        "    \n",
        "    # Scale this recommendation vector between 0 and 1\n",
        "    min_max = MinMaxScaler()\n",
        "    rec_vector_scaled = min_max.fit_transform(rec_vector.reshape(-1,1))[:,0]\n",
        "    # Content already interacted have their recommendation multiplied by zero\n",
        "    recommend_vector = person_interactions * rec_vector_scaled\n",
        "    # Sort the indices of the content into order of best recommendations\n",
        "    content_idx = np.argsort(recommend_vector)[::-1][:num_contents]\n",
        "    \n",
        "    # Start empty list to store subjects and scores\n",
        "    subjects = []\n",
        "    scores = []\n",
        "\n",
        "    for idx in content_idx:\n",
        "        # Append subjects and scores to the list\n",
        "        subjects.append(grouped_df.subject.loc[grouped_df.adlist_id_code == idx].iloc[0])\n",
        "        scores.append(recommend_vector[idx])\n",
        "\n",
        "    recommendations = pd.DataFrame({'subject': subjects, 'score': scores})\n",
        "\n",
        "    return recommendations\n",
        "    \n",
        "# Get the trained person and content vectors. We convert them to csr matrices\n",
        "person_vecs = sparse.csr_matrix(model.user_factors)\n",
        "content_vecs = sparse.csr_matrix(model.item_factors)\n",
        "\n",
        "# Create recommendations for person with id 50\n",
        "user_fingerprint = 50\n",
        "\n",
        "recommendations = recommend(user_fingerprint, sparse_person_content, person_vecs, content_vecs)\n",
        "\n",
        "print(recommendations)\n",
        "\n"
      ],
      "execution_count": 13,
      "outputs": [
        {
          "output_type": "stream",
          "text": [
            "                                             subject     score\n",
            "0   pc core i5 3470/vga gtx750ti 2g 2fan/gam 8g/250g  0.939936\n",
            "1        laptop hp 6560b/i5/on-rời ,full phím, mới99  0.915376\n",
            "2             iphone 6 lock 16g [ giảm giá cực sốc ]  0.803001\n",
            "3                                   mua main xác h61  0.798733\n",
            "4                                    màn hình iphone  0.787866\n",
            "5    amly vang số ca k350 hàng nhập 100% karaoke hay  0.767543\n",
            "6                               chip cpu socket 1156  0.753836\n",
            "7       iphone 6s plus qt 32g(hỗ trợ trả góp 0 đồng)  0.741606\n",
            "8   iphone 6s quốc tế 16g [giảm giá] ưu đãi lớn+quà🔥  0.732401\n",
            "9  iphone 5s quốc tế 16g - zin 100% [mới về siêu ...  0.726124\n"
          ],
          "name": "stdout"
        }
      ]
    },
    {
      "cell_type": "code",
      "metadata": {
        "id": "XTgu6I9za16I",
        "colab_type": "code",
        "colab": {
          "base_uri": "https://localhost:8080/",
          "height": 343
        },
        "outputId": "60b07f13-07ef-4fac-d76e-e53519bcd001"
      },
      "source": [
        "grouped_df.loc[grouped_df['user_fingerprint_code'] == 50].sort_values(by=['event_name_strength'], ascending=False)[['subject', 'user_fingerprint_code', 'event_name_strength']].head(10)"
      ],
      "execution_count": 17,
      "outputs": [
        {
          "output_type": "execute_result",
          "data": {
            "text/html": [
              "<div>\n",
              "<style scoped>\n",
              "    .dataframe tbody tr th:only-of-type {\n",
              "        vertical-align: middle;\n",
              "    }\n",
              "\n",
              "    .dataframe tbody tr th {\n",
              "        vertical-align: top;\n",
              "    }\n",
              "\n",
              "    .dataframe thead th {\n",
              "        text-align: right;\n",
              "    }\n",
              "</style>\n",
              "<table border=\"1\" class=\"dataframe\">\n",
              "  <thead>\n",
              "    <tr style=\"text-align: right;\">\n",
              "      <th></th>\n",
              "      <th>subject</th>\n",
              "      <th>user_fingerprint_code</th>\n",
              "      <th>event_name_strength</th>\n",
              "    </tr>\n",
              "  </thead>\n",
              "  <tbody>\n",
              "    <tr>\n",
              "      <th>252977</th>\n",
              "      <td>samsung note 10 plus bạc đa sắc - hỗ trợ góp</td>\n",
              "      <td>50</td>\n",
              "      <td>14.0</td>\n",
              "    </tr>\n",
              "    <tr>\n",
              "      <th>252403</th>\n",
              "      <td>samsung galaxy s10 plus - 8gb/128gb••[trả góp]</td>\n",
              "      <td>50</td>\n",
              "      <td>13.0</td>\n",
              "    </tr>\n",
              "    <tr>\n",
              "      <th>252976</th>\n",
              "      <td>ipad mini 1 16gb wifi black</td>\n",
              "      <td>50</td>\n",
              "      <td>13.0</td>\n",
              "    </tr>\n",
              "    <tr>\n",
              "      <th>252580</th>\n",
              "      <td>iphone xs max gray 64gb</td>\n",
              "      <td>50</td>\n",
              "      <td>10.0</td>\n",
              "    </tr>\n",
              "    <tr>\n",
              "      <th>252871</th>\n",
              "      <td>samsung galaxy tab e 8 gb máy đẹp-an tân 4</td>\n",
              "      <td>50</td>\n",
              "      <td>10.0</td>\n",
              "    </tr>\n",
              "    <tr>\n",
              "      <th>252375</th>\n",
              "      <td>trinh nữ note 5 5 năm về trước ram 4gb 64gb</td>\n",
              "      <td>50</td>\n",
              "      <td>10.0</td>\n",
              "    </tr>\n",
              "    <tr>\n",
              "      <th>252951</th>\n",
              "      <td>samsung galaxy note 5 titan 4gb/32gb zin</td>\n",
              "      <td>50</td>\n",
              "      <td>10.0</td>\n",
              "    </tr>\n",
              "    <tr>\n",
              "      <th>252401</th>\n",
              "      <td>apple iphone xs max 64 gb trắng qt bán or gl</td>\n",
              "      <td>50</td>\n",
              "      <td>9.0</td>\n",
              "    </tr>\n",
              "    <tr>\n",
              "      <th>252393</th>\n",
              "      <td>apple iphone 7 plus vàng 32 gb máy như mới</td>\n",
              "      <td>50</td>\n",
              "      <td>9.0</td>\n",
              "    </tr>\n",
              "    <tr>\n",
              "      <th>252389</th>\n",
              "      <td>build pc theo yêu cầu ngon, bổ, không rẻ</td>\n",
              "      <td>50</td>\n",
              "      <td>8.0</td>\n",
              "    </tr>\n",
              "  </tbody>\n",
              "</table>\n",
              "</div>"
            ],
            "text/plain": [
              "                                                 subject  ...  event_name_strength\n",
              "252977  samsung note 10 plus bạc đa sắc - hỗ trợ góp  ...                 14.0\n",
              "252403    samsung galaxy s10 plus - 8gb/128gb••[trả góp]  ...                 13.0\n",
              "252976                       ipad mini 1 16gb wifi black  ...                 13.0\n",
              "252580                           iphone xs max gray 64gb  ...                 10.0\n",
              "252871        samsung galaxy tab e 8 gb máy đẹp-an tân 4  ...                 10.0\n",
              "252375       trinh nữ note 5 5 năm về trước ram 4gb 64gb  ...                 10.0\n",
              "252951          samsung galaxy note 5 titan 4gb/32gb zin  ...                 10.0\n",
              "252401      apple iphone xs max 64 gb trắng qt bán or gl  ...                  9.0\n",
              "252393        apple iphone 7 plus vàng 32 gb máy như mới  ...                  9.0\n",
              "252389          build pc theo yêu cầu ngon, bổ, không rẻ  ...                  8.0\n",
              "\n",
              "[10 rows x 3 columns]"
            ]
          },
          "metadata": {
            "tags": []
          },
          "execution_count": 17
        }
      ]
    },
    {
      "cell_type": "code",
      "metadata": {
        "id": "ZedGDO3oO9S1",
        "colab_type": "code",
        "colab": {
          "base_uri": "https://localhost:8080/",
          "height": 185
        },
        "outputId": "cf11cff6-be9a-4e6e-e273-b16181f2e195"
      },
      "source": [
        "\n",
        "adlist_id_code = 151\n",
        "n_similar = 10\n",
        "\n",
        "person_vecs = model.user_factors\n",
        "content_vecs = model.item_factors\n",
        "\n",
        "content_norms = np.sqrt((content_vecs * content_vecs).sum(axis=1))\n",
        "\n",
        "scores = content_vecs.dot(content_vecs[adlist_id_code]) / content_norms\n",
        "top_idx = np.argpartition(scores, -n_similar)[-n_similar:]\n",
        "similar = sorted(zip(top_idx, scores[top_idx] / content_norms[adlist_id_code]), key=lambda x: -x[1])\n",
        "\n",
        "for content in similar:\n",
        "    idx, score = content\n",
        "    print(grouped_df.subject.loc[grouped_df.adlist_id_code == idx].iloc[0])"
      ],
      "execution_count": 21,
      "outputs": [
        {
          "output_type": "stream",
          "text": [
            "iphone 6 quốc tế 16 gb máy đẹp [bán trả góp]\n",
            "ipad gen 6 2018 32g (wifi + 4g) mới 99% bh 2020\n",
            "loa jbl-l80t( made in usa,xịn usa)\n",
            "loa đứng nhập mỹ thunder 2,mới100%,full thùng,0000\n",
            "iphone 7 quốc tế có trả góp giao lưu máy\n",
            "loa jbl ki 82(bass 30),xách tay mỹ,mới 100%,0000\n",
            "loa kenwood kl-888x\n",
            "ipad pro 10.5 wifi 512gb màu xám\n",
            "bộ máy thế hệ mới ram 8g vga 1050 main h110\n",
            "đầucd denon 1650 ar\n"
          ],
          "name": "stdout"
        }
      ]
    },
    {
      "cell_type": "code",
      "metadata": {
        "id": "_nRZWAHseJtF",
        "colab_type": "code",
        "colab": {}
      },
      "source": [
        ""
      ],
      "execution_count": 0,
      "outputs": []
    }
  ]
}